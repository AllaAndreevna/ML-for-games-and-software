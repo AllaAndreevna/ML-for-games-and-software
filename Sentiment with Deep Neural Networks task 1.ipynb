{
  "cells": [
    {
      "cell_type": "markdown",
      "metadata": {
        "id": "eM2WI45DjCVp"
      },
      "source": [
        "# Assignment 1:  Sentiment with Deep Neural Networks\n",
        "\n",
        "Welcome to the first assignment. In this assignment, you will explore sentiment analysis using deep neural networks.\n",
        "## Outline\n",
        "- [Part 1:  Import libraries and try out Trax](#1)\n",
        "- [Part 2:  Importing the data](#2)\n",
        "    - [2.1  Loading in the data](#2.1)\n",
        "    - [2.2  Building the vocabulary](#2.2)\n",
        "    - [2.3  Converting a tweet to a tensor](#2.3)\n",
        "        - [Exercise 01](#ex01)\n",
        "    - [2.4  Creating a batch generator](#2.4)\n",
        "        - [Exercise 02](#ex02)\n",
        "- [Part 3:  Defining classes](#3)\n",
        "    - [3.1  ReLU class](#3.1)\n",
        "        - [Exercise 03](#ex03)\n",
        "    - [3.2  Dense class ](#3.2)\n",
        "        - [Exercise 04](#ex04)\n",
        "    - [3.3  Model](#3.3)\n",
        "        - [Exercise 05](#ex05)\n",
        "- [Part 4:  Training](#4)\n",
        "    - [4.1  Training the model](#4.1)\n",
        "        - [Exercise 06](#ex06)\n",
        "    - [4.2  Practice Making a prediction](#4.2)\n",
        "- [Part 5:  Evaluation  ](#5)\n",
        "    - [5.1  Computing the accuracy on a batch](#5.1)\n",
        "        - [Exercise 07](#ex07)\n",
        "    - [5.2  Testing your model on Validation Data](#5.2)\n",
        "        - [Exercise 08](#ex08)\n",
        "- [Part 6:  Testing with your own input](#6)\n"
      ]
    },
    {
      "cell_type": "markdown",
      "metadata": {
        "id": "8aeCPdILgrga"
      },
      "source": [
        "If you were to give Logistic regression and Naive Bayes models an example like:\n",
        "\n",
        "<center> <span style='color:blue'> <b>This movie was almost good.</b> </span> </center>\n",
        "\n",
        "Your model would have predicted a positive sentiment for that review. However, that sentence has a negative sentiment and indicates that the movie was not good. To solve those kinds of misclassifications, you will write a program that uses deep neural networks to identify sentiment in text. By completing this assignment, you will:\n",
        "\n",
        "- Understand how you can build/design a model using layers\n",
        "- Train a model using a training loop\n",
        "- Use a binary cross-entropy loss function\n",
        "- Compute the accuracy of your model\n",
        "- Predict using your own input\n",
        "\n",
        "As you can tell, this model follows a similar structure to the one you previously implemented in the second course of this specialization.\n",
        "- Indeed most of the deep nets you will be implementing will have a similar structure. The only thing that changes is the model architecture, the inputs, and the outputs. Before starting the assignment, we will introduce you to the Google library `trax` that we use for building and training models.\n",
        "\n",
        "\n",
        "Now we will show you how to compute the gradient of a certain function `f` by just using `  .grad(f)`.\n",
        "\n",
        "- Trax source code can be found on Github: [Trax](https://github.com/google/trax)\n",
        "- The Trax code also uses the JAX library: [JAX](https://jax.readthedocs.io/en/latest/index.html)"
      ]
    },
    {
      "cell_type": "markdown",
      "metadata": {
        "id": "IOK4n9JEjCVs"
      },
      "source": [
        "<a name=\"1\"></a>\n",
        "# Part 1:  Import libraries and try out Trax\n",
        "\n",
        "- Let's import libraries and look at an example of using the Trax library."
      ]
    },
    {
      "cell_type": "code",
      "execution_count": 4,
      "metadata": {
        "id": "WOTfm2P0jCVt"
      },
      "outputs": [],
      "source": [
        "import os\n",
        "import random as rnd\n",
        "\n",
        "# import relevant libraries\n",
        "import trax\n",
        "\n",
        "# set random seeds to make this notebook easier to replicate\n",
        "# trax.supervised.trainer_lib.init_random_number_generators(31)\n",
        "rnd.seed(31)\n",
        "\n",
        "# import trax.fastmath.numpy\n",
        "import trax.fastmath.numpy as np\n",
        "\n",
        "# import trax.layers\n",
        "from trax import layers as tl\n",
        "\n",
        "# import Layer from the utils.py file\n",
        "# from utils import Layer, load_tweets, process_tweet # я позже увидела файл utils.py в папке)\n",
        "# from utils import *\n"
      ]
    },
    {
      "cell_type": "code",
      "source": [
        "import string\n",
        "import re\n",
        "import os\n",
        "import nltk\n",
        "nltk.download('twitter_samples')\n",
        "nltk.download('stopwords')\n",
        "from nltk.tokenize import TweetTokenizer\n",
        "from nltk.corpus import stopwords, twitter_samples\n",
        "\n",
        "tweet_tokenizer = TweetTokenizer(preserve_case=False, strip_handles=True, reduce_len=True)\n",
        "\n",
        "# Stop words are messy and not that compelling;\n",
        "# \"very\" and \"not\" are considered stop words, but they are obviously expressing sentiment\n",
        "\n",
        "# The porter stemmer lemmatizes \"was\" to \"wa\".  Seriously???\n",
        "\n",
        "# I'm not sure we want to get into stop words\n",
        "stopwords_english = stopwords.words('english')\n",
        "\n",
        "# Also have my doubts about stemming...\n",
        "from nltk.stem import PorterStemmer\n",
        "stemmer = PorterStemmer()\n",
        "\n",
        "def process_tweet(tweet):\n",
        "    '''\n",
        "    Input:\n",
        "        tweet: a string containing a tweet\n",
        "    Output:\n",
        "        tweets_clean: a list of words containing the processed tweet\n",
        "\n",
        "    '''\n",
        "    # remove stock market tickers like $GE\n",
        "    tweet = re.sub(r'\\$\\w*', '', tweet)\n",
        "    # remove old style retweet text \"RT\"\n",
        "    tweet = re.sub(r'^RT[\\s]+', '', tweet)\n",
        "    # remove hyperlinks\n",
        "    tweet = re.sub(r'https?:\\/\\/.*[\\r\\n]*', '', tweet)\n",
        "    # remove hashtags\n",
        "    # only removing the hash # sign from the word\n",
        "    tweet = re.sub(r'#', '', tweet)\n",
        "    # tokenize tweets\n",
        "    tokenizer = TweetTokenizer(preserve_case=False, strip_handles=True, reduce_len=True)\n",
        "    tweet_tokens = tokenizer.tokenize(tweet)\n",
        "    ### START CODE HERE ###\n",
        "    tweets_clean = []\n",
        "    for word in tweet_tokens:\n",
        "        if (word not in stopwords_english and # remove stopwords\n",
        "            word not in string.punctuation): # remove punctuation\n",
        "            #tweets_clean.append(word)\n",
        "            stem_word = stemmer.stem(word) # stemming word\n",
        "            tweets_clean.append(stem_word)\n",
        "    ### END CODE HERE ###\n",
        "    return tweets_clean\n",
        "\n",
        "\n",
        "# let's not reuse variables\n",
        "#all_positive_tweets = twitter_samples.strings('positive_tweets.json')\n",
        "#all_negative_tweets = twitter_samples.strings('negative_tweets.json')\n",
        "\n",
        "def load_tweets():\n",
        "    all_positive_tweets = twitter_samples.strings('positive_tweets.json')\n",
        "    all_negative_tweets = twitter_samples.strings('negative_tweets.json')\n",
        "    return all_positive_tweets, all_negative_tweets\n",
        "\n",
        "# Layers have weights and a foward function.\n",
        "# They create weights when layer.initialize is called and use them.\n",
        "# remove this or make it optional\n",
        "\n",
        "class Layer(object):\n",
        "    \"\"\"Base class for layers.\"\"\"\n",
        "    def __init__(self):\n",
        "        self.weights = None\n",
        "\n",
        "    def forward(self, x):\n",
        "        raise NotImplementedError\n",
        "\n",
        "    def init_weights_and_state(self, input_signature, random_key):\n",
        "        pass\n",
        "\n",
        "    def init(self, input_signature, random_key):\n",
        "        self.init_weights_and_state(input_signature, random_key)\n",
        "        return self.weights\n",
        "\n",
        "    def __call__(self, x):\n",
        "        return self.forward(x)"
      ],
      "metadata": {
        "id": "xbuWXlPOfESA",
        "outputId": "f597de80-50f8-47e6-edf8-7b1311285bf2",
        "colab": {
          "base_uri": "https://localhost:8080/"
        }
      },
      "execution_count": 12,
      "outputs": [
        {
          "output_type": "stream",
          "name": "stderr",
          "text": [
            "[nltk_data] Downloading package twitter_samples to /root/nltk_data...\n",
            "[nltk_data]   Package twitter_samples is already up-to-date!\n",
            "[nltk_data] Downloading package stopwords to /root/nltk_data...\n",
            "[nltk_data]   Package stopwords is already up-to-date!\n"
          ]
        }
      ]
    },
    {
      "cell_type": "code",
      "source": [
        "!pip install trax"
      ],
      "metadata": {
        "id": "_UsRazp_YtkS",
        "outputId": "12ea9a47-76bc-45ce-f4fe-b83615445ba1",
        "colab": {
          "base_uri": "https://localhost:8080/"
        }
      },
      "execution_count": 3,
      "outputs": [
        {
          "output_type": "stream",
          "name": "stdout",
          "text": [
            "Collecting trax\n",
            "  Downloading trax-1.4.1-py2.py3-none-any.whl (637 kB)\n",
            "\u001b[2K     \u001b[90m━━━━━━━━━━━━━━━━━━━━━━━━━━━━━━━━━━━━━━━━\u001b[0m \u001b[32m637.9/637.9 kB\u001b[0m \u001b[31m3.6 MB/s\u001b[0m eta \u001b[36m0:00:00\u001b[0m\n",
            "\u001b[?25hRequirement already satisfied: absl-py in /usr/local/lib/python3.10/dist-packages (from trax) (1.4.0)\n",
            "Collecting funcsigs (from trax)\n",
            "  Downloading funcsigs-1.0.2-py2.py3-none-any.whl (17 kB)\n",
            "Requirement already satisfied: gin-config in /usr/local/lib/python3.10/dist-packages (from trax) (0.5.0)\n",
            "Requirement already satisfied: gym in /usr/local/lib/python3.10/dist-packages (from trax) (0.25.2)\n",
            "Requirement already satisfied: jax in /usr/local/lib/python3.10/dist-packages (from trax) (0.4.26)\n",
            "Requirement already satisfied: jaxlib in /usr/local/lib/python3.10/dist-packages (from trax) (0.4.26+cuda12.cudnn89)\n",
            "Requirement already satisfied: matplotlib in /usr/local/lib/python3.10/dist-packages (from trax) (3.7.1)\n",
            "Requirement already satisfied: numpy in /usr/local/lib/python3.10/dist-packages (from trax) (1.25.2)\n",
            "Requirement already satisfied: psutil in /usr/local/lib/python3.10/dist-packages (from trax) (5.9.5)\n",
            "Requirement already satisfied: scipy in /usr/local/lib/python3.10/dist-packages (from trax) (1.11.4)\n",
            "Requirement already satisfied: six in /usr/local/lib/python3.10/dist-packages (from trax) (1.16.0)\n",
            "Requirement already satisfied: tensorflow-datasets in /usr/local/lib/python3.10/dist-packages (from trax) (4.9.6)\n",
            "Collecting tensorflow-text (from trax)\n",
            "  Downloading tensorflow_text-2.16.1-cp310-cp310-manylinux_2_17_x86_64.manylinux2014_x86_64.whl (5.2 MB)\n",
            "\u001b[2K     \u001b[90m━━━━━━━━━━━━━━━━━━━━━━━━━━━━━━━━━━━━━━━━\u001b[0m \u001b[32m5.2/5.2 MB\u001b[0m \u001b[31m22.7 MB/s\u001b[0m eta \u001b[36m0:00:00\u001b[0m\n",
            "\u001b[?25hRequirement already satisfied: cloudpickle>=1.2.0 in /usr/local/lib/python3.10/dist-packages (from gym->trax) (2.2.1)\n",
            "Requirement already satisfied: gym-notices>=0.0.4 in /usr/local/lib/python3.10/dist-packages (from gym->trax) (0.0.8)\n",
            "Requirement already satisfied: ml-dtypes>=0.2.0 in /usr/local/lib/python3.10/dist-packages (from jax->trax) (0.2.0)\n",
            "Requirement already satisfied: opt-einsum in /usr/local/lib/python3.10/dist-packages (from jax->trax) (3.3.0)\n",
            "Requirement already satisfied: contourpy>=1.0.1 in /usr/local/lib/python3.10/dist-packages (from matplotlib->trax) (1.2.1)\n",
            "Requirement already satisfied: cycler>=0.10 in /usr/local/lib/python3.10/dist-packages (from matplotlib->trax) (0.12.1)\n",
            "Requirement already satisfied: fonttools>=4.22.0 in /usr/local/lib/python3.10/dist-packages (from matplotlib->trax) (4.53.0)\n",
            "Requirement already satisfied: kiwisolver>=1.0.1 in /usr/local/lib/python3.10/dist-packages (from matplotlib->trax) (1.4.5)\n",
            "Requirement already satisfied: packaging>=20.0 in /usr/local/lib/python3.10/dist-packages (from matplotlib->trax) (24.1)\n",
            "Requirement already satisfied: pillow>=6.2.0 in /usr/local/lib/python3.10/dist-packages (from matplotlib->trax) (9.4.0)\n",
            "Requirement already satisfied: pyparsing>=2.3.1 in /usr/local/lib/python3.10/dist-packages (from matplotlib->trax) (3.1.2)\n",
            "Requirement already satisfied: python-dateutil>=2.7 in /usr/local/lib/python3.10/dist-packages (from matplotlib->trax) (2.8.2)\n",
            "Requirement already satisfied: click in /usr/local/lib/python3.10/dist-packages (from tensorflow-datasets->trax) (8.1.7)\n",
            "Requirement already satisfied: dm-tree in /usr/local/lib/python3.10/dist-packages (from tensorflow-datasets->trax) (0.1.8)\n",
            "Requirement already satisfied: immutabledict in /usr/local/lib/python3.10/dist-packages (from tensorflow-datasets->trax) (4.2.0)\n",
            "Requirement already satisfied: promise in /usr/local/lib/python3.10/dist-packages (from tensorflow-datasets->trax) (2.3)\n",
            "Requirement already satisfied: protobuf>=3.20 in /usr/local/lib/python3.10/dist-packages (from tensorflow-datasets->trax) (3.20.3)\n",
            "Requirement already satisfied: pyarrow in /usr/local/lib/python3.10/dist-packages (from tensorflow-datasets->trax) (14.0.2)\n",
            "Requirement already satisfied: requests>=2.19.0 in /usr/local/lib/python3.10/dist-packages (from tensorflow-datasets->trax) (2.31.0)\n",
            "Requirement already satisfied: simple-parsing in /usr/local/lib/python3.10/dist-packages (from tensorflow-datasets->trax) (0.1.5)\n",
            "Requirement already satisfied: tensorflow-metadata in /usr/local/lib/python3.10/dist-packages (from tensorflow-datasets->trax) (1.15.0)\n",
            "Requirement already satisfied: termcolor in /usr/local/lib/python3.10/dist-packages (from tensorflow-datasets->trax) (2.4.0)\n",
            "Requirement already satisfied: toml in /usr/local/lib/python3.10/dist-packages (from tensorflow-datasets->trax) (0.10.2)\n",
            "Requirement already satisfied: tqdm in /usr/local/lib/python3.10/dist-packages (from tensorflow-datasets->trax) (4.66.4)\n",
            "Requirement already satisfied: wrapt in /usr/local/lib/python3.10/dist-packages (from tensorflow-datasets->trax) (1.14.1)\n",
            "Requirement already satisfied: array-record>=0.5.0 in /usr/local/lib/python3.10/dist-packages (from tensorflow-datasets->trax) (0.5.1)\n",
            "Requirement already satisfied: etils[enp,epath,epy,etree]>=1.6.0 in /usr/local/lib/python3.10/dist-packages (from tensorflow-datasets->trax) (1.7.0)\n",
            "Collecting tensorflow<2.17,>=2.16.1 (from tensorflow-text->trax)\n",
            "  Downloading tensorflow-2.16.2-cp310-cp310-manylinux_2_17_x86_64.manylinux2014_x86_64.whl (590.6 MB)\n",
            "\u001b[2K     \u001b[90m━━━━━━━━━━━━━━━━━━━━━━━━━━━━━━━━━━━━━━━━\u001b[0m \u001b[32m590.6/590.6 MB\u001b[0m \u001b[31m1.8 MB/s\u001b[0m eta \u001b[36m0:00:00\u001b[0m\n",
            "\u001b[?25hRequirement already satisfied: typing_extensions in /usr/local/lib/python3.10/dist-packages (from etils[enp,epath,epy,etree]>=1.6.0->tensorflow-datasets->trax) (4.12.2)\n",
            "Requirement already satisfied: fsspec in /usr/local/lib/python3.10/dist-packages (from etils[enp,epath,epy,etree]>=1.6.0->tensorflow-datasets->trax) (2023.6.0)\n",
            "Requirement already satisfied: importlib_resources in /usr/local/lib/python3.10/dist-packages (from etils[enp,epath,epy,etree]>=1.6.0->tensorflow-datasets->trax) (6.4.0)\n",
            "Requirement already satisfied: zipp in /usr/local/lib/python3.10/dist-packages (from etils[enp,epath,epy,etree]>=1.6.0->tensorflow-datasets->trax) (3.19.2)\n",
            "Requirement already satisfied: charset-normalizer<4,>=2 in /usr/local/lib/python3.10/dist-packages (from requests>=2.19.0->tensorflow-datasets->trax) (3.3.2)\n",
            "Requirement already satisfied: idna<4,>=2.5 in /usr/local/lib/python3.10/dist-packages (from requests>=2.19.0->tensorflow-datasets->trax) (3.7)\n",
            "Requirement already satisfied: urllib3<3,>=1.21.1 in /usr/local/lib/python3.10/dist-packages (from requests>=2.19.0->tensorflow-datasets->trax) (2.0.7)\n",
            "Requirement already satisfied: certifi>=2017.4.17 in /usr/local/lib/python3.10/dist-packages (from requests>=2.19.0->tensorflow-datasets->trax) (2024.6.2)\n",
            "Requirement already satisfied: astunparse>=1.6.0 in /usr/local/lib/python3.10/dist-packages (from tensorflow<2.17,>=2.16.1->tensorflow-text->trax) (1.6.3)\n",
            "Requirement already satisfied: flatbuffers>=23.5.26 in /usr/local/lib/python3.10/dist-packages (from tensorflow<2.17,>=2.16.1->tensorflow-text->trax) (24.3.25)\n",
            "Requirement already satisfied: gast!=0.5.0,!=0.5.1,!=0.5.2,>=0.2.1 in /usr/local/lib/python3.10/dist-packages (from tensorflow<2.17,>=2.16.1->tensorflow-text->trax) (0.6.0)\n",
            "Requirement already satisfied: google-pasta>=0.1.1 in /usr/local/lib/python3.10/dist-packages (from tensorflow<2.17,>=2.16.1->tensorflow-text->trax) (0.2.0)\n",
            "Collecting h5py>=3.10.0 (from tensorflow<2.17,>=2.16.1->tensorflow-text->trax)\n",
            "  Downloading h5py-3.11.0-cp310-cp310-manylinux_2_17_x86_64.manylinux2014_x86_64.whl (5.3 MB)\n",
            "\u001b[2K     \u001b[90m━━━━━━━━━━━━━━━━━━━━━━━━━━━━━━━━━━━━━━━━\u001b[0m \u001b[32m5.3/5.3 MB\u001b[0m \u001b[31m53.6 MB/s\u001b[0m eta \u001b[36m0:00:00\u001b[0m\n",
            "\u001b[?25hRequirement already satisfied: libclang>=13.0.0 in /usr/local/lib/python3.10/dist-packages (from tensorflow<2.17,>=2.16.1->tensorflow-text->trax) (18.1.1)\n",
            "Collecting ml-dtypes>=0.2.0 (from jax->trax)\n",
            "  Downloading ml_dtypes-0.3.2-cp310-cp310-manylinux_2_17_x86_64.manylinux2014_x86_64.whl (2.2 MB)\n",
            "\u001b[2K     \u001b[90m━━━━━━━━━━━━━━━━━━━━━━━━━━━━━━━━━━━━━━━━\u001b[0m \u001b[32m2.2/2.2 MB\u001b[0m \u001b[31m44.2 MB/s\u001b[0m eta \u001b[36m0:00:00\u001b[0m\n",
            "\u001b[?25hRequirement already satisfied: setuptools in /usr/local/lib/python3.10/dist-packages (from tensorflow<2.17,>=2.16.1->tensorflow-text->trax) (67.7.2)\n",
            "Requirement already satisfied: grpcio<2.0,>=1.24.3 in /usr/local/lib/python3.10/dist-packages (from tensorflow<2.17,>=2.16.1->tensorflow-text->trax) (1.64.1)\n",
            "Collecting tensorboard<2.17,>=2.16 (from tensorflow<2.17,>=2.16.1->tensorflow-text->trax)\n",
            "  Downloading tensorboard-2.16.2-py3-none-any.whl (5.5 MB)\n",
            "\u001b[2K     \u001b[90m━━━━━━━━━━━━━━━━━━━━━━━━━━━━━━━━━━━━━━━━\u001b[0m \u001b[32m5.5/5.5 MB\u001b[0m \u001b[31m54.6 MB/s\u001b[0m eta \u001b[36m0:00:00\u001b[0m\n",
            "\u001b[?25hCollecting keras>=3.0.0 (from tensorflow<2.17,>=2.16.1->tensorflow-text->trax)\n",
            "  Downloading keras-3.4.1-py3-none-any.whl (1.1 MB)\n",
            "\u001b[2K     \u001b[90m━━━━━━━━━━━━━━━━━━━━━━━━━━━━━━━━━━━━━━━━\u001b[0m \u001b[32m1.1/1.1 MB\u001b[0m \u001b[31m48.5 MB/s\u001b[0m eta \u001b[36m0:00:00\u001b[0m\n",
            "\u001b[?25hRequirement already satisfied: tensorflow-io-gcs-filesystem>=0.23.1 in /usr/local/lib/python3.10/dist-packages (from tensorflow<2.17,>=2.16.1->tensorflow-text->trax) (0.37.0)\n",
            "Requirement already satisfied: docstring-parser~=0.15 in /usr/local/lib/python3.10/dist-packages (from simple-parsing->tensorflow-datasets->trax) (0.16)\n",
            "Requirement already satisfied: wheel<1.0,>=0.23.0 in /usr/local/lib/python3.10/dist-packages (from astunparse>=1.6.0->tensorflow<2.17,>=2.16.1->tensorflow-text->trax) (0.43.0)\n",
            "Requirement already satisfied: rich in /usr/local/lib/python3.10/dist-packages (from keras>=3.0.0->tensorflow<2.17,>=2.16.1->tensorflow-text->trax) (13.7.1)\n",
            "Collecting namex (from keras>=3.0.0->tensorflow<2.17,>=2.16.1->tensorflow-text->trax)\n",
            "  Downloading namex-0.0.8-py3-none-any.whl (5.8 kB)\n",
            "Collecting optree (from keras>=3.0.0->tensorflow<2.17,>=2.16.1->tensorflow-text->trax)\n",
            "  Downloading optree-0.12.1-cp310-cp310-manylinux_2_17_x86_64.manylinux2014_x86_64.whl (347 kB)\n",
            "\u001b[2K     \u001b[90m━━━━━━━━━━━━━━━━━━━━━━━━━━━━━━━━━━━━━━━━\u001b[0m \u001b[32m347.7/347.7 kB\u001b[0m \u001b[31m31.3 MB/s\u001b[0m eta \u001b[36m0:00:00\u001b[0m\n",
            "\u001b[?25hRequirement already satisfied: markdown>=2.6.8 in /usr/local/lib/python3.10/dist-packages (from tensorboard<2.17,>=2.16->tensorflow<2.17,>=2.16.1->tensorflow-text->trax) (3.6)\n",
            "Requirement already satisfied: tensorboard-data-server<0.8.0,>=0.7.0 in /usr/local/lib/python3.10/dist-packages (from tensorboard<2.17,>=2.16->tensorflow<2.17,>=2.16.1->tensorflow-text->trax) (0.7.2)\n",
            "Requirement already satisfied: werkzeug>=1.0.1 in /usr/local/lib/python3.10/dist-packages (from tensorboard<2.17,>=2.16->tensorflow<2.17,>=2.16.1->tensorflow-text->trax) (3.0.3)\n",
            "Requirement already satisfied: MarkupSafe>=2.1.1 in /usr/local/lib/python3.10/dist-packages (from werkzeug>=1.0.1->tensorboard<2.17,>=2.16->tensorflow<2.17,>=2.16.1->tensorflow-text->trax) (2.1.5)\n",
            "Requirement already satisfied: markdown-it-py>=2.2.0 in /usr/local/lib/python3.10/dist-packages (from rich->keras>=3.0.0->tensorflow<2.17,>=2.16.1->tensorflow-text->trax) (3.0.0)\n",
            "Requirement already satisfied: pygments<3.0.0,>=2.13.0 in /usr/local/lib/python3.10/dist-packages (from rich->keras>=3.0.0->tensorflow<2.17,>=2.16.1->tensorflow-text->trax) (2.16.1)\n",
            "Requirement already satisfied: mdurl~=0.1 in /usr/local/lib/python3.10/dist-packages (from markdown-it-py>=2.2.0->rich->keras>=3.0.0->tensorflow<2.17,>=2.16.1->tensorflow-text->trax) (0.1.2)\n",
            "Installing collected packages: namex, funcsigs, optree, ml-dtypes, h5py, tensorboard, keras, tensorflow, tensorflow-text, trax\n",
            "  Attempting uninstall: ml-dtypes\n",
            "    Found existing installation: ml-dtypes 0.2.0\n",
            "    Uninstalling ml-dtypes-0.2.0:\n",
            "      Successfully uninstalled ml-dtypes-0.2.0\n",
            "  Attempting uninstall: h5py\n",
            "    Found existing installation: h5py 3.9.0\n",
            "    Uninstalling h5py-3.9.0:\n",
            "      Successfully uninstalled h5py-3.9.0\n",
            "  Attempting uninstall: tensorboard\n",
            "    Found existing installation: tensorboard 2.15.2\n",
            "    Uninstalling tensorboard-2.15.2:\n",
            "      Successfully uninstalled tensorboard-2.15.2\n",
            "  Attempting uninstall: keras\n",
            "    Found existing installation: keras 2.15.0\n",
            "    Uninstalling keras-2.15.0:\n",
            "      Successfully uninstalled keras-2.15.0\n",
            "  Attempting uninstall: tensorflow\n",
            "    Found existing installation: tensorflow 2.15.0\n",
            "    Uninstalling tensorflow-2.15.0:\n",
            "      Successfully uninstalled tensorflow-2.15.0\n",
            "\u001b[31mERROR: pip's dependency resolver does not currently take into account all the packages that are installed. This behaviour is the source of the following dependency conflicts.\n",
            "tf-keras 2.15.1 requires tensorflow<2.16,>=2.15, but you have tensorflow 2.16.2 which is incompatible.\u001b[0m\u001b[31m\n",
            "\u001b[0mSuccessfully installed funcsigs-1.0.2 h5py-3.11.0 keras-3.4.1 ml-dtypes-0.3.2 namex-0.0.8 optree-0.12.1 tensorboard-2.16.2 tensorflow-2.16.2 tensorflow-text-2.16.1 trax-1.4.1\n"
          ]
        }
      ]
    },
    {
      "cell_type": "code",
      "execution_count": 13,
      "metadata": {
        "colab": {
          "base_uri": "https://localhost:8080/",
          "height": 52
        },
        "id": "EyMnUt38jCVw",
        "outputId": "327fd499-cbc6-46fb-8aa0-c684c875654d"
      },
      "outputs": [
        {
          "output_type": "display_data",
          "data": {
            "text/plain": [
              "array(5.)"
            ]
          },
          "metadata": {}
        },
        {
          "output_type": "stream",
          "name": "stdout",
          "text": [
            "<class 'numpy.ndarray'>\n"
          ]
        }
      ],
      "source": [
        "# Create an array using trax.fastmath.numpy\n",
        "a = np.array(5.0)\n",
        "\n",
        "# View the returned array\n",
        "display(a)\n",
        "\n",
        "print(type(a))"
      ]
    },
    {
      "cell_type": "markdown",
      "metadata": {
        "id": "WtEWAFUIjCVz"
      },
      "source": [
        "Notice that trax.fastmath.numpy returns a DeviceArray from the jax library."
      ]
    },
    {
      "cell_type": "code",
      "execution_count": 14,
      "metadata": {
        "id": "J2RUtDtrjCV0"
      },
      "outputs": [],
      "source": [
        "# Define a function that will use the trax.fastmath.numpy array\n",
        "def f(x):\n",
        "\n",
        "    # f = x^2\n",
        "    return (x**2)"
      ]
    },
    {
      "cell_type": "code",
      "execution_count": 15,
      "metadata": {
        "colab": {
          "base_uri": "https://localhost:8080/"
        },
        "id": "qvUd-xzqjCV4",
        "outputId": "939fc965-40b7-407c-91b9-eb193679825d"
      },
      "outputs": [
        {
          "output_type": "stream",
          "name": "stdout",
          "text": [
            "f(a) for a=5.0 is 25.0\n"
          ]
        }
      ],
      "source": [
        "# Call the function\n",
        "print(f\"f(a) for a={a} is {f(a)}\")"
      ]
    },
    {
      "cell_type": "markdown",
      "metadata": {
        "id": "yGKhSeasjCV7"
      },
      "source": [
        "The gradient (derivative) of function `f` with respect to its input `x` is the derivative of $x^2$.\n",
        "- The derivative of $x^2$ is $2x$.  \n",
        "- When x is 5, then $2x=10$.\n",
        "\n",
        "You can calculate the gradient of a function by using `trax.fastmath.grad(fun=)` and passing in the name of the function.\n",
        "- In this case the function you want to take the gradient of is `f`.\n",
        "- The object returned (saved in `grad_f` in this example) is a function that can calculate the gradient of f for a given trax.fastmath.numpy array."
      ]
    },
    {
      "cell_type": "code",
      "execution_count": 16,
      "metadata": {
        "colab": {
          "base_uri": "https://localhost:8080/"
        },
        "id": "2Im5Hkc9jCV8",
        "outputId": "76ec7856-4f5c-41ee-f261-e593937e1fba"
      },
      "outputs": [
        {
          "output_type": "execute_result",
          "data": {
            "text/plain": [
              "function"
            ]
          },
          "metadata": {},
          "execution_count": 16
        }
      ],
      "source": [
        "# Directly use trax.fastmath.grad to calculate the gradient (derivative) of the function\n",
        "grad_f = trax.fastmath.grad(fun=f)  # df / dx - Gradient of function f(x) with respect to x\n",
        "\n",
        "# View the type of the retuned object (it's a function)\n",
        "type(grad_f)"
      ]
    },
    {
      "cell_type": "code",
      "execution_count": 17,
      "metadata": {
        "colab": {
          "base_uri": "https://localhost:8080/",
          "height": 34
        },
        "id": "0lDIVvx3jCV_",
        "outputId": "7d0e7258-7937-4c6b-d51d-f28b3f196205"
      },
      "outputs": [
        {
          "output_type": "display_data",
          "data": {
            "text/plain": [
              "Array(10., dtype=float32)"
            ]
          },
          "metadata": {}
        }
      ],
      "source": [
        "# Call the newly created function and pass in a value for x (the DeviceArray stored in 'a')\n",
        "grad_calculation = grad_f(a)\n",
        "\n",
        "# View the result of calling the grad_f function\n",
        "display(grad_calculation)"
      ]
    },
    {
      "cell_type": "markdown",
      "metadata": {
        "id": "41l3WDBkjCWD"
      },
      "source": [
        "The function returned by trax.fastmath.grad takes in x=5 and calculates the gradient of f, which is 2*x, which is 10. The value is also stored as a DeviceArray from the jax library."
      ]
    },
    {
      "cell_type": "markdown",
      "metadata": {
        "id": "CZ8RUynQsktn"
      },
      "source": [
        "<a name=\"2\"></a>\n",
        "# Part 2:  Importing the data\n",
        "\n",
        "<a name=\"2.1\"></a>\n",
        "## 2.1  Loading in the data\n",
        "\n",
        "Import the data set.  \n",
        "- You may recognize this from earlier assignments in the specialization.\n",
        "- Details of process_tweet function are available in utils.py file"
      ]
    },
    {
      "cell_type": "code",
      "execution_count": 18,
      "metadata": {
        "colab": {
          "base_uri": "https://localhost:8080/"
        },
        "id": "h5ClwIOSuLJh",
        "outputId": "1a86d905-9685-4aa2-ce9c-ffb3e31cd82d"
      },
      "outputs": [
        {
          "output_type": "stream",
          "name": "stdout",
          "text": [
            "The number of positive tweets: 5000\n",
            "The number of negative tweets: 5000\n",
            "length of train_x 8000\n",
            "length of val_x 2000\n"
          ]
        }
      ],
      "source": [
        "## DO NOT EDIT THIS CELL\n",
        "\n",
        "# Import functions from the utils.py file\n",
        "\n",
        "import numpy as np\n",
        "\n",
        "# Load positive and negative tweets\n",
        "all_positive_tweets, all_negative_tweets = load_tweets()\n",
        "\n",
        "# View the total number of positive and negative tweets.\n",
        "print(f\"The number of positive tweets: {len(all_positive_tweets)}\")\n",
        "print(f\"The number of negative tweets: {len(all_negative_tweets)}\")\n",
        "\n",
        "# Split positive set into validation and training\n",
        "val_pos   = all_positive_tweets[4000:] # generating validation set for positive tweets\n",
        "train_pos = all_positive_tweets[:4000]# generating training set for positive tweets\n",
        "\n",
        "# Split negative set into validation and training\n",
        "val_neg   = all_negative_tweets[4000:] # generating validation set for negative tweets\n",
        "train_neg  = all_negative_tweets[:4000] # generating training set for nagative tweets\n",
        "\n",
        "# Combine training data into one set\n",
        "train_x = train_pos + train_neg\n",
        "\n",
        "# Combine validation data into one set\n",
        "val_x  = val_pos + val_neg\n",
        "\n",
        "# Set the labels for the training set (1 for positive, 0 for negative)\n",
        "train_y = np.append(np.ones(len(train_pos)), np.zeros(len(train_neg)))\n",
        "\n",
        "# Set the labels for the validation set (1 for positive, 0 for negative)\n",
        "val_y  = np.append(np.ones(len(val_pos)), np.zeros(len(val_neg)))\n",
        "\n",
        "print(f\"length of train_x {len(train_x)}\")\n",
        "print(f\"length of val_x {len(val_x)}\")"
      ]
    },
    {
      "cell_type": "markdown",
      "metadata": {
        "id": "dNQq4LmbjCWG"
      },
      "source": [
        "Now import a function that processes tweets (we've provided this in the utils.py file).\n",
        "- `process_tweets' removes unwanted characters e.g. hashtag, hyperlinks, stock tickers from tweet.\n",
        "- It also returns a list of words (it tokenizes the original string)."
      ]
    },
    {
      "cell_type": "code",
      "execution_count": 19,
      "metadata": {
        "colab": {
          "base_uri": "https://localhost:8080/"
        },
        "id": "2bRX6aPDjCWH",
        "outputId": "c9bb8483-5849-4de3-ef28-cc70c3689710"
      },
      "outputs": [
        {
          "output_type": "stream",
          "name": "stdout",
          "text": [
            "original tweet at training position 0\n",
            "#FollowFriday @France_Inte @PKuchly57 @Milipol_Paris for being top engaged members in my community this week :)\n",
            "Tweet at training position 0 after processing:\n"
          ]
        },
        {
          "output_type": "execute_result",
          "data": {
            "text/plain": [
              "['followfriday', 'top', 'engag', 'member', 'commun', 'week', ':)']"
            ]
          },
          "metadata": {},
          "execution_count": 19
        }
      ],
      "source": [
        "# Import a function that processes the tweets\n",
        "# from utils import process_tweet\n",
        "\n",
        "# Try out function that processes tweets\n",
        "print(\"original tweet at training position 0\")\n",
        "print(train_pos[0])\n",
        "\n",
        "print(\"Tweet at training position 0 after processing:\")\n",
        "process_tweet(train_pos[0])"
      ]
    },
    {
      "cell_type": "markdown",
      "metadata": {
        "id": "00XdS3LOjCWK"
      },
      "source": [
        "Notice that the function `process_tweet` keeps key words, removes the hash # symbol, and ignores usernames (words that begin with '@').  It also returns a list of the words."
      ]
    },
    {
      "cell_type": "markdown",
      "metadata": {
        "id": "ac4D5WSUAVub"
      },
      "source": [
        "<a name=\"2.2\"></a>\n",
        "## 2.2  Building the vocabulary\n",
        "\n",
        "Now build the vocabulary.\n",
        "- Map each word in each tweet to an integer (an \"index\").\n",
        "- The following code does this for you, but please read it and understand what it's doing.\n",
        "- Note that you will build the vocabulary based on the training data.\n",
        "- To do so, you will assign an index to everyword by iterating over your training set.\n",
        "\n",
        "The vocabulary will also include some special tokens\n",
        "- `__PAD__`: padding\n",
        "- `</e>`: end of line\n",
        "- `__UNK__`: a token representing any word that is not in the vocabulary."
      ]
    },
    {
      "cell_type": "code",
      "execution_count": 20,
      "metadata": {
        "colab": {
          "base_uri": "https://localhost:8080/",
          "height": 1000
        },
        "id": "rQaHKs7kAVuc",
        "outputId": "45b7b37d-e503-484c-a93a-61b609c4a851"
      },
      "outputs": [
        {
          "output_type": "stream",
          "name": "stdout",
          "text": [
            "Total words in vocab are 9088\n"
          ]
        },
        {
          "output_type": "display_data",
          "data": {
            "text/plain": [
              "{'__PAD__': 0,\n",
              " '__</e>__': 1,\n",
              " '__UNK__': 2,\n",
              " 'followfriday': 3,\n",
              " 'top': 4,\n",
              " 'engag': 5,\n",
              " 'member': 6,\n",
              " 'commun': 7,\n",
              " 'week': 8,\n",
              " ':)': 9,\n",
              " 'hey': 10,\n",
              " 'jame': 11,\n",
              " 'odd': 12,\n",
              " ':/': 13,\n",
              " 'pleas': 14,\n",
              " 'call': 15,\n",
              " 'contact': 16,\n",
              " 'centr': 17,\n",
              " '02392441234': 18,\n",
              " 'abl': 19,\n",
              " 'assist': 20,\n",
              " 'mani': 21,\n",
              " 'thank': 22,\n",
              " 'listen': 23,\n",
              " 'last': 24,\n",
              " 'night': 25,\n",
              " 'bleed': 26,\n",
              " 'amaz': 27,\n",
              " 'track': 28,\n",
              " 'scotland': 29,\n",
              " 'congrat': 30,\n",
              " 'yeaaah': 31,\n",
              " 'yipppi': 32,\n",
              " 'accnt': 33,\n",
              " 'verifi': 34,\n",
              " 'rqst': 35,\n",
              " 'succeed': 36,\n",
              " 'got': 37,\n",
              " 'blue': 38,\n",
              " 'tick': 39,\n",
              " 'mark': 40,\n",
              " 'fb': 41,\n",
              " 'profil': 42,\n",
              " '15': 43,\n",
              " 'day': 44,\n",
              " 'one': 45,\n",
              " 'irresist': 46,\n",
              " 'flipkartfashionfriday': 47,\n",
              " 'like': 48,\n",
              " 'keep': 49,\n",
              " 'love': 50,\n",
              " 'custom': 51,\n",
              " 'wait': 52,\n",
              " 'long': 53,\n",
              " 'hope': 54,\n",
              " 'enjoy': 55,\n",
              " 'happi': 56,\n",
              " 'friday': 57,\n",
              " 'lwwf': 58,\n",
              " 'second': 59,\n",
              " 'thought': 60,\n",
              " '’': 61,\n",
              " 'enough': 62,\n",
              " 'time': 63,\n",
              " 'dd': 64,\n",
              " 'new': 65,\n",
              " 'short': 66,\n",
              " 'enter': 67,\n",
              " 'system': 68,\n",
              " 'sheep': 69,\n",
              " 'must': 70,\n",
              " 'buy': 71,\n",
              " 'jgh': 72,\n",
              " 'go': 73,\n",
              " 'bayan': 74,\n",
              " ':d': 75,\n",
              " 'bye': 76,\n",
              " 'act': 77,\n",
              " 'mischiev': 78,\n",
              " 'etl': 79,\n",
              " 'layer': 80,\n",
              " 'in-hous': 81,\n",
              " 'wareh': 82,\n",
              " 'app': 83,\n",
              " 'katamari': 84,\n",
              " 'well': 85,\n",
              " '…': 86,\n",
              " 'name': 87,\n",
              " 'impli': 88,\n",
              " ':p': 89,\n",
              " 'influenc': 90,\n",
              " 'big': 91,\n",
              " '...': 92,\n",
              " 'juici': 93,\n",
              " 'selfi': 94,\n",
              " 'follow': 95,\n",
              " 'perfect': 96,\n",
              " 'alreadi': 97,\n",
              " 'know': 98,\n",
              " \"what'\": 99,\n",
              " 'great': 100,\n",
              " 'opportun': 101,\n",
              " 'junior': 102,\n",
              " 'triathlet': 103,\n",
              " 'age': 104,\n",
              " '12': 105,\n",
              " '13': 106,\n",
              " 'gatorad': 107,\n",
              " 'seri': 108,\n",
              " 'get': 109,\n",
              " 'entri': 110,\n",
              " 'lay': 111,\n",
              " 'greet': 112,\n",
              " 'card': 113,\n",
              " 'rang': 114,\n",
              " 'print': 115,\n",
              " 'today': 116,\n",
              " 'job': 117,\n",
              " ':-)': 118,\n",
              " \"friend'\": 119,\n",
              " 'lunch': 120,\n",
              " 'yummm': 121,\n",
              " 'nostalgia': 122,\n",
              " 'tb': 123,\n",
              " 'ku': 124,\n",
              " 'id': 125,\n",
              " 'conflict': 126,\n",
              " 'help': 127,\n",
              " \"here'\": 128,\n",
              " 'screenshot': 129,\n",
              " 'work': 130,\n",
              " 'hi': 131,\n",
              " 'liv': 132,\n",
              " 'hello': 133,\n",
              " 'need': 134,\n",
              " 'someth': 135,\n",
              " 'u': 136,\n",
              " 'fm': 137,\n",
              " 'twitter': 138,\n",
              " '—': 139,\n",
              " 'sure': 140,\n",
              " 'thing': 141,\n",
              " 'dm': 142,\n",
              " 'x': 143,\n",
              " \"i'v\": 144,\n",
              " 'heard': 145,\n",
              " 'four': 146,\n",
              " 'season': 147,\n",
              " 'pretti': 148,\n",
              " 'dope': 149,\n",
              " 'penthous': 150,\n",
              " 'obv': 151,\n",
              " 'gobigorgohom': 152,\n",
              " 'fun': 153,\n",
              " \"y'all\": 154,\n",
              " 'yeah': 155,\n",
              " 'suppos': 156,\n",
              " 'lol': 157,\n",
              " 'chat': 158,\n",
              " 'bit': 159,\n",
              " 'youth': 160,\n",
              " '💅🏽': 161,\n",
              " '💋': 162,\n",
              " 'seen': 163,\n",
              " 'year': 164,\n",
              " 'rest': 165,\n",
              " 'goe': 166,\n",
              " 'quickli': 167,\n",
              " 'bed': 168,\n",
              " 'music': 169,\n",
              " 'fix': 170,\n",
              " 'dream': 171,\n",
              " 'spiritu': 172,\n",
              " 'ritual': 173,\n",
              " 'festiv': 174,\n",
              " 'népal': 175,\n",
              " 'begin': 176,\n",
              " 'line-up': 177,\n",
              " 'left': 178,\n",
              " 'see': 179,\n",
              " 'sarah': 180,\n",
              " 'send': 181,\n",
              " 'us': 182,\n",
              " 'email': 183,\n",
              " 'bitsy@bitdefender.com': 184,\n",
              " \"we'll\": 185,\n",
              " 'asap': 186,\n",
              " 'kik': 187,\n",
              " 'hatessuc': 188,\n",
              " '32429': 189,\n",
              " 'kikm': 190,\n",
              " 'lgbt': 191,\n",
              " 'tinder': 192,\n",
              " 'nsfw': 193,\n",
              " 'akua': 194,\n",
              " 'cumshot': 195,\n",
              " 'come': 196,\n",
              " 'hous': 197,\n",
              " 'nsn_supplement': 198,\n",
              " 'effect': 199,\n",
              " 'press': 200,\n",
              " 'releas': 201,\n",
              " 'distribut': 202,\n",
              " 'result': 203,\n",
              " 'link': 204,\n",
              " 'remov': 205,\n",
              " 'pressreleas': 206,\n",
              " 'newsdistribut': 207,\n",
              " 'bam': 208,\n",
              " 'bestfriend': 209,\n",
              " 'lot': 210,\n",
              " 'warsaw': 211,\n",
              " '<3': 212,\n",
              " 'x46': 213,\n",
              " 'everyon': 214,\n",
              " 'watch': 215,\n",
              " 'documentari': 216,\n",
              " 'earthl': 217,\n",
              " 'youtub': 218,\n",
              " 'support': 219,\n",
              " 'buuut': 220,\n",
              " 'oh': 221,\n",
              " 'look': 222,\n",
              " 'forward': 223,\n",
              " 'visit': 224,\n",
              " 'next': 225,\n",
              " 'letsgetmessi': 226,\n",
              " 'jo': 227,\n",
              " 'make': 228,\n",
              " 'feel': 229,\n",
              " 'better': 230,\n",
              " 'never': 231,\n",
              " 'anyon': 232,\n",
              " 'kpop': 233,\n",
              " 'flesh': 234,\n",
              " 'good': 235,\n",
              " 'girl': 236,\n",
              " 'best': 237,\n",
              " 'wish': 238,\n",
              " 'reason': 239,\n",
              " 'epic': 240,\n",
              " 'soundtrack': 241,\n",
              " 'shout': 242,\n",
              " 'ad': 243,\n",
              " 'video': 244,\n",
              " 'playlist': 245,\n",
              " 'would': 246,\n",
              " 'dear': 247,\n",
              " 'jordan': 248,\n",
              " 'okay': 249,\n",
              " 'fake': 250,\n",
              " 'gameplay': 251,\n",
              " ';)': 252,\n",
              " 'haha': 253,\n",
              " 'im': 254,\n",
              " 'kid': 255,\n",
              " 'stuff': 256,\n",
              " 'exactli': 257,\n",
              " 'product': 258,\n",
              " 'line': 259,\n",
              " 'etsi': 260,\n",
              " 'shop': 261,\n",
              " 'check': 262,\n",
              " 'vacat': 263,\n",
              " 'recharg': 264,\n",
              " 'normal': 265,\n",
              " 'charger': 266,\n",
              " 'asleep': 267,\n",
              " 'talk': 268,\n",
              " 'sooo': 269,\n",
              " 'someon': 270,\n",
              " 'text': 271,\n",
              " 'ye': 272,\n",
              " 'bet': 273,\n",
              " \"he'll\": 274,\n",
              " 'fit': 275,\n",
              " 'hear': 276,\n",
              " 'speech': 277,\n",
              " 'piti': 278,\n",
              " 'green': 279,\n",
              " 'garden': 280,\n",
              " 'midnight': 281,\n",
              " 'sun': 282,\n",
              " 'beauti': 283,\n",
              " 'canal': 284,\n",
              " 'dasvidaniya': 285,\n",
              " 'till': 286,\n",
              " 'scout': 287,\n",
              " 'sg': 288,\n",
              " 'futur': 289,\n",
              " 'wlan': 290,\n",
              " 'pro': 291,\n",
              " 'confer': 292,\n",
              " 'asia': 293,\n",
              " 'chang': 294,\n",
              " 'lollipop': 295,\n",
              " '🍭': 296,\n",
              " 'nez': 297,\n",
              " 'agnezmo': 298,\n",
              " 'oley': 299,\n",
              " 'mama': 300,\n",
              " 'stand': 301,\n",
              " 'stronger': 302,\n",
              " 'god': 303,\n",
              " 'misti': 304,\n",
              " 'babi': 305,\n",
              " 'cute': 306,\n",
              " 'woohoo': 307,\n",
              " \"can't\": 308,\n",
              " 'sign': 309,\n",
              " 'yet': 310,\n",
              " 'still': 311,\n",
              " 'think': 312,\n",
              " 'mka': 313,\n",
              " 'liam': 314,\n",
              " 'access': 315,\n",
              " 'welcom': 316,\n",
              " 'stat': 317,\n",
              " 'arriv': 318,\n",
              " '1': 319,\n",
              " 'unfollow': 320,\n",
              " 'via': 321,\n",
              " 'surpris': 322,\n",
              " 'figur': 323,\n",
              " 'happybirthdayemilybett': 324,\n",
              " 'sweet': 325,\n",
              " 'talent': 326,\n",
              " '2': 327,\n",
              " 'plan': 328,\n",
              " 'drain': 329,\n",
              " 'gotta': 330,\n",
              " 'timezon': 331,\n",
              " 'parent': 332,\n",
              " 'proud': 333,\n",
              " 'least': 334,\n",
              " 'mayb': 335,\n",
              " 'sometim': 336,\n",
              " 'grade': 337,\n",
              " 'al': 338,\n",
              " 'grand': 339,\n",
              " 'manila_bro': 340,\n",
              " 'chosen': 341,\n",
              " 'let': 342,\n",
              " 'around': 343,\n",
              " '..': 344,\n",
              " 'side': 345,\n",
              " 'world': 346,\n",
              " 'eh': 347,\n",
              " 'take': 348,\n",
              " 'care': 349,\n",
              " 'final': 350,\n",
              " 'fuck': 351,\n",
              " 'weekend': 352,\n",
              " 'real': 353,\n",
              " 'x45': 354,\n",
              " 'join': 355,\n",
              " 'hushedcallwithfraydo': 356,\n",
              " 'gift': 357,\n",
              " 'yeahhh': 358,\n",
              " 'hushedpinwithsammi': 359,\n",
              " 'event': 360,\n",
              " 'might': 361,\n",
              " 'luv': 362,\n",
              " 'realli': 363,\n",
              " 'appreci': 364,\n",
              " 'share': 365,\n",
              " 'wow': 366,\n",
              " 'tom': 367,\n",
              " 'gym': 368,\n",
              " 'monday': 369,\n",
              " 'invit': 370,\n",
              " 'scope': 371,\n",
              " 'friend': 372,\n",
              " 'nude': 373,\n",
              " 'sleep': 374,\n",
              " 'birthday': 375,\n",
              " 'want': 376,\n",
              " 't-shirt': 377,\n",
              " 'cool': 378,\n",
              " 'haw': 379,\n",
              " 'phela': 380,\n",
              " 'mom': 381,\n",
              " 'obvious': 382,\n",
              " 'princ': 383,\n",
              " 'charm': 384,\n",
              " 'stage': 385,\n",
              " 'luck': 386,\n",
              " 'tyler': 387,\n",
              " 'hipster': 388,\n",
              " 'glass': 389,\n",
              " 'marti': 390,\n",
              " 'glad': 391,\n",
              " 'done': 392,\n",
              " 'afternoon': 393,\n",
              " 'read': 394,\n",
              " 'kahfi': 395,\n",
              " 'finish': 396,\n",
              " 'ohmyg': 397,\n",
              " 'yaya': 398,\n",
              " 'dub': 399,\n",
              " 'stalk': 400,\n",
              " 'ig': 401,\n",
              " 'gondooo': 402,\n",
              " 'moo': 403,\n",
              " 'tologooo': 404,\n",
              " 'becom': 405,\n",
              " 'detail': 406,\n",
              " 'zzz': 407,\n",
              " 'xx': 408,\n",
              " 'physiotherapi': 409,\n",
              " 'hashtag': 410,\n",
              " '💪': 411,\n",
              " 'monica': 412,\n",
              " 'miss': 413,\n",
              " 'sound': 414,\n",
              " 'morn': 415,\n",
              " \"that'\": 416,\n",
              " 'x43': 417,\n",
              " 'definit': 418,\n",
              " 'tri': 419,\n",
              " 'tonight': 420,\n",
              " 'took': 421,\n",
              " 'advic': 422,\n",
              " 'treviso': 423,\n",
              " 'concert': 424,\n",
              " 'citi': 425,\n",
              " 'countri': 426,\n",
              " \"i'll\": 427,\n",
              " 'start': 428,\n",
              " 'fine': 429,\n",
              " 'gorgeou': 430,\n",
              " 'xo': 431,\n",
              " 'oven': 432,\n",
              " 'roast': 433,\n",
              " 'garlic': 434,\n",
              " 'oliv': 435,\n",
              " 'oil': 436,\n",
              " 'dri': 437,\n",
              " 'tomato': 438,\n",
              " 'basil': 439,\n",
              " 'centuri': 440,\n",
              " 'tuna': 441,\n",
              " 'right': 442,\n",
              " 'back': 443,\n",
              " 'atchya': 444,\n",
              " 'even': 445,\n",
              " 'almost': 446,\n",
              " 'chanc': 447,\n",
              " 'cheer': 448,\n",
              " 'po': 449,\n",
              " 'ice': 450,\n",
              " 'cream': 451,\n",
              " 'agre': 452,\n",
              " '100': 453,\n",
              " 'heheheh': 454,\n",
              " 'that': 455,\n",
              " 'point': 456,\n",
              " 'stay': 457,\n",
              " 'home': 458,\n",
              " 'soon': 459,\n",
              " 'promis': 460,\n",
              " 'web': 461,\n",
              " 'whatsapp': 462,\n",
              " 'volta': 463,\n",
              " 'funcionar': 464,\n",
              " 'com': 465,\n",
              " 'iphon': 466,\n",
              " 'jailbroken': 467,\n",
              " 'later': 468,\n",
              " '34': 469,\n",
              " 'min': 470,\n",
              " 'leia': 471,\n",
              " 'appear': 472,\n",
              " 'hologram': 473,\n",
              " 'r2d2': 474,\n",
              " 'w': 475,\n",
              " 'messag': 476,\n",
              " 'obi': 477,\n",
              " 'wan': 478,\n",
              " 'sit': 479,\n",
              " 'luke': 480,\n",
              " 'inter': 481,\n",
              " '3': 482,\n",
              " 'ucl': 483,\n",
              " 'arsen': 484,\n",
              " 'small': 485,\n",
              " 'team': 486,\n",
              " 'pass': 487,\n",
              " '🚂': 488,\n",
              " 'dewsburi': 489,\n",
              " 'railway': 490,\n",
              " 'station': 491,\n",
              " 'dew': 492,\n",
              " 'west': 493,\n",
              " 'yorkshir': 494,\n",
              " '430': 495,\n",
              " 'smh': 496,\n",
              " '9:25': 497,\n",
              " 'live': 498,\n",
              " 'strang': 499,\n",
              " 'imagin': 500,\n",
              " 'megan': 501,\n",
              " 'masaantoday': 502,\n",
              " 'a4': 503,\n",
              " 'shweta': 504,\n",
              " 'tripathi': 505,\n",
              " '5': 506,\n",
              " '20': 507,\n",
              " 'kurta': 508,\n",
              " 'half': 509,\n",
              " 'number': 510,\n",
              " 'wsalelov': 511,\n",
              " 'ah': 512,\n",
              " 'larri': 513,\n",
              " 'anyway': 514,\n",
              " 'kinda': 515,\n",
              " 'goood': 516,\n",
              " 'life': 517,\n",
              " 'enn': 518,\n",
              " 'could': 519,\n",
              " 'warmup': 520,\n",
              " '15th': 521,\n",
              " 'bath': 522,\n",
              " 'dum': 523,\n",
              " 'andar': 524,\n",
              " 'ram': 525,\n",
              " 'sampath': 526,\n",
              " 'sona': 527,\n",
              " 'mohapatra': 528,\n",
              " 'samantha': 529,\n",
              " 'edward': 530,\n",
              " 'mein': 531,\n",
              " 'tulan': 532,\n",
              " 'razi': 533,\n",
              " 'wah': 534,\n",
              " 'josh': 535,\n",
              " 'alway': 536,\n",
              " 'smile': 537,\n",
              " 'pictur': 538,\n",
              " '16.20': 539,\n",
              " 'giveitup': 540,\n",
              " 'given': 541,\n",
              " 'ga': 542,\n",
              " 'subsidi': 543,\n",
              " 'initi': 544,\n",
              " 'propos': 545,\n",
              " 'delight': 546,\n",
              " 'yesterday': 547,\n",
              " 'x42': 548,\n",
              " 'lmaoo': 549,\n",
              " 'song': 550,\n",
              " 'ever': 551,\n",
              " 'shall': 552,\n",
              " 'littl': 553,\n",
              " 'throwback': 554,\n",
              " 'outli': 555,\n",
              " 'island': 556,\n",
              " 'cheung': 557,\n",
              " 'chau': 558,\n",
              " 'mui': 559,\n",
              " 'wo': 560,\n",
              " 'total': 561,\n",
              " 'differ': 562,\n",
              " 'kfckitchentour': 563,\n",
              " 'kitchen': 564,\n",
              " 'clean': 565,\n",
              " \"i'm\": 566,\n",
              " 'cusp': 567,\n",
              " 'test': 568,\n",
              " 'water': 569,\n",
              " 'reward': 570,\n",
              " 'arummzz': 571,\n",
              " \"let'\": 572,\n",
              " 'drive': 573,\n",
              " 'travel': 574,\n",
              " 'yogyakarta': 575,\n",
              " 'jeep': 576,\n",
              " 'indonesia': 577,\n",
              " 'instamood': 578,\n",
              " 'wanna': 579,\n",
              " 'skype': 580,\n",
              " 'may': 581,\n",
              " 'nice': 582,\n",
              " 'friendli': 583,\n",
              " 'pretend': 584,\n",
              " 'film': 585,\n",
              " 'congratul': 586,\n",
              " 'winner': 587,\n",
              " 'cheesydelight': 588,\n",
              " 'contest': 589,\n",
              " 'address': 590,\n",
              " 'guy': 591,\n",
              " 'market': 592,\n",
              " '24/7': 593,\n",
              " '14': 594,\n",
              " 'hour': 595,\n",
              " 'leav': 596,\n",
              " 'without': 597,\n",
              " 'delay': 598,\n",
              " 'actual': 599,\n",
              " 'easi': 600,\n",
              " 'guess': 601,\n",
              " 'train': 602,\n",
              " 'wd': 603,\n",
              " 'shift': 604,\n",
              " 'engin': 605,\n",
              " 'etc': 606,\n",
              " 'sunburn': 607,\n",
              " 'peel': 608,\n",
              " 'blog': 609,\n",
              " 'huge': 610,\n",
              " 'warm': 611,\n",
              " '☆': 612,\n",
              " 'complet': 613,\n",
              " 'triangl': 614,\n",
              " 'northern': 615,\n",
              " 'ireland': 616,\n",
              " 'sight': 617,\n",
              " 'smthng': 618,\n",
              " 'fr': 619,\n",
              " 'hug': 620,\n",
              " 'xoxo': 621,\n",
              " 'uu': 622,\n",
              " 'jaann': 623,\n",
              " 'topnewfollow': 624,\n",
              " 'connect': 625,\n",
              " 'wonder': 626,\n",
              " 'made': 627,\n",
              " 'fluffi': 628,\n",
              " 'insid': 629,\n",
              " 'pirouett': 630,\n",
              " 'moos': 631,\n",
              " 'trip': 632,\n",
              " 'philli': 633,\n",
              " 'decemb': 634,\n",
              " \"i'd\": 635,\n",
              " 'dude': 636,\n",
              " 'x41': 637,\n",
              " 'question': 638,\n",
              " 'flaw': 639,\n",
              " 'pain': 640,\n",
              " 'negat': 641,\n",
              " 'strength': 642,\n",
              " 'went': 643,\n",
              " 'solo': 644,\n",
              " 'move': 645,\n",
              " 'fav': 646,\n",
              " 'nirvana': 647,\n",
              " 'smell': 648,\n",
              " 'teen': 649,\n",
              " 'spirit': 650,\n",
              " 'rip': 651,\n",
              " 'ami': 652,\n",
              " 'winehous': 653,\n",
              " 'coupl': 654,\n",
              " 'tomhiddleston': 655,\n",
              " 'elizabetholsen': 656,\n",
              " 'yaytheylookgreat': 657,\n",
              " 'goodnight': 658,\n",
              " 'vid': 659,\n",
              " 'wake': 660,\n",
              " 'gonna': 661,\n",
              " 'shoot': 662,\n",
              " 'itti': 663,\n",
              " 'bitti': 664,\n",
              " 'teeni': 665,\n",
              " 'bikini': 666,\n",
              " 'much': 667,\n",
              " '4th': 668,\n",
              " 'togeth': 669,\n",
              " 'end': 670,\n",
              " 'xfile': 671,\n",
              " 'content': 672,\n",
              " 'rain': 673,\n",
              " 'fabul': 674,\n",
              " 'fantast': 675,\n",
              " '♡': 676,\n",
              " 'jb': 677,\n",
              " 'forev': 678,\n",
              " 'belieb': 679,\n",
              " 'nighti': 680,\n",
              " 'bug': 681,\n",
              " 'bite': 682,\n",
              " 'bracelet': 683,\n",
              " 'idea': 684,\n",
              " 'foundri': 685,\n",
              " 'game': 686,\n",
              " 'sens': 687,\n",
              " 'pic': 688,\n",
              " 'ef': 689,\n",
              " 'phone': 690,\n",
              " 'woot': 691,\n",
              " 'derek': 692,\n",
              " 'use': 693,\n",
              " 'parkshar': 694,\n",
              " 'gloucestershir': 695,\n",
              " 'aaaahhh': 696,\n",
              " 'man': 697,\n",
              " 'traffic': 698,\n",
              " 'stress': 699,\n",
              " 'reliev': 700,\n",
              " \"how'r\": 701,\n",
              " 'arbeloa': 702,\n",
              " 'turn': 703,\n",
              " '17': 704,\n",
              " 'omg': 705,\n",
              " 'say': 706,\n",
              " 'europ': 707,\n",
              " 'rise': 708,\n",
              " 'find': 709,\n",
              " 'hard': 710,\n",
              " 'believ': 711,\n",
              " 'uncount': 712,\n",
              " 'coz': 713,\n",
              " 'unlimit': 714,\n",
              " 'cours': 715,\n",
              " 'teamposit': 716,\n",
              " 'aldub': 717,\n",
              " '☕': 718,\n",
              " 'rita': 719,\n",
              " 'info': 720,\n",
              " \"we'd\": 721,\n",
              " 'way': 722,\n",
              " 'boy': 723,\n",
              " 'x40': 724,\n",
              " 'true': 725,\n",
              " 'sethi': 726,\n",
              " 'high': 727,\n",
              " 'exe': 728,\n",
              " 'skeem': 729,\n",
              " 'saam': 730,\n",
              " 'peopl': 731,\n",
              " 'polit': 732,\n",
              " 'izzat': 733,\n",
              " 'wese': 734,\n",
              " 'trust': 735,\n",
              " 'khawateen': 736,\n",
              " 'k': 737,\n",
              " 'sath': 738,\n",
              " 'mana': 739,\n",
              " 'kar': 740,\n",
              " 'deya': 741,\n",
              " 'sort': 742,\n",
              " 'smart': 743,\n",
              " 'hair': 744,\n",
              " 'tbh': 745,\n",
              " 'jacob': 746,\n",
              " 'g': 747,\n",
              " 'upgrad': 748,\n",
              " 'tee': 749,\n",
              " 'famili': 750,\n",
              " 'person': 751,\n",
              " 'two': 752,\n",
              " 'convers': 753,\n",
              " 'onlin': 754,\n",
              " 'mclaren': 755,\n",
              " 'fridayfeel': 756,\n",
              " 'tgif': 757,\n",
              " 'squar': 758,\n",
              " 'enix': 759,\n",
              " 'bissmillah': 760,\n",
              " 'ya': 761,\n",
              " 'allah': 762,\n",
              " \"we'r\": 763,\n",
              " 'socent': 764,\n",
              " 'startup': 765,\n",
              " 'drop': 766,\n",
              " 'your': 767,\n",
              " 'arnd': 768,\n",
              " 'town': 769,\n",
              " 'basic': 770,\n",
              " 'piss': 771,\n",
              " 'cup': 772,\n",
              " 'also': 773,\n",
              " 'terribl': 774,\n",
              " 'complic': 775,\n",
              " 'discuss': 776,\n",
              " 'snapchat': 777,\n",
              " 'lynettelow': 778,\n",
              " 'kikmenow': 779,\n",
              " 'snapm': 780,\n",
              " 'hot': 781,\n",
              " 'amazon': 782,\n",
              " 'kikmeguy': 783,\n",
              " 'defin': 784,\n",
              " 'grow': 785,\n",
              " 'sport': 786,\n",
              " 'rt': 787,\n",
              " 'rakyat': 788,\n",
              " 'write': 789,\n",
              " 'sinc': 790,\n",
              " 'mention': 791,\n",
              " 'fli': 792,\n",
              " 'fish': 793,\n",
              " 'promot': 794,\n",
              " 'post': 795,\n",
              " 'cyber': 796,\n",
              " 'ourdaughtersourprid': 797,\n",
              " 'mypapamyprid': 798,\n",
              " 'papa': 799,\n",
              " 'coach': 800,\n",
              " 'posit': 801,\n",
              " 'kha': 802,\n",
              " 'atleast': 803,\n",
              " 'x39': 804,\n",
              " 'mango': 805,\n",
              " \"lassi'\": 806,\n",
              " \"monty'\": 807,\n",
              " 'marvel': 808,\n",
              " 'though': 809,\n",
              " 'suspect': 810,\n",
              " 'meant': 811,\n",
              " '24': 812,\n",
              " 'hr': 813,\n",
              " 'touch': 814,\n",
              " 'kepler': 815,\n",
              " '452b': 816,\n",
              " 'chalna': 817,\n",
              " 'hai': 818,\n",
              " 'thankyou': 819,\n",
              " 'hazel': 820,\n",
              " 'food': 821,\n",
              " 'brooklyn': 822,\n",
              " 'pta': 823,\n",
              " 'awak': 824,\n",
              " 'okayi': 825,\n",
              " 'awww': 826,\n",
              " 'ha': 827,\n",
              " 'doc': 828,\n",
              " 'splendid': 829,\n",
              " 'spam': 830,\n",
              " 'folder': 831,\n",
              " 'amount': 832,\n",
              " 'nigeria': 833,\n",
              " 'claim': 834,\n",
              " 'rted': 835,\n",
              " 'leg': 836,\n",
              " 'hurt': 837,\n",
              " 'bad': 838,\n",
              " 'mine': 839,\n",
              " 'saturday': 840,\n",
              " 'thaaank': 841,\n",
              " 'puhon': 842,\n",
              " 'happinesss': 843,\n",
              " 'tnc': 844,\n",
              " 'prior': 845,\n",
              " 'notif': 846,\n",
              " 'fat': 847,\n",
              " 'co': 848,\n",
              " 'probabl': 849,\n",
              " 'ate': 850,\n",
              " 'yuna': 851,\n",
              " 'tamesid': 852,\n",
              " '´': 853,\n",
              " 'googl': 854,\n",
              " 'account': 855,\n",
              " 'scouser': 856,\n",
              " 'everyth': 857,\n",
              " 'zoe': 858,\n",
              " 'mate': 859,\n",
              " 'liter': 860,\n",
              " \"they'r\": 861,\n",
              " 'samee': 862,\n",
              " 'edgar': 863,\n",
              " 'updat': 864,\n",
              " 'log': 865,\n",
              " 'bring': 866,\n",
              " 'abe': 867,\n",
              " 'meet': 868,\n",
              " 'x38': 869,\n",
              " 'sigh': 870,\n",
              " 'dreamili': 871,\n",
              " 'pout': 872,\n",
              " 'eye': 873,\n",
              " 'quacketyquack': 874,\n",
              " 'funni': 875,\n",
              " 'happen': 876,\n",
              " 'phil': 877,\n",
              " 'em': 878,\n",
              " 'del': 879,\n",
              " 'rodder': 880,\n",
              " 'els': 881,\n",
              " 'play': 882,\n",
              " 'newest': 883,\n",
              " 'gamejam': 884,\n",
              " 'irish': 885,\n",
              " 'literatur': 886,\n",
              " 'inaccess': 887,\n",
              " \"kareena'\": 888,\n",
              " 'fan': 889,\n",
              " 'brain': 890,\n",
              " 'dot': 891,\n",
              " 'braindot': 892,\n",
              " 'fair': 893,\n",
              " 'rush': 894,\n",
              " 'either': 895,\n",
              " 'brandi': 896,\n",
              " '18': 897,\n",
              " 'carniv': 898,\n",
              " 'men': 899,\n",
              " 'put': 900,\n",
              " 'mask': 901,\n",
              " 'xavier': 902,\n",
              " 'forneret': 903,\n",
              " 'jennif': 904,\n",
              " 'site': 905,\n",
              " 'free': 906,\n",
              " '50.000': 907,\n",
              " '8': 908,\n",
              " 'ball': 909,\n",
              " 'pool': 910,\n",
              " 'coin': 911,\n",
              " 'edit': 912,\n",
              " 'trish': 913,\n",
              " '♥': 914,\n",
              " 'grate': 915,\n",
              " 'three': 916,\n",
              " 'comment': 917,\n",
              " 'wakeup': 918,\n",
              " 'besid': 919,\n",
              " 'dirti': 920,\n",
              " 'sex': 921,\n",
              " 'lmaooo': 922,\n",
              " '😤': 923,\n",
              " 'loui': 924,\n",
              " \"he'\": 925,\n",
              " 'throw': 926,\n",
              " 'caus': 927,\n",
              " 'inspir': 928,\n",
              " 'ff': 929,\n",
              " 'twoof': 930,\n",
              " 'gr8': 931,\n",
              " 'wkend': 932,\n",
              " 'kind': 933,\n",
              " 'exhaust': 934,\n",
              " 'word': 935,\n",
              " 'cheltenham': 936,\n",
              " 'area': 937,\n",
              " 'kale': 938,\n",
              " 'crisp': 939,\n",
              " 'ruin': 940,\n",
              " 'x37': 941,\n",
              " 'open': 942,\n",
              " 'worldwid': 943,\n",
              " 'outta': 944,\n",
              " 'sfvbeta': 945,\n",
              " 'vantast': 946,\n",
              " 'xcylin': 947,\n",
              " 'bundl': 948,\n",
              " 'show': 949,\n",
              " 'internet': 950,\n",
              " 'price': 951,\n",
              " 'realisticli': 952,\n",
              " 'pay': 953,\n",
              " 'net': 954,\n",
              " 'educ': 955,\n",
              " 'power': 956,\n",
              " 'weapon': 957,\n",
              " 'nelson': 958,\n",
              " 'mandela': 959,\n",
              " 'recent': 960,\n",
              " 'j': 961,\n",
              " 'chenab': 962,\n",
              " 'flow': 963,\n",
              " 'pakistan': 964,\n",
              " 'incredibleindia': 965,\n",
              " 'teenchoic': 966,\n",
              " 'choiceinternationalartist': 967,\n",
              " 'superjunior': 968,\n",
              " 'caught': 969,\n",
              " 'first': 970,\n",
              " 'salmon': 971,\n",
              " 'super-blend': 972,\n",
              " 'project': 973,\n",
              " 'youth@bipolaruk.org.uk': 974,\n",
              " 'awesom': 975,\n",
              " 'stream': 976,\n",
              " 'alma': 977,\n",
              " 'mater': 978,\n",
              " 'highschoolday': 979,\n",
              " 'clientvisit': 980,\n",
              " 'faith': 981,\n",
              " 'christian': 982,\n",
              " 'school': 983,\n",
              " 'lizaminnelli': 984,\n",
              " 'upcom': 985,\n",
              " 'uk': 986,\n",
              " '😄': 987,\n",
              " 'singl': 988,\n",
              " 'hill': 989,\n",
              " 'everi': 990,\n",
              " 'beat': 991,\n",
              " 'wrong': 992,\n",
              " 'readi': 993,\n",
              " 'natur': 994,\n",
              " 'pefumeri': 995,\n",
              " 'workshop': 996,\n",
              " 'neal': 997,\n",
              " 'yard': 998,\n",
              " 'covent': 999,\n",
              " ...}"
            ]
          },
          "metadata": {}
        }
      ],
      "source": [
        "# Build the vocabulary\n",
        "# Unit Test Note - There is no test set here only train/val\n",
        "\n",
        "# Include special tokens\n",
        "# started with pad, end of line and unk tokens\n",
        "Vocab = {'__PAD__': 0, '__</e>__': 1, '__UNK__': 2}\n",
        "\n",
        "# Note that we build vocab using training data\n",
        "for tweet in train_x:\n",
        "    processed_tweet = process_tweet(tweet)\n",
        "    for word in processed_tweet:\n",
        "        if word not in Vocab:\n",
        "            Vocab[word] = len(Vocab)\n",
        "\n",
        "print(\"Total words in vocab are\",len(Vocab))\n",
        "display(Vocab)"
      ]
    },
    {
      "cell_type": "markdown",
      "metadata": {
        "id": "gP6K9qcCAVue"
      },
      "source": [
        "The dictionary `Vocab` will look like this:\n",
        "```CPP\n",
        "{'__PAD__': 0,\n",
        " '__</e>__': 1,\n",
        " '__UNK__': 2,\n",
        " 'followfriday': 3,\n",
        " 'top': 4,\n",
        " 'engag': 5,\n",
        " ...\n",
        "```\n",
        "\n",
        "- Each unique word has a unique integer associated with it.\n",
        "- The total number of words in Vocab: 9088"
      ]
    },
    {
      "cell_type": "markdown",
      "metadata": {
        "id": "0x8pND8tAVuf"
      },
      "source": [
        "<a name=\"2.3\"></a>\n",
        "## 2.3  Converting a tweet to a tensor\n",
        "\n",
        "Write a function that will convert each tweet to a tensor (a list of unique integer IDs representing the processed tweet).\n",
        "- Note, the returned data type will be a **regular Python `list()`**\n",
        "    - You won't use TensorFlow in this function\n",
        "    - You also won't use a numpy array\n",
        "    - You also won't use trax.fastmath.numpy array\n",
        "- For words in the tweet that are not in the vocabulary, set them to the unique ID for the token `__UNK__`.\n",
        "\n",
        "##### Example\n",
        "Input a tweet:\n",
        "```CPP\n",
        "'@happypuppy, is Maria happy?'\n",
        "```\n",
        "\n",
        "The tweet_to_tensor will first conver the tweet into a list of tokens (including only relevant words)\n",
        "```CPP\n",
        "['maria', 'happi']\n",
        "```\n",
        "\n",
        "Then it will convert each word into its unique integer\n",
        "\n",
        "```CPP\n",
        "[2, 56]\n",
        "```\n",
        "- Notice that the word \"maria\" is not in the vocabulary, so it is assigned the unique integer associated with the `__UNK__` token, because it is considered \"unknown.\"\n",
        "\n"
      ]
    },
    {
      "cell_type": "markdown",
      "metadata": {
        "id": "QtQhtv0kjCWQ"
      },
      "source": [
        "<a name=\"ex01\"></a>\n",
        "### Exercise 01\n",
        "**Instructions:** Write a program `tweet_to_tensor` that takes in a tweet and converts it to an array of numbers. You can use the `Vocab` dictionary you just found to help create the tensor.\n",
        "\n",
        "- Use the vocab_dict parameter and not a global variable.\n",
        "- Do not hard code the integer value for the `__UNK__` token."
      ]
    },
    {
      "cell_type": "markdown",
      "metadata": {
        "id": "sKSx1SBYjCWR"
      },
      "source": [
        "<details>    \n",
        "<summary>\n",
        "    <font size=\"3\" color=\"darkgreen\"><b>Hints</b></font>\n",
        "</summary>\n",
        "<p>\n",
        "<ul>\n",
        "    <li>Map each word in tweet to corresponding token in 'Vocab'</li>\n",
        "    <li>Use Python's Dictionary.get(key,value) so that the function returns a default value if the key is not found in the dictionary.</li>\n",
        "</ul>\n",
        "</p>\n"
      ]
    },
    {
      "cell_type": "code",
      "execution_count": 21,
      "metadata": {
        "id": "Ft1zNGMaAVuf"
      },
      "outputs": [],
      "source": [
        "# UNQ_C1 (UNIQUE CELL IDENTIFIER, DO NOT EDIT)\n",
        "# GRADED FUNCTION: tweet_to_tensor\n",
        "def tweet_to_tensor(tweet, vocab_dict, unk_token='__UNK__', verbose=False):\n",
        "    '''\n",
        "    Input:\n",
        "        tweet - A string containing a tweet\n",
        "        vocab_dict - The words dictionary\n",
        "        unk_token - The special string for unknown tokens\n",
        "        verbose - Print info durign runtime\n",
        "    Output:\n",
        "        tensor_l - A python list with\n",
        "\n",
        "    '''\n",
        "\n",
        "    ### START CODE HERE (Replace instances of 'None' with your code) ###\n",
        "    # Process the tweet into a list of words\n",
        "    # where only important words are kept (stop words removed)\n",
        "    word_l = process_tweet(tweet) # так как написано Process the tweet\n",
        "\n",
        "    if verbose:\n",
        "        print(\"List of words from the processed tweet:\")\n",
        "        print(word_l)\n",
        "\n",
        "    # Initialize the list that will contain the unique integer IDs of each word\n",
        "    tensor_l = []\n",
        "\n",
        "    # Get the unique integer ID of the __UNK__ token\n",
        "    unk_ID = vocab_dict[unk_token]  # можно было просто написать 2, но было сказано задать в общем виде\n",
        "\n",
        "    if verbose:\n",
        "        print(f\"The unique integer ID for the unk_token is {unk_ID}\")\n",
        "\n",
        "    # for each word in the list:\n",
        "    for word in word_l:\n",
        "\n",
        "        # Get the unique integer ID.\n",
        "        # If the word doesn't exist in the vocab dictionary,\n",
        "        # use the unique ID for __UNK__ instead.\n",
        "        word_ID = vocab_dict.get(word, unk_ID)  # была подсказка в hint сверху\n",
        "    ### END CODE HERE ###\n",
        "\n",
        "        # Append the unique integer ID to the tensor list.\n",
        "        tensor_l.append(word_ID)\n",
        "\n",
        "    return tensor_l"
      ]
    },
    {
      "cell_type": "code",
      "execution_count": 22,
      "metadata": {
        "colab": {
          "base_uri": "https://localhost:8080/"
        },
        "id": "ze0Zx_5UjCWU",
        "outputId": "80b6bcb0-ba5a-4b47-9385-7b66f3cef290"
      },
      "outputs": [
        {
          "output_type": "stream",
          "name": "stdout",
          "text": [
            "Actual tweet is\n",
            " Bro:U wan cut hair anot,ur hair long Liao bo\n",
            "Me:since ord liao,take it easy lor treat as save $ leave it longer :)\n",
            "Bro:LOL Sibei xialan\n",
            "\n",
            "Tensor of tweet:\n",
            " [1064, 136, 478, 2351, 744, 8148, 1122, 744, 53, 2, 2671, 790, 2, 2, 348, 600, 2, 3488, 1016, 596, 4558, 9, 1064, 157, 2, 2]\n"
          ]
        }
      ],
      "source": [
        "print(\"Actual tweet is\\n\", val_pos[0])\n",
        "print(\"\\nTensor of tweet:\\n\", tweet_to_tensor(val_pos[0], vocab_dict=Vocab))\n",
        "# почему-то у меня ID некоторых значений на 1 меньше, ну хз, возможно было переставлено какое-то одно слово (или твит) после написания задания :("
      ]
    },
    {
      "cell_type": "markdown",
      "metadata": {
        "id": "s0MbWVeijCWW"
      },
      "source": [
        "##### Expected output\n",
        "\n",
        "```CPP\n",
        "Actual tweet is\n",
        " Bro:U wan cut hair anot,ur hair long Liao bo\n",
        "Me:since ord liao,take it easy lor treat as save $ leave it longer :)\n",
        "Bro:LOL Sibei xialan\n",
        "\n",
        "Tensor of tweet:\n",
        " [1065, 136, 479, 2351, 745, 8148, 1123, 745, 53, 2, 2672, 791, 2, 2, 349, 601, 2, 3489, 1017, 597, 4559, 9, 1065, 157, 2, 2]\n",
        "```"
      ]
    },
    {
      "cell_type": "code",
      "execution_count": 23,
      "metadata": {
        "id": "bMmf0pPcjCWX",
        "colab": {
          "base_uri": "https://localhost:8080/"
        },
        "outputId": "c1c5f556-583c-4f94-a7e1-710387354efe"
      },
      "outputs": [
        {
          "output_type": "stream",
          "name": "stdout",
          "text": [
            "The function gives bad output for val_pos[1]. Test failed\n",
            "2  Tests passed out of 3\n"
          ]
        }
      ],
      "source": [
        "# test tweet_to_tensor\n",
        "\n",
        "def test_tweet_to_tensor():\n",
        "    test_cases = [\n",
        "\n",
        "        {\n",
        "            \"name\":\"simple_test_check\",\n",
        "            \"input\": [val_pos[1], Vocab],\n",
        "            \"expected\":[444, 2, 304, 567, 56, 9],\n",
        "            \"error\":\"The function gives bad output for val_pos[1]. Test failed\"\n",
        "        },\n",
        "        {\n",
        "            \"name\":\"datatype_check\",\n",
        "            \"input\":[val_pos[1], Vocab],\n",
        "            \"expected\":type([]),\n",
        "            \"error\":\"Datatype mismatch. Need only list not np.array\"\n",
        "        },\n",
        "        {\n",
        "            \"name\":\"without_unk_check\",\n",
        "            \"input\":[val_pos[1], Vocab],\n",
        "            \"expected\":6,\n",
        "            \"error\":\"Unk word check not done- Please check if you included mapping for unknown word\"\n",
        "        }\n",
        "    ]\n",
        "    count = 0\n",
        "    for test_case in test_cases:\n",
        "\n",
        "        try:\n",
        "            if test_case['name'] == \"simple_test_check\":\n",
        "                assert test_case[\"expected\"] == tweet_to_tensor(*test_case[\"input\"])\n",
        "                count += 1\n",
        "            if test_case['name'] == \"datatype_check\":\n",
        "                assert isinstance(tweet_to_tensor(*test_case['input']), test_case[\"expected\"])\n",
        "                count += 1\n",
        "            if test_case['name'] == \"without_unk_check\":\n",
        "                assert None not in tweet_to_tensor(*test_case['input'])\n",
        "                count += 1\n",
        "\n",
        "\n",
        "\n",
        "        except:\n",
        "            print(test_case['error'])\n",
        "    if count == 3:\n",
        "        print(\"\\033[92m All tests passed\")\n",
        "    else:\n",
        "        print(count,\" Tests passed out of 3\")\n",
        "\n",
        "test_tweet_to_tensor()"
      ]
    },
    {
      "cell_type": "markdown",
      "metadata": {
        "id": "rwAZZIYYAVuj"
      },
      "source": [
        "<a name=\"2.4\"></a>\n",
        "## 2.4  Creating a batch generator\n",
        "\n",
        "Most of the time in Natural Language Processing, and AI in general we use batches when training our data sets.\n",
        "- If instead of training with batches of examples, you were to train a model with one example at a time, it would take a very long time to train the model.\n",
        "- You will now build a data generator that takes in the positive/negative tweets and returns a batch of training examples. It returns the model inputs, the targets (positive or negative labels) and the weight for each target (ex: this allows us to can treat some examples as more important to get right than others, but commonly this will all be 1.0).\n",
        "\n",
        "Once you create the generator, you could include it in a for loop\n",
        "\n",
        "```CPP\n",
        "for batch_inputs, batch_targets, batch_example_weights in data_generator:\n",
        "    ...\n",
        "```\n",
        "\n",
        "You can also get a single batch like this:\n",
        "\n",
        "```CPP\n",
        "batch_inputs, batch_targets, batch_example_weights = next(data_generator)\n",
        "```\n",
        "The generator returns the next batch each time it's called.\n",
        "- This generator returns the data in a format (tensors) that you could directly use in your model.\n",
        "- It returns a triple: the inputs, targets, and loss weights:\n",
        "-- Inputs is a tensor that contains the batch of tweets we put into the model.\n",
        "-- Targets is the corresponding batch of labels that we train to generate.\n",
        "-- Loss weights here are just 1s with same shape as targets. Next week, you will use it to mask input padding."
      ]
    },
    {
      "cell_type": "markdown",
      "metadata": {
        "id": "sR-sF_o0jCWa"
      },
      "source": [
        "<a name=\"ex02\"></a>\n",
        "### Exercise 02\n",
        "Implement `data_generator`."
      ]
    },
    {
      "cell_type": "code",
      "execution_count": 24,
      "metadata": {
        "id": "fPd9HNT7AVuk"
      },
      "outputs": [],
      "source": [
        "# UNQ_C2 (UNIQUE CELL IDENTIFIER, DO NOT EDIT)\n",
        "# GRADED: Data generator\n",
        "def data_generator(data_pos, data_neg, batch_size, loop, vocab_dict, shuffle=False):\n",
        "    '''\n",
        "    Input:\n",
        "        data_pos - Set of posstive examples\n",
        "        data_neg - Set of negative examples\n",
        "        batch_size - number of samples per batch. Must be even\n",
        "        loop - True or False\n",
        "        vocab_dict - The words dictionary\n",
        "        shuffle - Shuffle the data order\n",
        "    Yield:\n",
        "        inputs - Subset of positive and negative examples\n",
        "        targets - The corresponding labels for the subset\n",
        "        example_weights - An array specifying the importance of each example\n",
        "\n",
        "    '''\n",
        "### START GIVEN CODE ###\n",
        "    # make sure the batch size is an even number\n",
        "    # to allow an equal number of positive and negative samples\n",
        "    assert batch_size % 2 == 0\n",
        "\n",
        "    # Number of positive examples in each batch is half of the batch size\n",
        "    # same with number of negative examples in each batch\n",
        "    n_to_take = batch_size // 2\n",
        "\n",
        "    # Use pos_index to walk through the data_pos array\n",
        "    # same with neg_index and data_neg\n",
        "    pos_index = 0\n",
        "    neg_index = 0\n",
        "\n",
        "    len_data_pos = len(data_pos)\n",
        "    len_data_neg = len(data_neg)\n",
        "\n",
        "    # Get and array with the data indexes\n",
        "    pos_index_lines = list(range(len_data_pos))\n",
        "    neg_index_lines = list(range(len_data_neg))\n",
        "\n",
        "    # shuffle lines if shuffle is set to True\n",
        "    if shuffle:\n",
        "        rnd.shuffle(pos_index_lines)\n",
        "        rnd.shuffle(neg_index_lines)\n",
        "\n",
        "    stop = False\n",
        "\n",
        "    # Loop indefinitely\n",
        "    while not stop:\n",
        "\n",
        "        # create a batch with positive and negative examples\n",
        "        batch = []\n",
        "\n",
        "        # First part: Pack n_to_take positive examples\n",
        "\n",
        "        # Start from pos_index and increment i up to n_to_take\n",
        "        for i in range(n_to_take):\n",
        "\n",
        "            # If the positive index goes past the positive dataset lenght,\n",
        "            if pos_index >= len_data_pos:\n",
        "\n",
        "                # If loop is set to False, break once we reach the end of the dataset\n",
        "                if not loop:\n",
        "                    stop = True;\n",
        "                    break;\n",
        "\n",
        "                # If user wants to keep re-using the data, reset the index\n",
        "                pos_index = 0\n",
        "\n",
        "                if shuffle:\n",
        "                    # Shuffle the index of the positive sample\n",
        "                    rnd.shuffle(pos_index_lines)\n",
        "\n",
        "            # get the tweet as pos_index\n",
        "            tweet = data_pos[pos_index_lines[pos_index]]\n",
        "\n",
        "            # convert the tweet into tensors of integers representing the processed words\n",
        "            tensor = tweet_to_tensor(tweet, vocab_dict)\n",
        "\n",
        "            # append the tensor to the batch list\n",
        "            batch.append(tensor)\n",
        "\n",
        "            # Increment pos_index by one\n",
        "            pos_index = pos_index + 1\n",
        "\n",
        "### END GIVEN CODE ###\n",
        "\n",
        "### START CODE HERE (Replace instances of 'None' with your code) ###\n",
        "\n",
        "        # Second part: Pack n_to_take negative examples\n",
        "\n",
        "        # Using the same batch list, start from neg_index and increment i up to n_to_take\n",
        "        for i in range(n_to_take):\n",
        "\n",
        "            # If the negative index goes past the negative dataset length,\n",
        "            if neg_index >= len_data_neg:\n",
        "\n",
        "                # If loop is set to False, break once we reach the end of the dataset\n",
        "                if not loop:\n",
        "                    stop = True;\n",
        "                    break;\n",
        "\n",
        "                # If user wants to keep re-using the data, reset the index\n",
        "                neg_index = 0\n",
        "\n",
        "                if shuffle:\n",
        "                    # Shuffle the index of the negative sample\n",
        "                    rnd.shuffle(neg_index_lines)\n",
        "            # get the tweet as neg_index\n",
        "            tweet = data_neg[neg_index_lines[neg_index]]\n",
        "\n",
        "            # convert the tweet into tensors of integers representing the processed words\n",
        "            tensor = tweet_to_tensor(tweet, vocab_dict)\n",
        "\n",
        "            # append the tensor to the batch list\n",
        "            batch.append(tensor)\n",
        "\n",
        "            # Increment neg_index by one\n",
        "            neg_index += 1\n",
        "\n",
        "### END CODE HERE ###\n",
        "\n",
        "### START GIVEN CODE ###\n",
        "        if stop:\n",
        "            break;\n",
        "\n",
        "        # Update the start index for positive data\n",
        "        # so that it's n_to_take positions after the current pos_index\n",
        "        pos_index += n_to_take\n",
        "\n",
        "        # Update the start index for negative data\n",
        "        # so that it's n_to_take positions after the current neg_index\n",
        "        neg_index += n_to_take\n",
        "\n",
        "        # Get the max tweet length (the length of the longest tweet)\n",
        "        # (you will pad all shorter tweets to have this length)\n",
        "        max_len = max([len(t) for t in batch])\n",
        "\n",
        "\n",
        "        # Initialize the input_l, which will\n",
        "        # store the padded versions of the tensors\n",
        "        tensor_pad_l = []\n",
        "        # Pad shorter tweets with zeros\n",
        "        for tensor in batch:\n",
        "### END GIVEN CODE ###\n",
        "\n",
        "### START CODE HERE (Replace instances of 'None' with your code) ###\n",
        "            # Get the number of positions to pad for this tensor so that it will be max_len long\n",
        "            n_pad = max_len - len(tensor)\n",
        "\n",
        "            # Generate a list of zeros, with length n_pad\n",
        "            pad_l = [0] * n_pad\n",
        "\n",
        "            # concatenate the tensor and the list of padded zeros\n",
        "            tensor_pad = tensor + pad_l\n",
        "\n",
        "            # append the padded tensor to the list of padded tensors\n",
        "            tensor_pad_l.append(tensor_pad)\n",
        "\n",
        "        # convert the list of padded tensors to a numpy array\n",
        "        # and store this as the model inputs\n",
        "        inputs = np.array(tensor_pad_l)\n",
        "\n",
        "        # Generate the list of targets for the positive examples (a list of ones)\n",
        "        # The length is the number of positive examples in the batch\n",
        "        target_pos = [1] * (batch_size // 2)\n",
        "\n",
        "        # Generate the list of targets for the negative examples (a list of zeros)\n",
        "        # The length is the number of negative examples in the batch\n",
        "        target_neg = [0] * (batch_size // 2)\n",
        "\n",
        "        # Concatenate the positve and negative targets\n",
        "        target_l = target_pos + target_neg\n",
        "\n",
        "        # Convert the target list into a numpy array\n",
        "        targets = np.array(target_l)\n",
        "\n",
        "        # Example weights: Treat all examples equally importantly.It should return an np.array. Hint: Use np.ones_like()\n",
        "        example_weights = np.ones_like(np.array(target_l))\n",
        "\n",
        "\n",
        "### END CODE HERE ###\n",
        "\n",
        "### GIVEN CODE ###\n",
        "        # note we use yield and not return\n",
        "        yield inputs, targets, example_weights"
      ]
    },
    {
      "cell_type": "markdown",
      "metadata": {
        "id": "kI9gEdqpjCWd"
      },
      "source": [
        "Now you can use your data generator to create a data generator for the training data, and another data generator for the validation data.\n",
        "\n",
        "We will create a third data generator that does not loop, for testing the final accuracy of the model."
      ]
    },
    {
      "cell_type": "code",
      "execution_count": 25,
      "metadata": {
        "id": "iIwM4YHtAVum",
        "colab": {
          "base_uri": "https://localhost:8080/"
        },
        "outputId": "384c56c1-5b73-4bd1-f08e-411d187cab1f"
      },
      "outputs": [
        {
          "output_type": "stream",
          "name": "stdout",
          "text": [
            "Inputs: [[2005 4450 3200    9    0    0    0    0    0    0    0]\n",
            " [4953  566 2000 1453 5173 3498  141 3498  130  458    9]\n",
            " [3760  109  136  582 2929 3968    0    0    0    0    0]\n",
            " [ 249 3760    0    0    0    0    0    0    0    0    0]]\n",
            "Targets: [1 1 0 0]\n",
            "Example Weights: [1 1 1 1]\n"
          ]
        }
      ],
      "source": [
        "# Set the random number generator for the shuffle procedure\n",
        "rnd.seed(30)\n",
        "\n",
        "# Create the training data generator\n",
        "def train_generator(batch_size, shuffle = False):\n",
        "    return data_generator(train_pos, train_neg, batch_size, True, Vocab, shuffle)\n",
        "\n",
        "# Create the validation data generator\n",
        "def val_generator(batch_size, shuffle = False):\n",
        "    return data_generator(val_pos, val_neg, batch_size, True, Vocab, shuffle)\n",
        "\n",
        "# Create the validation data generator\n",
        "def test_generator(batch_size, shuffle = False):\n",
        "    return data_generator(val_pos, val_neg, batch_size, False, Vocab, shuffle)\n",
        "\n",
        "# Get a batch from the train_generator and inspect.\n",
        "inputs, targets, example_weights = next(train_generator(4, shuffle=True))\n",
        "\n",
        "# this will print a list of 4 tensors padded with zeros\n",
        "print(f'Inputs: {inputs}')\n",
        "print(f'Targets: {targets}')\n",
        "print(f'Example Weights: {example_weights}')"
      ]
    },
    {
      "cell_type": "code",
      "execution_count": 26,
      "metadata": {
        "id": "mcDOyrx9jCWh",
        "colab": {
          "base_uri": "https://localhost:8080/"
        },
        "outputId": "7555b2e5-4e15-4411-eae1-b939e576591f"
      },
      "outputs": [
        {
          "output_type": "stream",
          "name": "stdout",
          "text": [
            "The inputs shape is (4, 14)\n",
            "The targets shape is (4,)\n",
            "The example weights shape is (4,)\n",
            "input tensor: [3 4 5 6 7 8 9 0 0 0 0 0 0 0]; target 1; example weights 1\n",
            "input tensor: [10 11 12 13 14 15 16 17 18 19 20  9 21 22]; target 1; example weights 1\n",
            "input tensor: [5736 2900 3760    0    0    0    0    0    0    0    0    0    0    0]; target 0; example weights 1\n",
            "input tensor: [ 857  255 3651 5737  306 4457  566 1229 2766  327 1201 3760    0    0]; target 0; example weights 1\n"
          ]
        }
      ],
      "source": [
        "# Test the train_generator\n",
        "\n",
        "# Create a data generator for training data,\n",
        "# which produces batches of size 4 (for tensors and their respective targets)\n",
        "tmp_data_gen = train_generator(batch_size = 4)\n",
        "\n",
        "# Call the data generator to get one batch and its targets\n",
        "tmp_inputs, tmp_targets, tmp_example_weights = next(tmp_data_gen)\n",
        "\n",
        "print(f\"The inputs shape is {tmp_inputs.shape}\")\n",
        "print(f\"The targets shape is {tmp_targets.shape}\")\n",
        "print(f\"The example weights shape is {tmp_example_weights.shape}\")\n",
        "\n",
        "for i,t in enumerate(tmp_inputs):\n",
        "    print(f\"input tensor: {t}; target {tmp_targets[i]}; example weights {tmp_example_weights[i]}\")"
      ]
    },
    {
      "cell_type": "markdown",
      "metadata": {
        "id": "cCTl7w1kjCWj"
      },
      "source": [
        "##### Expected output\n",
        "\n",
        "```CPP\n",
        "The inputs shape is (4, 14)\n",
        "The targets shape is (4,)\n",
        "The example weights shape is (4,)\n",
        "input tensor: [3 4 5 6 7 8 9 0 0 0 0 0 0 0]; target 1; example weights 1\n",
        "input tensor: [10 11 12 13 14 15 16 17 18 19 20  9 21 22]; target 1; example weights 1\n",
        "input tensor: [5738 2901 3761    0    0    0    0    0    0    0    0    0    0    0]; target 0; example weights 1\n",
        "input tensor: [ 858  256 3652 5739  307 4458  567 1230 2767  328 1202 3761    0    0]; target 0; example weights 1\n",
        "```"
      ]
    },
    {
      "cell_type": "markdown",
      "metadata": {
        "id": "J3HrgcJmAVup"
      },
      "source": [
        "Now that you have your train/val generators, you can just call them and they will return tensors which correspond to your tweets in the first column and their corresponding labels in the second column. Now you can go ahead and start building your neural network."
      ]
    },
    {
      "cell_type": "markdown",
      "metadata": {
        "id": "X591GrH_stXq"
      },
      "source": [
        "<a name=\"3\"></a>\n",
        "# Part 3:  Defining classes\n",
        "\n",
        "In this part, you will write your own library of layers. It will be very similar\n",
        "to the one used in Trax and also in Keras and PyTorch. Writing your own small\n",
        "framework will help you understand how they all work and use them effectively\n",
        "in the future.\n",
        "\n",
        "Your framework will be based on the following `Layer` class from utils.py.\n",
        "\n",
        "```CPP\n",
        "class Layer(object):\n",
        "    \"\"\" Base class for layers.\n",
        "    \"\"\"\n",
        "      \n",
        "    # Constructor\n",
        "    def __init__(self):\n",
        "        # set weights to None\n",
        "        self.weights = None\n",
        "\n",
        "    # The forward propagation should be implemented\n",
        "    # by subclasses of this Layer class\n",
        "    def forward(self, x):\n",
        "        raise NotImplementedError\n",
        "\n",
        "    # This function initializes the weights\n",
        "    # based on the input signature and random key,\n",
        "    # should be implemented by subclasses of this Layer class\n",
        "    def init_weights_and_state(self, input_signature, random_key):\n",
        "        pass\n",
        "\n",
        "    # This initializes and returns the weights, do not override.\n",
        "    def init(self, input_signature, random_key):\n",
        "        self.init_weights_and_state(input_signature, random_key)\n",
        "        return self.weights\n",
        "\n",
        "    # __call__ allows an object of this class\n",
        "    # to be called like it's a function.\n",
        "    def __call__(self, x):\n",
        "        # When this layer object is called,\n",
        "        # it calls its forward propagation function\n",
        "        return self.forward(x)\n",
        "```"
      ]
    },
    {
      "cell_type": "markdown",
      "metadata": {
        "id": "TcWUXFaPzS-m"
      },
      "source": [
        "<a name=\"3.1\"></a>\n",
        "## 3.1  ReLU class\n",
        "You will now implement the ReLU activation function in a class below. The ReLU function looks as follows:\n",
        "<img src = \"relu.jpg\" style=\"width:300px;height:150px;\"/>\n",
        "\n",
        "$$ \\mathrm{ReLU}(x) = \\mathrm{max}(0,x) $$\n"
      ]
    },
    {
      "cell_type": "markdown",
      "metadata": {
        "id": "KVVRVuhjjCWl"
      },
      "source": [
        "<a name=\"ex03\"></a>\n",
        "### Exercise 03\n",
        "**Instructions:** Implement the ReLU activation function below. Your function should take in a matrix or vector and it should transform all the negative numbers into 0 while keeping all the positive numbers intact."
      ]
    },
    {
      "cell_type": "markdown",
      "metadata": {
        "id": "dPH_EVcHjCWl"
      },
      "source": [
        "<details>    \n",
        "<summary>\n",
        "    <font size=\"3\" color=\"darkgreen\"><b>Hints</b></font>\n",
        "</summary>\n",
        "<p>\n",
        "<ul>\n",
        "    <li>Please use numpy.maximum(A,k) to find the maximum between each element in A and a scalar k</li>\n",
        "</ul>\n",
        "</p>\n"
      ]
    },
    {
      "cell_type": "code",
      "execution_count": 27,
      "metadata": {
        "id": "VGE5zZ5mzF9x"
      },
      "outputs": [],
      "source": [
        "# UNQ_C3 (UNIQUE CELL IDENTIFIER, DO NOT EDIT)\n",
        "# GRADED FUNCTION: Relu\n",
        "class Relu(Layer):\n",
        "    \"\"\"Relu activation function implementation\"\"\"\n",
        "    def forward(self, x):\n",
        "        '''\n",
        "        Input:\n",
        "            - x (a numpy array): the input\n",
        "        Output:\n",
        "            - activation (numpy array): all positive or 0 version of x\n",
        "        '''\n",
        "        ### START CODE HERE (Replace instances of 'None' with your code) ###\n",
        "\n",
        "        activation = np.maximum(x,0)\n",
        "\n",
        "        ### END CODE HERE ###\n",
        "\n",
        "        return activation"
      ]
    },
    {
      "cell_type": "code",
      "execution_count": 28,
      "metadata": {
        "id": "hVQ3YtoZ1uYP",
        "colab": {
          "base_uri": "https://localhost:8080/"
        },
        "outputId": "810e8054-f7ba-4f24-f56e-d2ecd4d1dc30"
      },
      "outputs": [
        {
          "output_type": "stream",
          "name": "stdout",
          "text": [
            "Test data is:\n",
            "[[-2. -1.  0.]\n",
            " [ 0.  1.  2.]]\n",
            "Output of Relu is:\n",
            "[[0. 0. 0.]\n",
            " [0. 1. 2.]]\n"
          ]
        }
      ],
      "source": [
        "# Test your relu function\n",
        "x = np.array([[-2.0, -1.0, 0.0], [0.0, 1.0, 2.0]], dtype=float)\n",
        "relu_layer = Relu()\n",
        "print(\"Test data is:\")\n",
        "print(x)\n",
        "print(\"Output of Relu is:\")\n",
        "print(relu_layer(x))"
      ]
    },
    {
      "cell_type": "markdown",
      "metadata": {
        "id": "niL6mIuBAVuu"
      },
      "source": [
        "##### Expected Outout\n",
        "```CPP\n",
        "Test data is:\n",
        "[[-2. -1.  0.]\n",
        " [ 0.  1.  2.]]\n",
        "Output of Relu is:\n",
        "[[0. 0. 0.]\n",
        " [0. 1. 2.]]\n",
        "```"
      ]
    },
    {
      "cell_type": "markdown",
      "metadata": {
        "id": "XepjDxCQ1G8p"
      },
      "source": [
        "<a name=\"3.2\"></a>\n",
        "## 3.2  Dense class\n",
        "\n",
        "### Exercise\n",
        "\n",
        "Implement the forward function of the Dense class.\n",
        "- The forward function multiplies the input to the layer (`x`) by the weight matrix (`W`)\n",
        "\n",
        "$$\\mathrm{forward}(\\mathbf{x},\\mathbf{W}) = \\mathbf{xW} $$\n",
        "\n",
        "- You can use `numpy.dot` to perform the matrix multiplication.\n",
        "\n",
        "Note that for more efficient code execution, you will use the trax version of `math`, which includes a trax version of `numpy` and also `random`.\n",
        "\n",
        "Implement the weight initializer `new_weights` function\n",
        "- Weights are initialized with a random key.\n",
        "- The second parameter is a tuple for the desired shape of the weights (num_rows, num_cols)\n",
        "- The num of rows for weights should equal the number of columns in x, because for forward propagation, you will multiply x times weights.\n",
        "\n",
        "Please use `trax.fastmath.random.normal(key, shape, dtype=tf.float32)` to generate random values for the weight matrix. The key difference between this function\n",
        "and the standard `numpy` randomness is the explicit use of random keys, which\n",
        "need to be passed. While it can look tedious at the first sight to pass the random key everywhere, you will learn in Course 4 why this is very helpful when\n",
        "implementing some advanced models.\n",
        "- `key` can be generated by calling `random.get_prng(seed=)` and passing in a number for the `seed`.\n",
        "- `shape` is a tuple with the desired shape of the weight matrix.\n",
        "    - The number of rows in the weight matrix should equal the number of columns in the variable `x`.  Since `x` may have 2 dimensions if it reprsents a single training example (row, col), or three dimensions (batch_size, row, col), get the last dimension from the tuple that holds the dimensions of x.\n",
        "    - The number of columns in the weight matrix is the number of units chosen for that dense layer.  Look at the `__init__` function to see which variable stores the number of units.\n",
        "- `dtype` is the data type of the values in the generated matrix; keep the default of `tf.float32`. In this case, don't explicitly set the dtype (just let it use the default value).\n",
        "\n",
        "Set the standard deviation of the random values to 0.1\n",
        "- The values generated have a mean of 0 and standard deviation of 1.\n",
        "- Set the default standard deviation `stdev` to be 0.1 by multiplying the standard deviation to each of the values in the weight matrix."
      ]
    },
    {
      "cell_type": "code",
      "execution_count": 29,
      "metadata": {
        "id": "cJqiv5KnjCWr"
      },
      "outputs": [],
      "source": [
        "# use the fastmath module within trax\n",
        "from trax import fastmath\n",
        "\n",
        "# use the numpy module from trax\n",
        "np = fastmath.numpy\n",
        "\n",
        "# use the fastmath.random module from trax\n",
        "random = fastmath.random"
      ]
    },
    {
      "cell_type": "code",
      "execution_count": 30,
      "metadata": {
        "id": "6reTe6asjCWt",
        "colab": {
          "base_uri": "https://localhost:8080/",
          "height": 139
        },
        "outputId": "03850b0d-9de2-4197-8a7f-87ab90e04551"
      },
      "outputs": [
        {
          "output_type": "stream",
          "name": "stdout",
          "text": [
            "The random seed generated by random.get_prng\n"
          ]
        },
        {
          "output_type": "display_data",
          "data": {
            "text/plain": [
              "Array([0, 1], dtype=uint32)"
            ]
          },
          "metadata": {}
        },
        {
          "output_type": "stream",
          "name": "stdout",
          "text": [
            "choose a matrix with 2 rows and 3 columns\n"
          ]
        },
        {
          "output_type": "display_data",
          "data": {
            "text/plain": [
              "(2, 3)"
            ]
          },
          "metadata": {}
        },
        {
          "output_type": "stream",
          "name": "stdout",
          "text": [
            "Weight matrix generated with a normal distribution with mean 0 and stdev of 1\n"
          ]
        },
        {
          "output_type": "display_data",
          "data": {
            "text/plain": [
              "Array([[ 0.95730704, -0.9699289 ,  1.0070665 ],\n",
              "       [ 0.3661903 ,  0.1729483 ,  0.29092234]], dtype=float32)"
            ]
          },
          "metadata": {}
        }
      ],
      "source": [
        "# See how the fastmath.trax.random.normal function works\n",
        "tmp_key = random.get_prng(seed=1)\n",
        "print(\"The random seed generated by random.get_prng\")\n",
        "display(tmp_key)\n",
        "\n",
        "print(\"choose a matrix with 2 rows and 3 columns\")\n",
        "tmp_shape=(2,3)\n",
        "display(tmp_shape)\n",
        "\n",
        "# Generate a weight matrix\n",
        "# Note that you'll get an error if you try to set dtype to tf.float32, where tf is tensorflow\n",
        "# Just avoid setting the dtype and allow it to use the default data type\n",
        "tmp_weight = trax.fastmath.random.normal(key=tmp_key, shape=tmp_shape)\n",
        "\n",
        "print(\"Weight matrix generated with a normal distribution with mean 0 and stdev of 1\")\n",
        "display(tmp_weight)"
      ]
    },
    {
      "cell_type": "markdown",
      "metadata": {
        "id": "IpiJ87L9jCWw"
      },
      "source": [
        "<a name=\"ex04\"></a>\n",
        "### Exercise 04\n",
        "\n",
        "Implement the `Dense` class."
      ]
    },
    {
      "cell_type": "code",
      "execution_count": 31,
      "metadata": {
        "id": "783FfWt70660"
      },
      "outputs": [],
      "source": [
        "# UNQ_C4 (UNIQUE CELL IDENTIFIER, DO NOT EDIT)\n",
        "# GRADED FUNCTION: Dense\n",
        "\n",
        "class Dense(Layer):\n",
        "    \"\"\"\n",
        "    A dense (fully-connected) layer.\n",
        "    \"\"\"\n",
        "\n",
        "    # __init__ is implemented for you\n",
        "    def __init__(self, n_units, init_stdev=0.1):\n",
        "\n",
        "        # Set the number of units in this layer\n",
        "        self._n_units = n_units\n",
        "        self._init_stdev = init_stdev\n",
        "        self.weights = None # это мое, это не пустое задание :)\n",
        "\n",
        "    # Please implement 'forward()'\n",
        "    def forward(self, x):\n",
        "\n",
        "### START CODE HERE (Replace instances of 'None' with your code) ###\n",
        "\n",
        "        # Matrix multiply x and the weight matrix\n",
        "        if self.weights is None:\n",
        "            self.init_weights_and_state(x, trax.random.get_prng_state(1)[0])\n",
        "\n",
        "        # Matrix multiply x and the weight matrix\n",
        "        dense = np.dot(x, self.weights) # не могу понять, где именно лежит матрица весов. как будто бы это здесь self.weights = w, но эта функция же определена после forward()?\n",
        "\n",
        "\n",
        "\n",
        "### END CODE HERE ###\n",
        "        return dense\n",
        "\n",
        "    # init_weights\n",
        "    def init_weights_and_state(self, input_signature, random_key):\n",
        "\n",
        "### START CODE HERE (Replace instances of 'None' with your code) ###\n",
        "        # The input_signature has a .shape attribute that gives the shape as a tuple\n",
        "        input_shape = input_signature.shape\n",
        "        # Generate the weight matrix from a normal distribution,\n",
        "        # and standard deviation of 'stdev'\n",
        "        w = trax.fastmath.random.normal(key=random_key, shape=(input_shape[1], self._n_units))\n",
        "### END CODE HERE ###\n",
        "        self.weights = w\n",
        "        return self.weights"
      ]
    },
    {
      "cell_type": "code",
      "execution_count": 32,
      "metadata": {
        "id": "vw-z6n8SAVuy",
        "colab": {
          "base_uri": "https://localhost:8080/"
        },
        "outputId": "1b1113b5-c911-4b92-851f-c1fb7c21fcb8"
      },
      "outputs": [
        {
          "output_type": "stream",
          "name": "stdout",
          "text": [
            "Weights are\n",
            "  [[-0.28371066  0.9368162  -1.0050073   1.4165013   1.0543301   0.9108127\n",
            "  -0.42656708  0.986188   -0.5575324   0.01532502]\n",
            " [-2.078568    0.5548371   0.91423655  0.5744596   0.7227863   0.12106175\n",
            "  -0.3237354   1.6234998   0.24500391 -1.3809781 ]\n",
            " [-0.6111237   0.1403725   0.84100425 -1.0943578  -1.077502   -1.1396457\n",
            "  -0.593338   -0.15576515 -0.38321444 -1.1144515 ]]\n",
            "Foward function output is  [[-30.395489   9.266805  25.414747 -20.504726 -19.769386 -25.822084\n",
            "  -17.952732   9.442745  -8.980398 -37.497486]]\n"
          ]
        }
      ],
      "source": [
        "# Testing your Dense layer\n",
        "dense_layer = Dense(n_units=10)  #sets  number of units in dense layer\n",
        "random_key = random.get_prng(seed=0)  # sets random seed\n",
        "z = np.array([[2.0, 7.0, 25.0]]) # input array\n",
        "\n",
        "dense_layer.init(z, random_key)\n",
        "print(\"Weights are\\n \",dense_layer.weights) #Returns randomly generated weights\n",
        "print(\"Foward function output is \", dense_layer(z)) # Returns multiplied values of units and weights"
      ]
    },
    {
      "cell_type": "markdown",
      "metadata": {
        "id": "Gg9kUSn7KNhl"
      },
      "source": [
        "##### Expected Outout\n",
        "```CPP\n",
        "Weights are\n",
        "  [[-0.02837108  0.09368162 -0.10050076  0.14165013  0.10543301  0.09108126\n",
        "  -0.04265672  0.0986188  -0.05575325  0.00153249]\n",
        " [-0.20785688  0.0554837   0.09142365  0.05744595  0.07227863  0.01210617\n",
        "  -0.03237354  0.16234995  0.02450038 -0.13809784]\n",
        " [-0.06111237  0.01403724  0.08410042 -0.1094358  -0.10775021 -0.11396459\n",
        "  -0.05933381 -0.01557652 -0.03832145 -0.11144515]]\n",
        "Foward function output is  [[-3.0395496   0.9266802   2.5414743  -2.050473   -1.9769388  -2.582209\n",
        "  -1.7952735   0.94427425 -0.8980402  -3.7497487 ]]\n",
        "```"
      ]
    },
    {
      "cell_type": "markdown",
      "metadata": {
        "id": "eZEY8vBCgrgy"
      },
      "source": [
        "<a name=\"3.3\"></a>\n",
        "## 3.3  Model\n",
        "\n",
        "Now you will implement a classifier using neural networks. Here is the model architecture you will be implementing.\n",
        "\n",
        "<img src = \"nn.jpg\" style=\"width:400px;height:250px;\"/>\n",
        "\n",
        "For the model implementation, you will use the Trax layers library `tl`.\n",
        "Note that the second character of `tl` is the lowercase of letter `L`, not the number 1. Trax layers are very similar to the ones you implemented above,\n",
        "but in addition to trainable weights also have a non-trainable state.\n",
        "State is used in layers like batch normalization and for inference, you will learn more about it in course 4.\n",
        "\n",
        "First, look at the code of the Trax Dense layer and compare to your implementation above.\n",
        "- [tl.Dense](https://github.com/google/trax/blob/master/trax/layers/core.py#L29): Trax Dense layer implementation\n",
        "\n",
        "One other important layer that you will use a lot is one that allows to execute one layer after another in sequence.\n",
        "- [tl.Serial](https://github.com/google/trax/blob/master/trax/layers/combinators.py#L26): Combinator that applies layers serially.  \n",
        "    - You can pass in the layers as arguments to `Serial`, separated by commas.\n",
        "    - For example: `tl.Serial(tl.Embeddings(...), tl.Mean(...), tl.Dense(...), tl.LogSoftmax(...))`\n",
        "\n",
        "Please use the `help` function to view documentation for each layer."
      ]
    },
    {
      "cell_type": "code",
      "execution_count": null,
      "metadata": {
        "id": "RpbiDzN9jCW2",
        "colab": {
          "base_uri": "https://localhost:8080/"
        },
        "outputId": "8caae8c6-b518-4aa6-d852-1e39a04f7d97"
      },
      "outputs": [
        {
          "output_type": "stream",
          "name": "stdout",
          "text": [
            "Help on class Dense in module trax.layers.core:\n",
            "\n",
            "class Dense(trax.layers.base.Layer)\n",
            " |  Dense(n_units, kernel_initializer=<function ScaledInitializer.<locals>.Init at 0x78b9822eb760>, bias_initializer=<function RandomNormalInitializer.<locals>.<lambda> at 0x78b9822eb7f0>, use_bias=True, use_bfloat16=False)\n",
            " |  \n",
            " |  A dense (a.k.a. fully-connected, affine) layer.\n",
            " |  \n",
            " |  Dense layers are the prototypical example of a trainable layer, i.e., a layer\n",
            " |  with trainable weights. Each node in a dense layer computes a weighted sum of\n",
            " |  all node values from the preceding layer and adds to that sum a node-specific\n",
            " |  bias term. The full layer computation is expressed compactly in linear\n",
            " |  algebra as an affine map `y = Wx + b`, where `W` is a matrix and `y`, `x`,\n",
            " |  and `b` are vectors. The layer is trained, or \"learns\", by updating the\n",
            " |  values in `W` and `b`.\n",
            " |  \n",
            " |  Less commonly, a dense layer can omit the bias term and be a pure linear map:\n",
            " |  `y = Wx`.\n",
            " |  \n",
            " |  Method resolution order:\n",
            " |      Dense\n",
            " |      trax.layers.base.Layer\n",
            " |      builtins.object\n",
            " |  \n",
            " |  Methods defined here:\n",
            " |  \n",
            " |  __init__(self, n_units, kernel_initializer=<function ScaledInitializer.<locals>.Init at 0x78b9822eb760>, bias_initializer=<function RandomNormalInitializer.<locals>.<lambda> at 0x78b9822eb7f0>, use_bias=True, use_bfloat16=False)\n",
            " |      Returns a dense (fully connected) layer of width `n_units`.\n",
            " |      \n",
            " |      A dense layer maps collections of `R^m` vectors to `R^n`, where `n`\n",
            " |      (`= n_units`) is fixed at layer creation time, and `m` is set at layer\n",
            " |      initialization time.\n",
            " |      \n",
            " |      Args:\n",
            " |        n_units: Number of nodes in the layer, also known as the width of the\n",
            " |            layer.\n",
            " |        kernel_initializer: Function that creates a matrix of (random) initial\n",
            " |            connection weights `W` for the layer.\n",
            " |        bias_initializer: Function that creates a vector of (random) initial\n",
            " |            bias weights `b` for the layer.\n",
            " |        use_bias: If `True`, compute an affine map `y = Wx + b`; else compute\n",
            " |            a linear map `y = Wx`.\n",
            " |        use_bfloat16: If `True`, use bfloat16 weights instead of the default\n",
            " |          float32; this can save memory but may (rarely) lead to numerical issues.\n",
            " |  \n",
            " |  forward(self, x)\n",
            " |      Executes this layer as part of a forward pass through the model.\n",
            " |      \n",
            " |      Args:\n",
            " |        x: Tensor of same shape and dtype as the input signature used to\n",
            " |            initialize this layer.\n",
            " |      \n",
            " |      Returns:\n",
            " |        Tensor of same shape and dtype as the input, except the final dimension\n",
            " |        is the layer's `n_units` value.\n",
            " |  \n",
            " |  init_weights_and_state(self, input_signature)\n",
            " |      Randomly initializes this layer's weights.\n",
            " |      \n",
            " |      Weights are a `(w, b)` tuple for layers created with `use_bias=True` (the\n",
            " |      default case), or a `w` tensor for layers created with `use_bias=False`.\n",
            " |      \n",
            " |      Args:\n",
            " |        input_signature: `ShapeDtype` instance characterizing the input this layer\n",
            " |            should compute on.\n",
            " |  \n",
            " |  ----------------------------------------------------------------------\n",
            " |  Methods inherited from trax.layers.base.Layer:\n",
            " |  \n",
            " |  __call__(self, x, weights=None, state=None, rng=None)\n",
            " |      Makes layers callable; for use in tests or interactive settings.\n",
            " |      \n",
            " |      This convenience method helps library users play with, test, or otherwise\n",
            " |      probe the behavior of layers outside of a full training environment. It\n",
            " |      presents the layer as callable function from inputs to outputs, with the\n",
            " |      option of manually specifying weights and non-parameter state per individual\n",
            " |      call. For convenience, weights and non-parameter state are cached per layer\n",
            " |      instance, starting from default values of `EMPTY_WEIGHTS` and `EMPTY_STATE`,\n",
            " |      and acquiring non-empty values either by initialization or from values\n",
            " |      explicitly provided via the weights and state keyword arguments, in which\n",
            " |      case the old weights will be preserved, and the state will be updated.\n",
            " |      \n",
            " |      Args:\n",
            " |        x: Zero or more input tensors, packaged as described in the `Layer` class\n",
            " |            docstring.\n",
            " |        weights: Weights or `None`; if `None`, use self's cached weights value.\n",
            " |        state: State or `None`; if `None`, use self's cached state value.\n",
            " |        rng: Single-use random number generator (JAX PRNG key), or `None`;\n",
            " |            if `None`, use a default computed from an integer 0 seed.\n",
            " |      \n",
            " |      Returns:\n",
            " |        Zero or more output tensors, packaged as described in the `Layer` class\n",
            " |        docstring.\n",
            " |  \n",
            " |  __repr__(self)\n",
            " |      Renders this layer as a medium-detailed string, to help in debugging.\n",
            " |      \n",
            " |      Subclasses should aim for high-signal/low-noise when overriding this\n",
            " |      method.\n",
            " |      \n",
            " |      Returns:\n",
            " |        A high signal-to-noise string representing this layer.\n",
            " |  \n",
            " |  __setattr__(self, attr, value)\n",
            " |      Sets class attributes and protects from typos.\n",
            " |      \n",
            " |      In Trax layers, we only allow to set the following public attributes::\n",
            " |      \n",
            " |        - weights\n",
            " |        - state\n",
            " |        - rng\n",
            " |      \n",
            " |      This function prevents from setting other public attributes to avoid typos,\n",
            " |      for example, this is not possible and would be without this function::\n",
            " |      \n",
            " |        [typo]   layer.weighs = some_tensor\n",
            " |      \n",
            " |      If you need to set other public attributes in a derived class (which we\n",
            " |      do not recommend as in almost all cases it suffices to use a private\n",
            " |      attribute), override self._settable_attrs to include the attribute name.\n",
            " |      \n",
            " |      Args:\n",
            " |        attr: Name of the attribute to be set.\n",
            " |        value: Value to be assigned to the attribute.\n",
            " |  \n",
            " |  backward(self, inputs, output, grad, weights, state, new_state, rng)\n",
            " |      Custom backward pass to propagate gradients in a custom way.\n",
            " |      \n",
            " |      Args:\n",
            " |        inputs: Input tensors; can be a (possibly nested) tuple.\n",
            " |        output: The result of running this layer on inputs.\n",
            " |        grad: Gradient signal computed based on subsequent layers; its structure\n",
            " |            and shape must match output.\n",
            " |        weights: This layer's weights.\n",
            " |        state: This layer's state prior to the current forward pass.\n",
            " |        new_state: This layer's state after the current forward pass.\n",
            " |        rng: Single-use random number generator (JAX PRNG key).\n",
            " |      \n",
            " |      Returns:\n",
            " |        The custom gradient signal for the input. Note that we need to return\n",
            " |        a gradient for each argument of forward, so it will usually be a tuple\n",
            " |        of signals: the gradient for inputs and weights.\n",
            " |  \n",
            " |  init(self, input_signature, rng=None, use_cache=False)\n",
            " |      Initializes weights/state of this layer and its sublayers recursively.\n",
            " |      \n",
            " |      Initialization creates layer weights and state, for layers that use them.\n",
            " |      It derives the necessary array shapes and data types from the layer's input\n",
            " |      signature, which is itself just shape and data type information.\n",
            " |      \n",
            " |      For layers without weights or state, this method safely does nothing.\n",
            " |      \n",
            " |      This method is designed to create weights/state only once for each layer\n",
            " |      instance, even if the same layer instance occurs in multiple places in the\n",
            " |      network. This enables weight sharing to be implemented as layer sharing.\n",
            " |      \n",
            " |      Args:\n",
            " |        input_signature: `ShapeDtype` instance (if this layer takes one input)\n",
            " |            or list/tuple of `ShapeDtype` instances.\n",
            " |        rng: Single-use random number generator (JAX PRNG key), or `None`;\n",
            " |            if `None`, use a default computed from an integer 0 seed.\n",
            " |        use_cache: If `True`, and if this layer instance has already been\n",
            " |            initialized elsewhere in the network, then return special marker\n",
            " |            values -- tuple `(GET_WEIGHTS_FROM_CACHE, GET_STATE_FROM_CACHE)`.\n",
            " |            Else return this layer's newly initialized weights and state.\n",
            " |      \n",
            " |      Returns:\n",
            " |        A `(weights, state)` tuple.\n",
            " |  \n",
            " |  init_from_file(self, file_name, weights_only=False, input_signature=None)\n",
            " |      Initializes this layer and its sublayers from a pickled checkpoint.\n",
            " |      \n",
            " |      In the common case (`weights_only=False`), the file must be a gziped pickled\n",
            " |      dictionary containing items with keys `'flat_weights', `'flat_state'` and\n",
            " |      `'input_signature'`, which are used to initialize this layer.\n",
            " |      If `input_signature` is specified, it's used instead of the one in the file.\n",
            " |      If `weights_only` is `True`, the dictionary does not need to have the\n",
            " |      `'flat_state'` item and the state it not restored either.\n",
            " |      \n",
            " |      Args:\n",
            " |        file_name: Name/path of the pickled weights/state file.\n",
            " |        weights_only: If `True`, initialize only the layer's weights. Else\n",
            " |            initialize both weights and state.\n",
            " |        input_signature: Input signature to be used instead of the one from file.\n",
            " |      \n",
            " |      Returns:\n",
            " |        A `(weights, state)` tuple.\n",
            " |  \n",
            " |  output_signature(self, input_signature)\n",
            " |      Returns output signature this layer would give for `input_signature`.\n",
            " |  \n",
            " |  pure_fn(self, x, weights, state, rng, use_cache=False)\n",
            " |      Applies this layer as a pure function with no optional args.\n",
            " |      \n",
            " |      This method exposes the layer's computation as a pure function. This is\n",
            " |      especially useful for JIT compilation. Do not override, use `forward`\n",
            " |      instead.\n",
            " |      \n",
            " |      Args:\n",
            " |        x: Zero or more input tensors, packaged as described in the `Layer` class\n",
            " |            docstring.\n",
            " |        weights: A tuple or list of trainable weights, with one element for this\n",
            " |            layer if this layer has no sublayers, or one for each sublayer if\n",
            " |            this layer has sublayers. If a layer (or sublayer) has no trainable\n",
            " |            weights, the corresponding weights element is an empty tuple.\n",
            " |        state: Layer-specific non-parameter state that can update between batches.\n",
            " |        rng: Single-use random number generator (JAX PRNG key).\n",
            " |        use_cache: if `True`, cache weights and state in the layer object; used\n",
            " |          to implement layer sharing in combinators.\n",
            " |      \n",
            " |      Returns:\n",
            " |        A tuple of `(tensors, state)`. The tensors match the number (`n_out`)\n",
            " |        promised by this layer, and are packaged as described in the `Layer`\n",
            " |        class docstring.\n",
            " |  \n",
            " |  save_to_file(self, file_name, weights_only=False, input_signature=None)\n",
            " |      Saves this layer and its sublayers to a pickled checkpoint.\n",
            " |      \n",
            " |      Args:\n",
            " |        file_name: Name/path of the pickled weights/state file.\n",
            " |        weights_only: If `True`, save only the layer's weights. Else\n",
            " |            save both weights and state.\n",
            " |        input_signature: Input signature to be used.\n",
            " |  \n",
            " |  weights_and_state_signature(self, input_signature, unsafe=False)\n",
            " |      Return a pair containing the signatures of weights and state.\n",
            " |  \n",
            " |  ----------------------------------------------------------------------\n",
            " |  Readonly properties inherited from trax.layers.base.Layer:\n",
            " |  \n",
            " |  has_backward\n",
            " |      Returns `True` if this layer provides its own custom backward pass code.\n",
            " |      \n",
            " |      A layer subclass that provides custom backward pass code (for custom\n",
            " |      gradients) must override this method to return `True`.\n",
            " |  \n",
            " |  n_in\n",
            " |      Returns how many tensors this layer expects as input.\n",
            " |  \n",
            " |  n_out\n",
            " |      Returns how many tensors this layer promises as output.\n",
            " |  \n",
            " |  name\n",
            " |      Returns the name of this layer.\n",
            " |  \n",
            " |  sublayers\n",
            " |      Returns a tuple containing this layer's sublayers; may be empty.\n",
            " |  \n",
            " |  ----------------------------------------------------------------------\n",
            " |  Data descriptors inherited from trax.layers.base.Layer:\n",
            " |  \n",
            " |  __dict__\n",
            " |      dictionary for instance variables (if defined)\n",
            " |  \n",
            " |  __weakref__\n",
            " |      list of weak references to the object (if defined)\n",
            " |  \n",
            " |  rng\n",
            " |      Returns this layer's current single-use random number generator.\n",
            " |      \n",
            " |      Code that wants to base random samples on this generator must explicitly\n",
            " |      split off new generators from it. (See, for example, the `rng` setter code\n",
            " |      below.)\n",
            " |  \n",
            " |  state\n",
            " |      Returns a tuple containing this layer's state; may be empty.\n",
            " |      \n",
            " |      If the layer has sublayers, the state by convention will be\n",
            " |      a tuple of length `len(sublayers)` containing sublayer states.\n",
            " |      Note that in this case self._state only marks which ones are shared.\n",
            " |  \n",
            " |  weights\n",
            " |      Returns this layer's weights.\n",
            " |      \n",
            " |      Depending on the layer, the weights can be in the form of:\n",
            " |      \n",
            " |        - an empty tuple\n",
            " |        - a tensor (ndarray)\n",
            " |        - a nested structure of tuples and tensors\n",
            " |      \n",
            " |      If the layer has sublayers, the weights by convention will be\n",
            " |      a tuple of length `len(sublayers)` containing the weights of sublayers.\n",
            " |      Note that in this case self._weights only marks which ones are shared.\n",
            "\n"
          ]
        }
      ],
      "source": [
        "# View documentation on tl.Dense\n",
        "help(tl.Dense)"
      ]
    },
    {
      "cell_type": "code",
      "execution_count": null,
      "metadata": {
        "id": "Hrblw_uJ4zmF",
        "colab": {
          "base_uri": "https://localhost:8080/"
        },
        "outputId": "6b6619b1-c850-4cf0-e507-b5f710cc3ed0"
      },
      "outputs": [
        {
          "output_type": "stream",
          "name": "stdout",
          "text": [
            "Help on class Serial in module trax.layers.combinators:\n",
            "\n",
            "class Serial(trax.layers.base.Layer)\n",
            " |  Serial(*sublayers, name=None, sublayers_to_print=None)\n",
            " |  \n",
            " |  Combinator that applies layers serially (by function composition).\n",
            " |  \n",
            " |  This combinator is commonly used to construct deep networks, e.g., like this::\n",
            " |  \n",
            " |      mlp = tl.Serial(\n",
            " |        tl.Dense(128),\n",
            " |        tl.Relu(),\n",
            " |        tl.Dense(10),\n",
            " |      )\n",
            " |  \n",
            " |  A Serial combinator uses stack semantics to manage data for its sublayers.\n",
            " |  Each sublayer sees only the inputs it needs and returns only the outputs it\n",
            " |  has generated. The sublayers interact via the data stack. For instance, a\n",
            " |  sublayer k, following sublayer j, gets called with the data stack in the\n",
            " |  state left after layer j has applied. The Serial combinator then:\n",
            " |  \n",
            " |    - takes n_in items off the top of the stack (n_in = k.n_in) and calls\n",
            " |      layer k, passing those items as arguments; and\n",
            " |  \n",
            " |    - takes layer k's n_out return values (n_out = k.n_out) and pushes\n",
            " |      them onto the data stack.\n",
            " |  \n",
            " |  A Serial instance with no sublayers acts as a special-case (but useful)\n",
            " |  1-input 1-output no-op.\n",
            " |  \n",
            " |  Method resolution order:\n",
            " |      Serial\n",
            " |      trax.layers.base.Layer\n",
            " |      builtins.object\n",
            " |  \n",
            " |  Methods defined here:\n",
            " |  \n",
            " |  __init__(self, *sublayers, name=None, sublayers_to_print=None)\n",
            " |      Creates a partially initialized, unconnected layer instance.\n",
            " |      \n",
            " |      Args:\n",
            " |        n_in: Number of inputs expected by this layer.\n",
            " |        n_out: Number of outputs promised by this layer.\n",
            " |        name: Class-like name for this layer; for use when printing this layer.\n",
            " |        sublayers_to_print: Sublayers to display when printing out this layer;\n",
            " |          if None (the default), display all sublayers.\n",
            " |  \n",
            " |  forward(self, xs)\n",
            " |      Executes this layer as part of a forward pass through the model.\n",
            " |  \n",
            " |  init_weights_and_state(self, input_signature)\n",
            " |      Initializes weights and state for inputs with the given signature.\n",
            " |  \n",
            " |  ----------------------------------------------------------------------\n",
            " |  Methods inherited from trax.layers.base.Layer:\n",
            " |  \n",
            " |  __call__(self, x, weights=None, state=None, rng=None)\n",
            " |      Makes layers callable; for use in tests or interactive settings.\n",
            " |      \n",
            " |      This convenience method helps library users play with, test, or otherwise\n",
            " |      probe the behavior of layers outside of a full training environment. It\n",
            " |      presents the layer as callable function from inputs to outputs, with the\n",
            " |      option of manually specifying weights and non-parameter state per individual\n",
            " |      call. For convenience, weights and non-parameter state are cached per layer\n",
            " |      instance, starting from default values of `EMPTY_WEIGHTS` and `EMPTY_STATE`,\n",
            " |      and acquiring non-empty values either by initialization or from values\n",
            " |      explicitly provided via the weights and state keyword arguments, in which\n",
            " |      case the old weights will be preserved, and the state will be updated.\n",
            " |      \n",
            " |      Args:\n",
            " |        x: Zero or more input tensors, packaged as described in the `Layer` class\n",
            " |            docstring.\n",
            " |        weights: Weights or `None`; if `None`, use self's cached weights value.\n",
            " |        state: State or `None`; if `None`, use self's cached state value.\n",
            " |        rng: Single-use random number generator (JAX PRNG key), or `None`;\n",
            " |            if `None`, use a default computed from an integer 0 seed.\n",
            " |      \n",
            " |      Returns:\n",
            " |        Zero or more output tensors, packaged as described in the `Layer` class\n",
            " |        docstring.\n",
            " |  \n",
            " |  __repr__(self)\n",
            " |      Renders this layer as a medium-detailed string, to help in debugging.\n",
            " |      \n",
            " |      Subclasses should aim for high-signal/low-noise when overriding this\n",
            " |      method.\n",
            " |      \n",
            " |      Returns:\n",
            " |        A high signal-to-noise string representing this layer.\n",
            " |  \n",
            " |  __setattr__(self, attr, value)\n",
            " |      Sets class attributes and protects from typos.\n",
            " |      \n",
            " |      In Trax layers, we only allow to set the following public attributes::\n",
            " |      \n",
            " |        - weights\n",
            " |        - state\n",
            " |        - rng\n",
            " |      \n",
            " |      This function prevents from setting other public attributes to avoid typos,\n",
            " |      for example, this is not possible and would be without this function::\n",
            " |      \n",
            " |        [typo]   layer.weighs = some_tensor\n",
            " |      \n",
            " |      If you need to set other public attributes in a derived class (which we\n",
            " |      do not recommend as in almost all cases it suffices to use a private\n",
            " |      attribute), override self._settable_attrs to include the attribute name.\n",
            " |      \n",
            " |      Args:\n",
            " |        attr: Name of the attribute to be set.\n",
            " |        value: Value to be assigned to the attribute.\n",
            " |  \n",
            " |  backward(self, inputs, output, grad, weights, state, new_state, rng)\n",
            " |      Custom backward pass to propagate gradients in a custom way.\n",
            " |      \n",
            " |      Args:\n",
            " |        inputs: Input tensors; can be a (possibly nested) tuple.\n",
            " |        output: The result of running this layer on inputs.\n",
            " |        grad: Gradient signal computed based on subsequent layers; its structure\n",
            " |            and shape must match output.\n",
            " |        weights: This layer's weights.\n",
            " |        state: This layer's state prior to the current forward pass.\n",
            " |        new_state: This layer's state after the current forward pass.\n",
            " |        rng: Single-use random number generator (JAX PRNG key).\n",
            " |      \n",
            " |      Returns:\n",
            " |        The custom gradient signal for the input. Note that we need to return\n",
            " |        a gradient for each argument of forward, so it will usually be a tuple\n",
            " |        of signals: the gradient for inputs and weights.\n",
            " |  \n",
            " |  init(self, input_signature, rng=None, use_cache=False)\n",
            " |      Initializes weights/state of this layer and its sublayers recursively.\n",
            " |      \n",
            " |      Initialization creates layer weights and state, for layers that use them.\n",
            " |      It derives the necessary array shapes and data types from the layer's input\n",
            " |      signature, which is itself just shape and data type information.\n",
            " |      \n",
            " |      For layers without weights or state, this method safely does nothing.\n",
            " |      \n",
            " |      This method is designed to create weights/state only once for each layer\n",
            " |      instance, even if the same layer instance occurs in multiple places in the\n",
            " |      network. This enables weight sharing to be implemented as layer sharing.\n",
            " |      \n",
            " |      Args:\n",
            " |        input_signature: `ShapeDtype` instance (if this layer takes one input)\n",
            " |            or list/tuple of `ShapeDtype` instances.\n",
            " |        rng: Single-use random number generator (JAX PRNG key), or `None`;\n",
            " |            if `None`, use a default computed from an integer 0 seed.\n",
            " |        use_cache: If `True`, and if this layer instance has already been\n",
            " |            initialized elsewhere in the network, then return special marker\n",
            " |            values -- tuple `(GET_WEIGHTS_FROM_CACHE, GET_STATE_FROM_CACHE)`.\n",
            " |            Else return this layer's newly initialized weights and state.\n",
            " |      \n",
            " |      Returns:\n",
            " |        A `(weights, state)` tuple.\n",
            " |  \n",
            " |  init_from_file(self, file_name, weights_only=False, input_signature=None)\n",
            " |      Initializes this layer and its sublayers from a pickled checkpoint.\n",
            " |      \n",
            " |      In the common case (`weights_only=False`), the file must be a gziped pickled\n",
            " |      dictionary containing items with keys `'flat_weights', `'flat_state'` and\n",
            " |      `'input_signature'`, which are used to initialize this layer.\n",
            " |      If `input_signature` is specified, it's used instead of the one in the file.\n",
            " |      If `weights_only` is `True`, the dictionary does not need to have the\n",
            " |      `'flat_state'` item and the state it not restored either.\n",
            " |      \n",
            " |      Args:\n",
            " |        file_name: Name/path of the pickled weights/state file.\n",
            " |        weights_only: If `True`, initialize only the layer's weights. Else\n",
            " |            initialize both weights and state.\n",
            " |        input_signature: Input signature to be used instead of the one from file.\n",
            " |      \n",
            " |      Returns:\n",
            " |        A `(weights, state)` tuple.\n",
            " |  \n",
            " |  output_signature(self, input_signature)\n",
            " |      Returns output signature this layer would give for `input_signature`.\n",
            " |  \n",
            " |  pure_fn(self, x, weights, state, rng, use_cache=False)\n",
            " |      Applies this layer as a pure function with no optional args.\n",
            " |      \n",
            " |      This method exposes the layer's computation as a pure function. This is\n",
            " |      especially useful for JIT compilation. Do not override, use `forward`\n",
            " |      instead.\n",
            " |      \n",
            " |      Args:\n",
            " |        x: Zero or more input tensors, packaged as described in the `Layer` class\n",
            " |            docstring.\n",
            " |        weights: A tuple or list of trainable weights, with one element for this\n",
            " |            layer if this layer has no sublayers, or one for each sublayer if\n",
            " |            this layer has sublayers. If a layer (or sublayer) has no trainable\n",
            " |            weights, the corresponding weights element is an empty tuple.\n",
            " |        state: Layer-specific non-parameter state that can update between batches.\n",
            " |        rng: Single-use random number generator (JAX PRNG key).\n",
            " |        use_cache: if `True`, cache weights and state in the layer object; used\n",
            " |          to implement layer sharing in combinators.\n",
            " |      \n",
            " |      Returns:\n",
            " |        A tuple of `(tensors, state)`. The tensors match the number (`n_out`)\n",
            " |        promised by this layer, and are packaged as described in the `Layer`\n",
            " |        class docstring.\n",
            " |  \n",
            " |  save_to_file(self, file_name, weights_only=False, input_signature=None)\n",
            " |      Saves this layer and its sublayers to a pickled checkpoint.\n",
            " |      \n",
            " |      Args:\n",
            " |        file_name: Name/path of the pickled weights/state file.\n",
            " |        weights_only: If `True`, save only the layer's weights. Else\n",
            " |            save both weights and state.\n",
            " |        input_signature: Input signature to be used.\n",
            " |  \n",
            " |  weights_and_state_signature(self, input_signature, unsafe=False)\n",
            " |      Return a pair containing the signatures of weights and state.\n",
            " |  \n",
            " |  ----------------------------------------------------------------------\n",
            " |  Readonly properties inherited from trax.layers.base.Layer:\n",
            " |  \n",
            " |  has_backward\n",
            " |      Returns `True` if this layer provides its own custom backward pass code.\n",
            " |      \n",
            " |      A layer subclass that provides custom backward pass code (for custom\n",
            " |      gradients) must override this method to return `True`.\n",
            " |  \n",
            " |  n_in\n",
            " |      Returns how many tensors this layer expects as input.\n",
            " |  \n",
            " |  n_out\n",
            " |      Returns how many tensors this layer promises as output.\n",
            " |  \n",
            " |  name\n",
            " |      Returns the name of this layer.\n",
            " |  \n",
            " |  sublayers\n",
            " |      Returns a tuple containing this layer's sublayers; may be empty.\n",
            " |  \n",
            " |  ----------------------------------------------------------------------\n",
            " |  Data descriptors inherited from trax.layers.base.Layer:\n",
            " |  \n",
            " |  __dict__\n",
            " |      dictionary for instance variables (if defined)\n",
            " |  \n",
            " |  __weakref__\n",
            " |      list of weak references to the object (if defined)\n",
            " |  \n",
            " |  rng\n",
            " |      Returns this layer's current single-use random number generator.\n",
            " |      \n",
            " |      Code that wants to base random samples on this generator must explicitly\n",
            " |      split off new generators from it. (See, for example, the `rng` setter code\n",
            " |      below.)\n",
            " |  \n",
            " |  state\n",
            " |      Returns a tuple containing this layer's state; may be empty.\n",
            " |      \n",
            " |      If the layer has sublayers, the state by convention will be\n",
            " |      a tuple of length `len(sublayers)` containing sublayer states.\n",
            " |      Note that in this case self._state only marks which ones are shared.\n",
            " |  \n",
            " |  weights\n",
            " |      Returns this layer's weights.\n",
            " |      \n",
            " |      Depending on the layer, the weights can be in the form of:\n",
            " |      \n",
            " |        - an empty tuple\n",
            " |        - a tensor (ndarray)\n",
            " |        - a nested structure of tuples and tensors\n",
            " |      \n",
            " |      If the layer has sublayers, the weights by convention will be\n",
            " |      a tuple of length `len(sublayers)` containing the weights of sublayers.\n",
            " |      Note that in this case self._weights only marks which ones are shared.\n",
            "\n"
          ]
        }
      ],
      "source": [
        "# View documentation on tl.Serial\n",
        "help(tl.Serial)"
      ]
    },
    {
      "cell_type": "markdown",
      "metadata": {
        "id": "n6PptsvwjCW3"
      },
      "source": [
        "- [tl.Embedding](https://github.com/google/trax/blob/1372b903bb66b0daccee19fd0b1fdf44f659330b/trax/layers/core.py#L113): Layer constructor function for an embedding layer.  \n",
        "    - `tl.Embedding(vocab_size, d_feature)`.\n",
        "    - `vocab_size` is the number of unique words in the given vocabulary.\n",
        "    - `d_feature` is the number of elements in the word embedding (some choices for a word embedding size range from 150 to 300, for example)."
      ]
    },
    {
      "cell_type": "code",
      "execution_count": null,
      "metadata": {
        "id": "Y5FAphBWjCW4",
        "colab": {
          "base_uri": "https://localhost:8080/"
        },
        "outputId": "35f29634-8232-4de2-c644-6bf60ed4a27f"
      },
      "outputs": [
        {
          "output_type": "stream",
          "name": "stdout",
          "text": [
            "Help on class Embedding in module trax.layers.core:\n",
            "\n",
            "class Embedding(trax.layers.base.Layer)\n",
            " |  Embedding(vocab_size, d_feature, use_bfloat16=False, kernel_initializer=<function ScaledInitializer.<locals>.Init at 0x78b9822ebb50>)\n",
            " |  \n",
            " |  Trainable layer that maps discrete tokens/IDs to vectors.\n",
            " |  \n",
            " |  Embedding layers are commonly used to map discrete data, like words in NLP,\n",
            " |  into vectors. Here is a canonical example::\n",
            " |  \n",
            " |      vocab_size = 5\n",
            " |      word_ids = np.array([1, 2, 3, 4], dtype=np.int32)  # word_ids < vocab_size\n",
            " |      embedding_layer = tl.Embedding(vocab_size, 32)\n",
            " |      embedding_layer.init(trax.shapes.signature(word_ids))\n",
            " |      embedded = embedding_layer(word_ids)  # embedded.shape = (4, 32)\n",
            " |  \n",
            " |  Method resolution order:\n",
            " |      Embedding\n",
            " |      trax.layers.base.Layer\n",
            " |      builtins.object\n",
            " |  \n",
            " |  Methods defined here:\n",
            " |  \n",
            " |  __init__(self, vocab_size, d_feature, use_bfloat16=False, kernel_initializer=<function ScaledInitializer.<locals>.Init at 0x78b9822ebb50>)\n",
            " |      Returns an embedding layer with given vocabulary size and vector size.\n",
            " |      \n",
            " |      The layer clips input values (token IDs) to the range `[0, vocab_size)`.\n",
            " |      That is, negative token IDs all clip to `0` before being mapped to a\n",
            " |      vector, and token IDs with value `vocab_size` or greater all clip to\n",
            " |      `vocab_size - 1` before being mapped to a vector.\n",
            " |      \n",
            " |      Args:\n",
            " |        vocab_size: Size of the input vocabulary. The layer will assign a unique\n",
            " |          vector to each id in `range(vocab_size)`.\n",
            " |        d_feature: Dimensionality/depth of the output vectors.\n",
            " |        use_bfloat16: If `True`, use bfloat16 weights instead of the default\n",
            " |          float32; this can save memory but may (rarely) lead to numerical issues.\n",
            " |        kernel_initializer: Function that creates (random) initial vectors for\n",
            " |          the embedding.\n",
            " |  \n",
            " |  forward(self, x)\n",
            " |      Returns embedding vectors corresponding to input token IDs.\n",
            " |      \n",
            " |      Args:\n",
            " |        x: Tensor of token IDs.\n",
            " |      \n",
            " |      Returns:\n",
            " |        Tensor of embedding vectors.\n",
            " |  \n",
            " |  init_weights_and_state(self, input_signature)\n",
            " |      Randomly initializes this layer's weights.\n",
            " |  \n",
            " |  ----------------------------------------------------------------------\n",
            " |  Methods inherited from trax.layers.base.Layer:\n",
            " |  \n",
            " |  __call__(self, x, weights=None, state=None, rng=None)\n",
            " |      Makes layers callable; for use in tests or interactive settings.\n",
            " |      \n",
            " |      This convenience method helps library users play with, test, or otherwise\n",
            " |      probe the behavior of layers outside of a full training environment. It\n",
            " |      presents the layer as callable function from inputs to outputs, with the\n",
            " |      option of manually specifying weights and non-parameter state per individual\n",
            " |      call. For convenience, weights and non-parameter state are cached per layer\n",
            " |      instance, starting from default values of `EMPTY_WEIGHTS` and `EMPTY_STATE`,\n",
            " |      and acquiring non-empty values either by initialization or from values\n",
            " |      explicitly provided via the weights and state keyword arguments, in which\n",
            " |      case the old weights will be preserved, and the state will be updated.\n",
            " |      \n",
            " |      Args:\n",
            " |        x: Zero or more input tensors, packaged as described in the `Layer` class\n",
            " |            docstring.\n",
            " |        weights: Weights or `None`; if `None`, use self's cached weights value.\n",
            " |        state: State or `None`; if `None`, use self's cached state value.\n",
            " |        rng: Single-use random number generator (JAX PRNG key), or `None`;\n",
            " |            if `None`, use a default computed from an integer 0 seed.\n",
            " |      \n",
            " |      Returns:\n",
            " |        Zero or more output tensors, packaged as described in the `Layer` class\n",
            " |        docstring.\n",
            " |  \n",
            " |  __repr__(self)\n",
            " |      Renders this layer as a medium-detailed string, to help in debugging.\n",
            " |      \n",
            " |      Subclasses should aim for high-signal/low-noise when overriding this\n",
            " |      method.\n",
            " |      \n",
            " |      Returns:\n",
            " |        A high signal-to-noise string representing this layer.\n",
            " |  \n",
            " |  __setattr__(self, attr, value)\n",
            " |      Sets class attributes and protects from typos.\n",
            " |      \n",
            " |      In Trax layers, we only allow to set the following public attributes::\n",
            " |      \n",
            " |        - weights\n",
            " |        - state\n",
            " |        - rng\n",
            " |      \n",
            " |      This function prevents from setting other public attributes to avoid typos,\n",
            " |      for example, this is not possible and would be without this function::\n",
            " |      \n",
            " |        [typo]   layer.weighs = some_tensor\n",
            " |      \n",
            " |      If you need to set other public attributes in a derived class (which we\n",
            " |      do not recommend as in almost all cases it suffices to use a private\n",
            " |      attribute), override self._settable_attrs to include the attribute name.\n",
            " |      \n",
            " |      Args:\n",
            " |        attr: Name of the attribute to be set.\n",
            " |        value: Value to be assigned to the attribute.\n",
            " |  \n",
            " |  backward(self, inputs, output, grad, weights, state, new_state, rng)\n",
            " |      Custom backward pass to propagate gradients in a custom way.\n",
            " |      \n",
            " |      Args:\n",
            " |        inputs: Input tensors; can be a (possibly nested) tuple.\n",
            " |        output: The result of running this layer on inputs.\n",
            " |        grad: Gradient signal computed based on subsequent layers; its structure\n",
            " |            and shape must match output.\n",
            " |        weights: This layer's weights.\n",
            " |        state: This layer's state prior to the current forward pass.\n",
            " |        new_state: This layer's state after the current forward pass.\n",
            " |        rng: Single-use random number generator (JAX PRNG key).\n",
            " |      \n",
            " |      Returns:\n",
            " |        The custom gradient signal for the input. Note that we need to return\n",
            " |        a gradient for each argument of forward, so it will usually be a tuple\n",
            " |        of signals: the gradient for inputs and weights.\n",
            " |  \n",
            " |  init(self, input_signature, rng=None, use_cache=False)\n",
            " |      Initializes weights/state of this layer and its sublayers recursively.\n",
            " |      \n",
            " |      Initialization creates layer weights and state, for layers that use them.\n",
            " |      It derives the necessary array shapes and data types from the layer's input\n",
            " |      signature, which is itself just shape and data type information.\n",
            " |      \n",
            " |      For layers without weights or state, this method safely does nothing.\n",
            " |      \n",
            " |      This method is designed to create weights/state only once for each layer\n",
            " |      instance, even if the same layer instance occurs in multiple places in the\n",
            " |      network. This enables weight sharing to be implemented as layer sharing.\n",
            " |      \n",
            " |      Args:\n",
            " |        input_signature: `ShapeDtype` instance (if this layer takes one input)\n",
            " |            or list/tuple of `ShapeDtype` instances.\n",
            " |        rng: Single-use random number generator (JAX PRNG key), or `None`;\n",
            " |            if `None`, use a default computed from an integer 0 seed.\n",
            " |        use_cache: If `True`, and if this layer instance has already been\n",
            " |            initialized elsewhere in the network, then return special marker\n",
            " |            values -- tuple `(GET_WEIGHTS_FROM_CACHE, GET_STATE_FROM_CACHE)`.\n",
            " |            Else return this layer's newly initialized weights and state.\n",
            " |      \n",
            " |      Returns:\n",
            " |        A `(weights, state)` tuple.\n",
            " |  \n",
            " |  init_from_file(self, file_name, weights_only=False, input_signature=None)\n",
            " |      Initializes this layer and its sublayers from a pickled checkpoint.\n",
            " |      \n",
            " |      In the common case (`weights_only=False`), the file must be a gziped pickled\n",
            " |      dictionary containing items with keys `'flat_weights', `'flat_state'` and\n",
            " |      `'input_signature'`, which are used to initialize this layer.\n",
            " |      If `input_signature` is specified, it's used instead of the one in the file.\n",
            " |      If `weights_only` is `True`, the dictionary does not need to have the\n",
            " |      `'flat_state'` item and the state it not restored either.\n",
            " |      \n",
            " |      Args:\n",
            " |        file_name: Name/path of the pickled weights/state file.\n",
            " |        weights_only: If `True`, initialize only the layer's weights. Else\n",
            " |            initialize both weights and state.\n",
            " |        input_signature: Input signature to be used instead of the one from file.\n",
            " |      \n",
            " |      Returns:\n",
            " |        A `(weights, state)` tuple.\n",
            " |  \n",
            " |  output_signature(self, input_signature)\n",
            " |      Returns output signature this layer would give for `input_signature`.\n",
            " |  \n",
            " |  pure_fn(self, x, weights, state, rng, use_cache=False)\n",
            " |      Applies this layer as a pure function with no optional args.\n",
            " |      \n",
            " |      This method exposes the layer's computation as a pure function. This is\n",
            " |      especially useful for JIT compilation. Do not override, use `forward`\n",
            " |      instead.\n",
            " |      \n",
            " |      Args:\n",
            " |        x: Zero or more input tensors, packaged as described in the `Layer` class\n",
            " |            docstring.\n",
            " |        weights: A tuple or list of trainable weights, with one element for this\n",
            " |            layer if this layer has no sublayers, or one for each sublayer if\n",
            " |            this layer has sublayers. If a layer (or sublayer) has no trainable\n",
            " |            weights, the corresponding weights element is an empty tuple.\n",
            " |        state: Layer-specific non-parameter state that can update between batches.\n",
            " |        rng: Single-use random number generator (JAX PRNG key).\n",
            " |        use_cache: if `True`, cache weights and state in the layer object; used\n",
            " |          to implement layer sharing in combinators.\n",
            " |      \n",
            " |      Returns:\n",
            " |        A tuple of `(tensors, state)`. The tensors match the number (`n_out`)\n",
            " |        promised by this layer, and are packaged as described in the `Layer`\n",
            " |        class docstring.\n",
            " |  \n",
            " |  save_to_file(self, file_name, weights_only=False, input_signature=None)\n",
            " |      Saves this layer and its sublayers to a pickled checkpoint.\n",
            " |      \n",
            " |      Args:\n",
            " |        file_name: Name/path of the pickled weights/state file.\n",
            " |        weights_only: If `True`, save only the layer's weights. Else\n",
            " |            save both weights and state.\n",
            " |        input_signature: Input signature to be used.\n",
            " |  \n",
            " |  weights_and_state_signature(self, input_signature, unsafe=False)\n",
            " |      Return a pair containing the signatures of weights and state.\n",
            " |  \n",
            " |  ----------------------------------------------------------------------\n",
            " |  Readonly properties inherited from trax.layers.base.Layer:\n",
            " |  \n",
            " |  has_backward\n",
            " |      Returns `True` if this layer provides its own custom backward pass code.\n",
            " |      \n",
            " |      A layer subclass that provides custom backward pass code (for custom\n",
            " |      gradients) must override this method to return `True`.\n",
            " |  \n",
            " |  n_in\n",
            " |      Returns how many tensors this layer expects as input.\n",
            " |  \n",
            " |  n_out\n",
            " |      Returns how many tensors this layer promises as output.\n",
            " |  \n",
            " |  name\n",
            " |      Returns the name of this layer.\n",
            " |  \n",
            " |  sublayers\n",
            " |      Returns a tuple containing this layer's sublayers; may be empty.\n",
            " |  \n",
            " |  ----------------------------------------------------------------------\n",
            " |  Data descriptors inherited from trax.layers.base.Layer:\n",
            " |  \n",
            " |  __dict__\n",
            " |      dictionary for instance variables (if defined)\n",
            " |  \n",
            " |  __weakref__\n",
            " |      list of weak references to the object (if defined)\n",
            " |  \n",
            " |  rng\n",
            " |      Returns this layer's current single-use random number generator.\n",
            " |      \n",
            " |      Code that wants to base random samples on this generator must explicitly\n",
            " |      split off new generators from it. (See, for example, the `rng` setter code\n",
            " |      below.)\n",
            " |  \n",
            " |  state\n",
            " |      Returns a tuple containing this layer's state; may be empty.\n",
            " |      \n",
            " |      If the layer has sublayers, the state by convention will be\n",
            " |      a tuple of length `len(sublayers)` containing sublayer states.\n",
            " |      Note that in this case self._state only marks which ones are shared.\n",
            " |  \n",
            " |  weights\n",
            " |      Returns this layer's weights.\n",
            " |      \n",
            " |      Depending on the layer, the weights can be in the form of:\n",
            " |      \n",
            " |        - an empty tuple\n",
            " |        - a tensor (ndarray)\n",
            " |        - a nested structure of tuples and tensors\n",
            " |      \n",
            " |      If the layer has sublayers, the weights by convention will be\n",
            " |      a tuple of length `len(sublayers)` containing the weights of sublayers.\n",
            " |      Note that in this case self._weights only marks which ones are shared.\n",
            "\n"
          ]
        }
      ],
      "source": [
        "# View documentation for tl.Embedding\n",
        "help(tl.Embedding)"
      ]
    },
    {
      "cell_type": "code",
      "execution_count": null,
      "metadata": {
        "id": "Bi4OhkZbjCW6",
        "colab": {
          "base_uri": "https://localhost:8080/",
          "height": 34
        },
        "outputId": "20e1538e-6ec8-484b-9898-ea6e47d5d5eb"
      },
      "outputs": [
        {
          "output_type": "display_data",
          "data": {
            "text/plain": [
              "Embedding_3_2"
            ]
          },
          "metadata": {}
        }
      ],
      "source": [
        "tmp_embed = tl.Embedding(vocab_size=3, d_feature=2)\n",
        "display(tmp_embed)"
      ]
    },
    {
      "cell_type": "markdown",
      "metadata": {
        "id": "OD0XVH5jjCW8"
      },
      "source": [
        "- [tl.Mean](https://github.com/google/trax/blob/1372b903bb66b0daccee19fd0b1fdf44f659330b/trax/layers/core.py#L276): Calculates means across an axis.  In this case, please choose axis = 1 to get an average embedding vector (an embedding vector that is an average of all words in the vocabulary).  \n",
        "- For example, if the embedding matrix is 300 elements and vocab size is 10,000 words, taking the mean of the embedding matrix along axis=1 will yield a vector of 300 elements."
      ]
    },
    {
      "cell_type": "code",
      "execution_count": null,
      "metadata": {
        "id": "CO0uMOOmjCW8",
        "colab": {
          "base_uri": "https://localhost:8080/"
        },
        "outputId": "894cc5ad-d1fa-4a23-9d4f-8a4ac9e20a0e"
      },
      "outputs": [
        {
          "output_type": "stream",
          "name": "stdout",
          "text": [
            "Help on function Mean in module trax.layers.core:\n",
            "\n",
            "Mean(axis=-1, keepdims=False)\n",
            "    Returns a layer that computes mean values using one tensor axis.\n",
            "    \n",
            "    `Mean` uses one tensor axis to form groups of values and replaces each group\n",
            "    with the mean value of that group. The resulting values can either remain\n",
            "    in their own size 1 axis (`keepdims=True`), or that axis can be removed from\n",
            "    the overall tensor (default `keepdims=False`), lowering the rank of the\n",
            "    tensor by one.\n",
            "    \n",
            "    Args:\n",
            "      axis: Axis along which values are grouped for computing a mean.\n",
            "      keepdims: If `True`, keep the resulting size 1 axis as a separate tensor\n",
            "          axis; else, remove that axis.\n",
            "\n"
          ]
        }
      ],
      "source": [
        "# view the documentation for tl.mean\n",
        "help(tl.Mean)"
      ]
    },
    {
      "cell_type": "code",
      "execution_count": 33,
      "metadata": {
        "id": "eSS-_d38jCW-",
        "colab": {
          "base_uri": "https://localhost:8080/",
          "height": 86
        },
        "outputId": "d21675d5-8e59-4387-bc65-a79fc9647f00"
      },
      "outputs": [
        {
          "output_type": "stream",
          "name": "stdout",
          "text": [
            "The mean along axis 0 creates a vector whose length equals the vocabulary size\n"
          ]
        },
        {
          "output_type": "display_data",
          "data": {
            "text/plain": [
              "Array([2.5, 3.5, 4.5], dtype=float32)"
            ]
          },
          "metadata": {}
        },
        {
          "output_type": "stream",
          "name": "stdout",
          "text": [
            "The mean along axis 1 creates a vector whose length equals the number of elements in a word embedding\n"
          ]
        },
        {
          "output_type": "display_data",
          "data": {
            "text/plain": [
              "Array([2., 5.], dtype=float32)"
            ]
          },
          "metadata": {}
        }
      ],
      "source": [
        "# Pretend the embedding matrix uses\n",
        "# 2 elements for embedding the meaning of a word\n",
        "# and has a vocabulary size of 3\n",
        "# So it has shape (2,3)\n",
        "tmp_embed = np.array([[1,2,3,],\n",
        "                    [4,5,6]\n",
        "                   ])\n",
        "\n",
        "# take the mean along axis 0\n",
        "print(\"The mean along axis 0 creates a vector whose length equals the vocabulary size\")\n",
        "display(np.mean(tmp_embed,axis=0))\n",
        "\n",
        "print(\"The mean along axis 1 creates a vector whose length equals the number of elements in a word embedding\")\n",
        "display(np.mean(tmp_embed,axis=1))"
      ]
    },
    {
      "cell_type": "markdown",
      "metadata": {
        "id": "08G5yUa_jCXE"
      },
      "source": [
        "- [tl.LogSoftmax](https://github.com/google/trax/blob/1372b903bb66b0daccee19fd0b1fdf44f659330b/trax/layers/core.py#L242): Implements log softmax function\n",
        "- Here, you don't need to set any parameters for `LogSoftMax()`."
      ]
    },
    {
      "cell_type": "code",
      "execution_count": null,
      "metadata": {
        "id": "0UsQjFrAjCXF",
        "colab": {
          "base_uri": "https://localhost:8080/"
        },
        "outputId": "628e1196-774d-420c-c994-4d6de8fbd1f9"
      },
      "outputs": [
        {
          "output_type": "stream",
          "name": "stdout",
          "text": [
            "Help on function LogSoftmax in module trax.layers.core:\n",
            "\n",
            "LogSoftmax(axis=-1)\n",
            "    Returns a layer that applies log softmax along one tensor axis.\n",
            "    \n",
            "    Note that the implementation actually computes x - LogSumExp(x),\n",
            "    which is mathematically equal to LogSoftmax(x).\n",
            "    \n",
            "    `LogSoftmax` acts on a group of values and normalizes them to look like a set\n",
            "    of log probability values. (Probability values must be non-negative, and as\n",
            "    a set must sum to 1. A group of log probability values can be seen as the\n",
            "    natural logarithm function applied to a set of probability values.)\n",
            "    \n",
            "    Args:\n",
            "      axis: Axis along which values are grouped for computing log softmax.\n",
            "\n"
          ]
        }
      ],
      "source": [
        "help(tl.LogSoftmax)"
      ]
    },
    {
      "cell_type": "markdown",
      "metadata": {
        "id": "Iwks69O6KNho"
      },
      "source": [
        "**Online documentation**\n",
        "\n",
        "- [tl.Dense](https://trax-ml.readthedocs.io/en/latest/trax.layers.html#trax.layers.core.Dense)\n",
        "\n",
        "- [tl.Serial](https://trax-ml.readthedocs.io/en/latest/trax.layers.html#module-trax.layers.combinators)\n",
        "\n",
        "- [tl.Embedding](https://trax-ml.readthedocs.io/en/latest/trax.layers.html#trax.layers.core.Embedding)\n",
        "\n",
        "- [tl.Mean](https://trax-ml.readthedocs.io/en/latest/trax.layers.html#trax.layers.core.Mean)\n",
        "\n",
        "- [tl.LogSoftmax](https://trax-ml.readthedocs.io/en/latest/trax.layers.html#trax.layers.core.LogSoftmax)"
      ]
    },
    {
      "cell_type": "markdown",
      "metadata": {
        "id": "W8ONXnJsjCXH"
      },
      "source": [
        "<a name=\"ex05\"></a>\n",
        "### Exercise 05\n",
        "Implement the classifier function."
      ]
    },
    {
      "cell_type": "code",
      "execution_count": 34,
      "metadata": {
        "id": "Wh33Hk8lgrgz"
      },
      "outputs": [],
      "source": [
        "# UNQ_C5 (UNIQUE CELL IDENTIFIER, DO NOT EDIT)\n",
        "# GRADED FUNCTION: classifier\n",
        "def classifier(vocab_size=len(Vocab), embedding_dim=256, output_dim=2, mode='train'):\n",
        "\n",
        "### START CODE HERE (Replace instances of 'None' with your code) ###\n",
        "    # create embedding layer\n",
        "    embed_layer = tl.Embedding(\n",
        "        vocab_size=vocab_size, # Size of the vocabulary\n",
        "        d_feature=embedding_dim)  # Embedding dimension\n",
        "    # flatten_layer = tl.Flatten()\n",
        "    # Create a mean layer, to create an \"average\" word embedding\n",
        "    mean_layer = tl.Mean(axis=1)\n",
        "\n",
        "    # Create a dense layer, one unit for each output\n",
        "    dense_output_layer = tl.Dense(n_units = output_dim)\n",
        "\n",
        "\n",
        "    # Create the log softmax layer (no parameters needed)\n",
        "    log_softmax_layer = tl.LogSoftmax()\n",
        "\n",
        "    # Use tl.Serial to combine all layers\n",
        "    # and create the classifier\n",
        "    # of type trax.layers.combinators.Serial\n",
        "    model = tl.Serial(\n",
        "      embed_layer, # embedding layer\n",
        "      # flatten_layer,\n",
        "      mean_layer, # mean layer\n",
        "      dense_output_layer, # dense output layer\n",
        "      log_softmax_layer # log softmax layer\n",
        "    )\n",
        "### END CODE HERE ###\n",
        "\n",
        "    # return the model of type\n",
        "    return model"
      ]
    },
    {
      "cell_type": "code",
      "execution_count": 35,
      "metadata": {
        "id": "OwJCu3e9jCXK"
      },
      "outputs": [],
      "source": [
        "tmp_model = classifier()"
      ]
    },
    {
      "cell_type": "code",
      "execution_count": 36,
      "metadata": {
        "id": "ZsMzvK8YjCXM",
        "colab": {
          "base_uri": "https://localhost:8080/",
          "height": 139
        },
        "outputId": "561dd1f6-eded-4039-9c7b-e8e5b4fbbd89"
      },
      "outputs": [
        {
          "output_type": "stream",
          "name": "stdout",
          "text": [
            "<class 'trax.layers.combinators.Serial'>\n"
          ]
        },
        {
          "output_type": "display_data",
          "data": {
            "text/plain": [
              "Serial[\n",
              "  Embedding_9088_256\n",
              "  Mean\n",
              "  Dense_2\n",
              "  LogSoftmax\n",
              "]"
            ]
          },
          "metadata": {}
        }
      ],
      "source": [
        "print(type(tmp_model))\n",
        "display(tmp_model)"
      ]
    },
    {
      "cell_type": "markdown",
      "metadata": {
        "id": "DV0LEuRVjCXO"
      },
      "source": [
        "##### Expected Outout\n",
        "```CPP\n",
        "<class 'trax.layers.combinators.Serial'>\n",
        "Serial[\n",
        "  Embedding_9088_256\n",
        "  Mean\n",
        "  Dense_2\n",
        "  LogSoftmax\n",
        "]\n",
        "```"
      ]
    },
    {
      "cell_type": "markdown",
      "metadata": {
        "id": "1FaugA_7grg6"
      },
      "source": [
        "<a name=\"4\"></a>\n",
        "# Part 4:  Training\n",
        "\n",
        "To train a model on a task, Trax defines an abstraction [`trax.supervised.training.TrainTask`](https://trax-ml.readthedocs.io/en/latest/trax.supervised.html#trax.supervised.training.TrainTask) which packages the train data, loss and optimizer (among other things) together into an object.\n",
        "\n",
        "Similarly to evaluate a model, Trax defines an abstraction [`trax.supervised.training.EvalTask`](https://trax-ml.readthedocs.io/en/latest/trax.supervised.html#trax.supervised.training.EvalTask) which packages the eval data and metrics (among other things) into another object.\n",
        "\n",
        "The final piece tying things together is the [`trax.supervised.training.Loop`](https://trax-ml.readthedocs.io/en/latest/trax.supervised.html#trax.supervised.training.Loop) abstraction that is a very simple and flexible way to put everything together and train the model, all the while evaluating it and saving checkpoints.\n",
        "Using `Loop` will save you a lot of code compared to always writing the training loop by hand, like you did in courses 1 and 2. More importantly, you are less likely to have a bug in that code that would ruin your training."
      ]
    },
    {
      "cell_type": "code",
      "execution_count": null,
      "metadata": {
        "id": "UGgKw03jjCXP",
        "scrolled": true,
        "colab": {
          "base_uri": "https://localhost:8080/"
        },
        "outputId": "e19c9f37-0522-45b0-b379-0ec9f43c2dae"
      },
      "outputs": [
        {
          "output_type": "stream",
          "name": "stdout",
          "text": [
            "Help on class TrainTask in module trax.supervised.training:\n",
            "\n",
            "class TrainTask(builtins.object)\n",
            " |  TrainTask(labeled_data, loss_layer, optimizer, lr_schedule=None, n_steps_per_checkpoint=100, n_steps_per_permanent_checkpoint=None, loss_name=None, sample_batch=None, export_prefix=None)\n",
            " |  \n",
            " |  A supervised task (labeled data + feedback mechanism) for training.\n",
            " |  \n",
            " |  Methods defined here:\n",
            " |  \n",
            " |  __init__(self, labeled_data, loss_layer, optimizer, lr_schedule=None, n_steps_per_checkpoint=100, n_steps_per_permanent_checkpoint=None, loss_name=None, sample_batch=None, export_prefix=None)\n",
            " |      Configures a training task.\n",
            " |      \n",
            " |      Args:\n",
            " |        labeled_data: Iterator of batches of labeled data tuples. Each tuple has\n",
            " |            1+ data (input value) tensors followed by 1 label (target value)\n",
            " |            tensor.  All tensors are NumPy ndarrays or their JAX counterparts.\n",
            " |        loss_layer: Layer that computes a scalar value (the \"loss\") by comparing\n",
            " |            model output :math:`\\hat{y}=f(x)` to the target :math:`y`.\n",
            " |        optimizer: Optimizer object that computes model weight updates from\n",
            " |            loss-function gradients.\n",
            " |        lr_schedule: Learning rate schedule, a function step -> learning_rate.\n",
            " |        n_steps_per_checkpoint: How many steps to run between checkpoints.\n",
            " |        n_steps_per_permanent_checkpoint: How many steps to run between permanent\n",
            " |            checkpoints.\n",
            " |        loss_name: Name for the loss metric.\n",
            " |        sample_batch: Optional sample batch for model initialization. If not\n",
            " |            provided, it will be taken from ``labeled_data``.\n",
            " |        export_prefix: Optional task name to be used as prefix for exporting\n",
            " |        metrics during training in Loop.\n",
            " |  \n",
            " |  learning_rate(self, step)\n",
            " |      Return the learning rate for the given step.\n",
            " |  \n",
            " |  next_batch(self)\n",
            " |      Returns one batch of labeled data: a tuple of input(s) plus label.\n",
            " |  \n",
            " |  ----------------------------------------------------------------------\n",
            " |  Readonly properties defined here:\n",
            " |  \n",
            " |  export_prefix\n",
            " |  \n",
            " |  labeled_data\n",
            " |  \n",
            " |  loss_layer\n",
            " |  \n",
            " |  loss_name\n",
            " |  \n",
            " |  n_steps_per_checkpoint\n",
            " |  \n",
            " |  n_steps_per_permanent_checkpoint\n",
            " |  \n",
            " |  optimizer\n",
            " |  \n",
            " |  sample_batch\n",
            " |  \n",
            " |  ----------------------------------------------------------------------\n",
            " |  Data descriptors defined here:\n",
            " |  \n",
            " |  __dict__\n",
            " |      dictionary for instance variables (if defined)\n",
            " |  \n",
            " |  __weakref__\n",
            " |      list of weak references to the object (if defined)\n",
            "\n"
          ]
        }
      ],
      "source": [
        "\n",
        "# View documentation for trax.supervised.training.TrainTask\n",
        "help(trax.supervised.training.TrainTask)"
      ]
    },
    {
      "cell_type": "code",
      "execution_count": null,
      "metadata": {
        "id": "Tr2MmdWDn6hV",
        "colab": {
          "base_uri": "https://localhost:8080/"
        },
        "outputId": "91d9170d-6b07-439d-dcd5-5207720e1e53"
      },
      "outputs": [
        {
          "output_type": "stream",
          "name": "stdout",
          "text": [
            "Help on class EvalTask in module trax.supervised.training:\n",
            "\n",
            "class EvalTask(builtins.object)\n",
            " |  EvalTask(labeled_data, metrics, metric_names=None, n_eval_batches=1, sample_batch=None, export_prefix=None)\n",
            " |  \n",
            " |  Labeled data plus scalar functions for (periodically) measuring a model.\n",
            " |  \n",
            " |  An eval task specifies how (``labeled_data`` + ``metrics``) and with what\n",
            " |  precision (``n_eval_batches``) to measure a model as it is training.\n",
            " |  The variance of each scalar output is reduced by measuring over multiple\n",
            " |  (``n_eval_batches``) batches and reporting the average from those\n",
            " |  measurements.\n",
            " |  \n",
            " |  Methods defined here:\n",
            " |  \n",
            " |  __init__(self, labeled_data, metrics, metric_names=None, n_eval_batches=1, sample_batch=None, export_prefix=None)\n",
            " |      Configures an eval task: named metrics run with a given data source.\n",
            " |      \n",
            " |      Args:\n",
            " |        labeled_data: Iterator of batches of labeled data tuples. Each tuple has\n",
            " |            1+ data tensors (NumPy ndarrays) followed by 1 label (target value)\n",
            " |            tensor.\n",
            " |        metrics: List of layers; each computes a scalar value per batch by\n",
            " |            comparing model output :math:`\\hat{y}=f(x)` to the target :math:`y`.\n",
            " |        metric_names: List of names, one for each item in ``metrics``, in matching\n",
            " |             order, to be used when recording/reporting eval output. If ``None``,\n",
            " |             generate default names using layer names from metrics.\n",
            " |        n_eval_batches: Integer N that specifies how many eval batches to run;\n",
            " |            the output is then the average of the outputs from the N batches.\n",
            " |        sample_batch: Optional sample batch for model initialization. If not\n",
            " |            provided, it will be taken from ``labeled_data``.\n",
            " |        export_prefix: Optional task name to be used as prefix for exporting\n",
            " |            metrics during evaluation in Loop.\n",
            " |  \n",
            " |  next_batch(self)\n",
            " |      Returns one batch of labeled data: a tuple of input(s) plus label.\n",
            " |  \n",
            " |  ----------------------------------------------------------------------\n",
            " |  Readonly properties defined here:\n",
            " |  \n",
            " |  export_prefix\n",
            " |  \n",
            " |  labeled_data\n",
            " |  \n",
            " |  metric_names\n",
            " |  \n",
            " |  metrics\n",
            " |  \n",
            " |  n_eval_batches\n",
            " |  \n",
            " |  sample_batch\n",
            " |  \n",
            " |  ----------------------------------------------------------------------\n",
            " |  Data descriptors defined here:\n",
            " |  \n",
            " |  __dict__\n",
            " |      dictionary for instance variables (if defined)\n",
            " |  \n",
            " |  __weakref__\n",
            " |      list of weak references to the object (if defined)\n",
            "\n"
          ]
        }
      ],
      "source": [
        "# View documentation for trax.supervised.training.EvalTask\n",
        "help(trax.supervised.training.EvalTask)"
      ]
    },
    {
      "cell_type": "code",
      "execution_count": null,
      "metadata": {
        "id": "XkUVMzVXn_8f",
        "colab": {
          "base_uri": "https://localhost:8080/"
        },
        "outputId": "54c55532-c0fd-4a48-f339-47880dbb3f4e"
      },
      "outputs": [
        {
          "output_type": "stream",
          "name": "stdout",
          "text": [
            "Help on class Loop in module trax.supervised.training:\n",
            "\n",
            "class Loop(builtins.object)\n",
            " |  Loop(model, tasks, eval_model=None, eval_tasks=None, output_dir=None, checkpoint_at=None, checkpoint_low_metric=None, checkpoint_high_metric=None, permanent_checkpoint_at=None, eval_at=None, which_task=None, n_devices=None, random_seed=None, loss_chunk_size=0, use_memory_efficient_trainer=False, adasum=False, callbacks=None)\n",
            " |  \n",
            " |  Loop that can run for a given number of steps to train a supervised model.\n",
            " |  \n",
            " |  Can train the model on multiple tasks by interleaving updates according to the\n",
            " |  ``which_task`` argument.\n",
            " |  \n",
            " |  The typical supervised training process randomly initializes a model and\n",
            " |  updates its weights via feedback (loss-derived gradients) from a training\n",
            " |  task, by looping through batches of labeled data. A training loop can also\n",
            " |  be configured to run periodic evals and save intermediate checkpoints.\n",
            " |  \n",
            " |  For speed, the implementation takes advantage of JAX's composable function\n",
            " |  transformations (specifically, ``jit`` and ``grad``). It creates JIT-compiled\n",
            " |  pure functions derived from variants of the core model; schematically:\n",
            " |  \n",
            " |    - training variant: `jit(grad(pure_function(model+loss)))`\n",
            " |    - evals variant: `jit(pure_function(model+evals))`\n",
            " |  \n",
            " |  In training or during evals, these variants are called with explicit\n",
            " |  arguments for all relevant input data, model weights/state, optimizer slots,\n",
            " |  and random number seeds:\n",
            " |  \n",
            " |    - batch: labeled data\n",
            " |    - model weights/state: trainable weights and input-related state (e.g., as\n",
            " |      used by batch norm)\n",
            " |    - optimizer slots: weights in the optimizer that evolve during the training\n",
            " |      process\n",
            " |    - random number seeds: JAX PRNG keys that enable high-quality, distributed,\n",
            " |      repeatable generation of pseudo-random numbers\n",
            " |  \n",
            " |  Methods defined here:\n",
            " |  \n",
            " |  __init__(self, model, tasks, eval_model=None, eval_tasks=None, output_dir=None, checkpoint_at=None, checkpoint_low_metric=None, checkpoint_high_metric=None, permanent_checkpoint_at=None, eval_at=None, which_task=None, n_devices=None, random_seed=None, loss_chunk_size=0, use_memory_efficient_trainer=False, adasum=False, callbacks=None)\n",
            " |      Configures a training ``Loop``, including a random initialization.\n",
            " |      \n",
            " |      Args:\n",
            " |        model: Trax layer, representing the core model to be trained. Loss\n",
            " |            functions and eval functions (a.k.a. metrics) are considered to be\n",
            " |            outside the core model, taking core model output and data labels as\n",
            " |            their two inputs.\n",
            " |        tasks: List of :py:class:`TrainTask` instances, which define the training\n",
            " |            data, loss function, and optimizer to be used in respective tasks in\n",
            " |            this training loop. It can also be a single :py:class:`TrainTask`\n",
            " |            instance which is treated in the same way as a singleton list.\n",
            " |        eval_model: Optional Trax layer, representing model used for evaluation,\n",
            " |            e.g., with dropout turned off. If ``None``, the training model (model)\n",
            " |            will be used.\n",
            " |        eval_tasks: List of :py:class:`EvalTask` instances which define how to\n",
            " |            evaluate the model: which validation data to use and which metrics to\n",
            " |            report. Evaluation on each of the tasks and will run and be reported\n",
            " |            separately which allows to score a model on different subtasks. This\n",
            " |            argument can also be ``None``, in which case no evals will be run, or\n",
            " |            a single :py:class:`EvalTask`, which wil be treated in the same way\n",
            " |            as a singleton list.\n",
            " |        output_dir: Path telling where to save outputs (evals and checkpoints).\n",
            " |            Can be ``None`` if both ``eval_task`` and ``checkpoint_at`` are\n",
            " |            ``None``.\n",
            " |        checkpoint_at: Function (integer --> boolean) telling, for step n, whether\n",
            " |            that step should have its checkpoint saved. If ``None``, the default\n",
            " |            is periodic checkpointing at ``task.n_steps_per_checkpoint``.\n",
            " |        checkpoint_low_metric: Name of metric, or None. The metric name must\n",
            " |            be one of the metric names from the evals in ``eval_tasks``. At\n",
            " |            checkpoint times determined by ``checkpoint_at``, a separate\n",
            " |            specially named checkpoint will be saved (overwriting any previous\n",
            " |            version) if the designated metric reaches a value less than or equal\n",
            " |            to any previous recorded low value. No such checkpoint is saved if\n",
            " |            arg value is `None`.\n",
            " |        checkpoint_high_metric: Name of metric, or None. The metric name must\n",
            " |            be one of the metric names from the evals in ``eval_tasks``. At\n",
            " |            checkpoint times determined by ``checkpoint_at``, a separate\n",
            " |            specially named checkpoint will be saved (overwriting any previous\n",
            " |            version) if the designated metric reaches a value greater than or\n",
            " |            equal to any previous recorded high value. No such checkpoint is\n",
            " |            saved if arg value is `None`.\n",
            " |        permanent_checkpoint_at: Function (integer --> boolean) telling,\n",
            " |            for step n, whether that step should have its checkpoint saved\n",
            " |            permanently. If ``None``, the default is periodic checkpointing at\n",
            " |            ``task.n_steps_per_permanent_checkpoint``.\n",
            " |        eval_at: Function (integer --> boolean) that says, for training step n,\n",
            " |            whether that step should run evals. If ``None``, run evals on the\n",
            " |            first step and on every N'th step, as determined by the first\n",
            " |            training task.\n",
            " |        which_task: Function (integer --> integer) indicating which task should be\n",
            " |            used at which training step. Can be set to ``None`` in single-task\n",
            " |            training.\n",
            " |        n_devices: integer or ``None``, the number of devices for this\n",
            " |            computation.\n",
            " |        random_seed: the random seed to use; time/os dependent if ``None``\n",
            " |            (default).\n",
            " |        loss_chunk_size: int, if > 0 use chunks of this size to make loss\n",
            " |          computation more more memory-efficient.\n",
            " |        use_memory_efficient_trainer: whether to use a special memory-efficient\n",
            " |          trainer; if set to 2, the memory efficiency if very aggressive\n",
            " |        adasum: if True, use adaptive summation for multi-device gradients\n",
            " |        callbacks: List of subclasses of StepCallback to call on training\n",
            " |          steps.\n",
            " |  \n",
            " |  load_checkpoint(self, directory=None, filename=None)\n",
            " |      Loads model weights and step from a checkpoint on disk.\n",
            " |      \n",
            " |      Args:\n",
            " |        directory: Directory with the checkpoint (self._output_dir by default).\n",
            " |        filename: Checkpoint file name (model.pkl.gz by default).\n",
            " |  \n",
            " |  log_summary(self, values, summary_writer, value_prefix, log_prefix, stdout=True)\n",
            " |      Logs and saves provided metrics.\n",
            " |      \n",
            " |      Args:\n",
            " |        values: Dict from metric name to metric value.\n",
            " |        summary_writer: Jaxboard summary writer.\n",
            " |        value_prefix: String appended in front of summary_writer entries.\n",
            " |        log_prefix: String appended in front of logs.\n",
            " |        stdout: Boolean saying if logs should be logged to stdout as well.\n",
            " |  \n",
            " |  new_rng(self)\n",
            " |      Returns a new single-use random number generator (JAX PRNG key).\n",
            " |  \n",
            " |  run(self, n_steps=1)\n",
            " |      Runs this training loop for n steps.\n",
            " |      \n",
            " |      Optionally runs evals and saves checkpoints at specified points.\n",
            " |      \n",
            " |      Args:\n",
            " |        n_steps: Stop training after completing n steps.\n",
            " |  \n",
            " |  run_evals(self, summary_writers=None)\n",
            " |      Runs and records evals for this training session.\n",
            " |      \n",
            " |      Args:\n",
            " |        summary_writers: List of per-task Jaxboard summary writers to log metrics.\n",
            " |  \n",
            " |  save_checkpoint(self, basename)\n",
            " |      Saves checkpoint (multiple files) to disk for the current training step.\n",
            " |      \n",
            " |      Saving a checkpoint will overwrite any previous checkpoint saved with the\n",
            " |      same ``basename``. Use differing ``basename`` values to save multiple\n",
            " |      checkpoints or multiple copies of the same checkpoint.\n",
            " |      \n",
            " |      Args:\n",
            " |        basename: Basename for saving a checkpoint. Full file paths for the saved\n",
            " |            checkpoint will combine the output dir, basename, and relevant file\n",
            " |            extensions (e.g., `.weights.npy.gz`).\n",
            " |  \n",
            " |  update_weights_and_state(self, weights=None, state=None)\n",
            " |      Updates the weights and state of the trained model.\n",
            " |      \n",
            " |      Sends this data both to the singleton model accessible via Loop.model\n",
            " |      and to the replicated model on the accelerator.\n",
            " |      \n",
            " |      Useful when the weights or state are modified outside of training, e.g.\n",
            " |      during data collection in RL agents.\n",
            " |      \n",
            " |      Args:\n",
            " |        weights: Model weights or ``None``. If ``None``, don't set.\n",
            " |        state: Model state or ``None``. If ``None``, don't set.\n",
            " |  \n",
            " |  ----------------------------------------------------------------------\n",
            " |  Readonly properties defined here:\n",
            " |  \n",
            " |  eval_model\n",
            " |      Returns the model used for evaluation.\n",
            " |  \n",
            " |  eval_tasks\n",
            " |      Returns the evaluation tasks.\n",
            " |  \n",
            " |  history\n",
            " |      Returns history in this training session.\n",
            " |  \n",
            " |  is_chief\n",
            " |      Returns true if this Loop is the chief.\n",
            " |  \n",
            " |  model\n",
            " |      Returns the model that is training.\n",
            " |  \n",
            " |  n_devices\n",
            " |      Returns the number of devices to be used in this computation.\n",
            " |  \n",
            " |  output_dir\n",
            " |      Returns the output directory.\n",
            " |  \n",
            " |  step\n",
            " |      Returns current step number in this training session.\n",
            " |  \n",
            " |  tasks\n",
            " |      Returns the training tasks.\n",
            " |  \n",
            " |  ----------------------------------------------------------------------\n",
            " |  Data descriptors defined here:\n",
            " |  \n",
            " |  __dict__\n",
            " |      dictionary for instance variables (if defined)\n",
            " |  \n",
            " |  __weakref__\n",
            " |      list of weak references to the object (if defined)\n",
            "\n"
          ]
        }
      ],
      "source": [
        "# View documentation for trax.supervised.training.Loop\n",
        "help(trax.supervised.training.Loop)"
      ]
    },
    {
      "cell_type": "code",
      "execution_count": null,
      "metadata": {
        "id": "Ooekq1F305bt",
        "colab": {
          "base_uri": "https://localhost:8080/"
        },
        "outputId": "ab0a5187-19bb-42b9-e941-ec8ef5ca114b"
      },
      "outputs": [
        {
          "output_type": "stream",
          "name": "stdout",
          "text": [
            "Help on package trax.optimizers in trax:\n",
            "\n",
            "NAME\n",
            "    trax.optimizers - Optimizers for use with Trax layers.\n",
            "\n",
            "PACKAGE CONTENTS\n",
            "    adafactor\n",
            "    adam\n",
            "    base\n",
            "    momentum\n",
            "    optimizers_test\n",
            "    rms_prop\n",
            "    sm3\n",
            "    trainer\n",
            "    trainer_test\n",
            "\n",
            "FUNCTIONS\n",
            "    opt_configure(*args, **kwargs)\n",
            "\n",
            "FILE\n",
            "    /usr/local/lib/python3.10/dist-packages/trax/optimizers/__init__.py\n",
            "\n",
            "\n"
          ]
        }
      ],
      "source": [
        "# View optimizers that you could choose from\n",
        "help(trax.optimizers)"
      ]
    },
    {
      "cell_type": "markdown",
      "metadata": {
        "id": "OmR3BhV41Cxs"
      },
      "source": [
        "Notice some available optimizers include:\n",
        "```CPP\n",
        "    adafactor\n",
        "    adam\n",
        "    momentum\n",
        "    rms_prop\n",
        "    sm3\n",
        "```"
      ]
    },
    {
      "cell_type": "markdown",
      "metadata": {
        "id": "HA01H6K7grg_"
      },
      "source": [
        "<a name=\"4.1\"></a>\n",
        "## 4.1  Training the model\n",
        "\n",
        "Now you are going to train your model.\n",
        "\n",
        "Let's define the `TrainTask`, `EvalTask` and `Loop` in preparation to train the model."
      ]
    },
    {
      "cell_type": "code",
      "execution_count": 37,
      "metadata": {
        "id": "ogMtJgHSoiZj"
      },
      "outputs": [],
      "source": [
        "from trax.supervised import training\n",
        "\n",
        "batch_size = 16\n",
        "rnd.seed(271)\n",
        "\n",
        "train_task = training.TrainTask(\n",
        "    labeled_data=train_generator(batch_size=batch_size, shuffle=True),\n",
        "    loss_layer=tl.CrossEntropyLoss(),\n",
        "    optimizer=trax.optimizers.Adam(0.01),\n",
        "    n_steps_per_checkpoint=10,\n",
        ")\n",
        "\n",
        "eval_task = training.EvalTask(\n",
        "    labeled_data=val_generator(batch_size=batch_size, shuffle=True),\n",
        "    metrics=[tl.CrossEntropyLoss(), tl.Accuracy()],\n",
        ")\n",
        "\n",
        "model = classifier()"
      ]
    },
    {
      "cell_type": "markdown",
      "metadata": {
        "id": "R_sw8EGd0Sjk"
      },
      "source": [
        "This defines a model trained using [`tl.CrossEntropyLoss`](https://trax-ml.readthedocs.io/en/latest/trax.layers.html#trax.layers.metrics.CrossEntropyLoss) optimized with the [`trax.optimizers.Adam`](https://trax-ml.readthedocs.io/en/latest/trax.optimizers.html#trax.optimizers.adam.Adam) optimizer, all the while tracking the accuracy using [`tl.Accuracy`](https://trax-ml.readthedocs.io/en/latest/trax.layers.html#trax.layers.metrics.Accuracy) metric. We also track `tl.CrossEntropyLoss` on the validation set."
      ]
    },
    {
      "cell_type": "markdown",
      "metadata": {
        "id": "yB78IIUerIVG"
      },
      "source": [
        "Now let's make an output directory and train the model."
      ]
    },
    {
      "cell_type": "code",
      "execution_count": 38,
      "metadata": {
        "id": "CNx4LnP9rMsO",
        "colab": {
          "base_uri": "https://localhost:8080/"
        },
        "outputId": "ba100656-4da6-4c60-c8b0-7cfcc3eeac9c"
      },
      "outputs": [
        {
          "output_type": "stream",
          "name": "stdout",
          "text": [
            "/root/model/\n"
          ]
        }
      ],
      "source": [
        "output_dir = '~/model/'\n",
        "output_dir_expand = os.path.expanduser(output_dir)\n",
        "print(output_dir_expand)"
      ]
    },
    {
      "cell_type": "markdown",
      "metadata": {
        "id": "e4R4EHUcrwqe"
      },
      "source": [
        "<a name=\"ex06\"></a>\n",
        "### Exercise 06\n",
        "**Instructions:** Implement `train_model` to train the model (`classifier` that you wrote earlier) for the given number of training steps (`n_steps`) using `TrainTask`, `EvalTask` and `Loop`."
      ]
    },
    {
      "cell_type": "code",
      "execution_count": 39,
      "metadata": {
        "id": "tolygrj7rpFX"
      },
      "outputs": [],
      "source": [
        "# UNQ_C6 (UNIQUE CELL IDENTIFIER, DO NOT EDIT)\n",
        "# GRADED FUNCTION: train_model\n",
        "def train_model(classifier, train_task, eval_task, n_steps, output_dir):\n",
        "    '''\n",
        "    Input:\n",
        "        classifier - the model you are building\n",
        "        train_task - Training task\n",
        "        eval_task - Evaluation task\n",
        "        n_steps - the evaluation steps\n",
        "        output_dir - folder to save your files\n",
        "    Output:\n",
        "        trainer -  trax trainer\n",
        "    '''\n",
        "### START CODE HERE (Replace instances of 'None' with your code) ###\n",
        "    # model_tmp = classifier()  # т. к. classifier - это функция, по которой делаем модель\n",
        "    training_loop = training.Loop(\n",
        "                                model, # The learning model\n",
        "                                train_task, # The training task\n",
        "                                eval_tasks = [eval_task], # The evaluation task #скобки, потому что ожидаем список!!\n",
        "                                output_dir = output_dir) # The output directory\n",
        "\n",
        "    training_loop.run(n_steps = n_steps)\n",
        "### END CODE HERE ###\n",
        "\n",
        "    # Return the training_loop, since it has the model.\n",
        "    return training_loop"
      ]
    },
    {
      "cell_type": "code",
      "execution_count": 40,
      "metadata": {
        "id": "d-AtiqAYs_rH",
        "colab": {
          "base_uri": "https://localhost:8080/"
        },
        "outputId": "f204cad4-c687-4c0e-868b-759f9dda1047"
      },
      "outputs": [
        {
          "output_type": "stream",
          "name": "stderr",
          "text": [
            "/usr/local/lib/python3.10/dist-packages/jax/_src/xla_bridge.py:1136: UserWarning: jax.host_count has been renamed to jax.process_count. This alias will eventually be removed; please update your code.\n",
            "  warnings.warn(\n",
            "/usr/local/lib/python3.10/dist-packages/trax/layers/base.py:851: FutureWarning: GzipFile was opened for writing, but this will change in future Python releases.  Specify the mode argument for opening it for writing.\n",
            "  with gzip.GzipFile(fileobj=f, compresslevel=compresslevel) as gzipf:\n"
          ]
        },
        {
          "output_type": "stream",
          "name": "stdout",
          "text": [
            "\n",
            "Step      1: Total number of trainable weights: 2327042\n",
            "Step      1: Ran 1 train steps in 1.24 secs\n",
            "Step      1: train CrossEntropyLoss |  0.69108081\n"
          ]
        },
        {
          "output_type": "stream",
          "name": "stderr",
          "text": [
            "/usr/local/lib/python3.10/dist-packages/trax/supervised/training.py:1249: FutureWarning: GzipFile was opened for writing, but this will change in future Python releases.  Specify the mode argument for opening it for writing.\n",
            "  with gzip_lib.GzipFile(fileobj=f, compresslevel=2) as gzipf:\n"
          ]
        },
        {
          "output_type": "stream",
          "name": "stdout",
          "text": [
            "Step      1: eval  CrossEntropyLoss |  0.68118459\n",
            "Step      1: eval          Accuracy |  0.50000000\n"
          ]
        },
        {
          "output_type": "stream",
          "name": "stderr",
          "text": [
            "/usr/local/lib/python3.10/dist-packages/trax/layers/base.py:851: FutureWarning: GzipFile was opened for writing, but this will change in future Python releases.  Specify the mode argument for opening it for writing.\n",
            "  with gzip.GzipFile(fileobj=f, compresslevel=compresslevel) as gzipf:\n"
          ]
        },
        {
          "output_type": "stream",
          "name": "stdout",
          "text": [
            "\n",
            "Step     10: Ran 9 train steps in 3.94 secs\n",
            "Step     10: train CrossEntropyLoss |  0.63415766\n",
            "Step     10: eval  CrossEntropyLoss |  0.56824040\n",
            "Step     10: eval          Accuracy |  0.81250000\n"
          ]
        },
        {
          "output_type": "stream",
          "name": "stderr",
          "text": [
            "/usr/local/lib/python3.10/dist-packages/trax/supervised/training.py:1249: FutureWarning: GzipFile was opened for writing, but this will change in future Python releases.  Specify the mode argument for opening it for writing.\n",
            "  with gzip_lib.GzipFile(fileobj=f, compresslevel=2) as gzipf:\n",
            "/usr/local/lib/python3.10/dist-packages/trax/layers/base.py:851: FutureWarning: GzipFile was opened for writing, but this will change in future Python releases.  Specify the mode argument for opening it for writing.\n",
            "  with gzip.GzipFile(fileobj=f, compresslevel=compresslevel) as gzipf:\n"
          ]
        },
        {
          "output_type": "stream",
          "name": "stdout",
          "text": [
            "\n",
            "Step     20: Ran 10 train steps in 2.22 secs\n",
            "Step     20: train CrossEntropyLoss |  0.42262000\n",
            "Step     20: eval  CrossEntropyLoss |  0.25522768\n",
            "Step     20: eval          Accuracy |  1.00000000\n"
          ]
        },
        {
          "output_type": "stream",
          "name": "stderr",
          "text": [
            "/usr/local/lib/python3.10/dist-packages/trax/supervised/training.py:1249: FutureWarning: GzipFile was opened for writing, but this will change in future Python releases.  Specify the mode argument for opening it for writing.\n",
            "  with gzip_lib.GzipFile(fileobj=f, compresslevel=2) as gzipf:\n",
            "/usr/local/lib/python3.10/dist-packages/trax/layers/base.py:851: FutureWarning: GzipFile was opened for writing, but this will change in future Python releases.  Specify the mode argument for opening it for writing.\n",
            "  with gzip.GzipFile(fileobj=f, compresslevel=compresslevel) as gzipf:\n"
          ]
        },
        {
          "output_type": "stream",
          "name": "stdout",
          "text": [
            "\n",
            "Step     30: Ran 10 train steps in 2.31 secs\n",
            "Step     30: train CrossEntropyLoss |  0.21105699\n"
          ]
        },
        {
          "output_type": "stream",
          "name": "stderr",
          "text": [
            "/usr/local/lib/python3.10/dist-packages/trax/supervised/training.py:1249: FutureWarning: GzipFile was opened for writing, but this will change in future Python releases.  Specify the mode argument for opening it for writing.\n",
            "  with gzip_lib.GzipFile(fileobj=f, compresslevel=2) as gzipf:\n"
          ]
        },
        {
          "output_type": "stream",
          "name": "stdout",
          "text": [
            "Step     30: eval  CrossEntropyLoss |  0.13256514\n",
            "Step     30: eval          Accuracy |  1.00000000\n"
          ]
        },
        {
          "output_type": "stream",
          "name": "stderr",
          "text": [
            "/usr/local/lib/python3.10/dist-packages/trax/layers/base.py:851: FutureWarning: GzipFile was opened for writing, but this will change in future Python releases.  Specify the mode argument for opening it for writing.\n",
            "  with gzip.GzipFile(fileobj=f, compresslevel=compresslevel) as gzipf:\n"
          ]
        },
        {
          "output_type": "stream",
          "name": "stdout",
          "text": [
            "\n",
            "Step     40: Ran 10 train steps in 1.40 secs\n",
            "Step     40: train CrossEntropyLoss |  0.14337301\n",
            "Step     40: eval  CrossEntropyLoss |  0.08541951\n",
            "Step     40: eval          Accuracy |  1.00000000\n"
          ]
        },
        {
          "output_type": "stream",
          "name": "stderr",
          "text": [
            "/usr/local/lib/python3.10/dist-packages/trax/supervised/training.py:1249: FutureWarning: GzipFile was opened for writing, but this will change in future Python releases.  Specify the mode argument for opening it for writing.\n",
            "  with gzip_lib.GzipFile(fileobj=f, compresslevel=2) as gzipf:\n",
            "/usr/local/lib/python3.10/dist-packages/trax/layers/base.py:851: FutureWarning: GzipFile was opened for writing, but this will change in future Python releases.  Specify the mode argument for opening it for writing.\n",
            "  with gzip.GzipFile(fileobj=f, compresslevel=compresslevel) as gzipf:\n"
          ]
        },
        {
          "output_type": "stream",
          "name": "stdout",
          "text": [
            "\n",
            "Step     50: Ran 10 train steps in 1.06 secs\n",
            "Step     50: train CrossEntropyLoss |  0.05268588\n",
            "Step     50: eval  CrossEntropyLoss |  0.12727529\n",
            "Step     50: eval          Accuracy |  0.93750000\n"
          ]
        },
        {
          "output_type": "stream",
          "name": "stderr",
          "text": [
            "/usr/local/lib/python3.10/dist-packages/trax/supervised/training.py:1249: FutureWarning: GzipFile was opened for writing, but this will change in future Python releases.  Specify the mode argument for opening it for writing.\n",
            "  with gzip_lib.GzipFile(fileobj=f, compresslevel=2) as gzipf:\n",
            "/usr/local/lib/python3.10/dist-packages/trax/layers/base.py:851: FutureWarning: GzipFile was opened for writing, but this will change in future Python releases.  Specify the mode argument for opening it for writing.\n",
            "  with gzip.GzipFile(fileobj=f, compresslevel=compresslevel) as gzipf:\n"
          ]
        },
        {
          "output_type": "stream",
          "name": "stdout",
          "text": [
            "\n",
            "Step     60: Ran 10 train steps in 1.39 secs\n",
            "Step     60: train CrossEntropyLoss |  0.06714274\n",
            "Step     60: eval  CrossEntropyLoss |  0.02583349\n",
            "Step     60: eval          Accuracy |  1.00000000\n"
          ]
        },
        {
          "output_type": "stream",
          "name": "stderr",
          "text": [
            "/usr/local/lib/python3.10/dist-packages/trax/supervised/training.py:1249: FutureWarning: GzipFile was opened for writing, but this will change in future Python releases.  Specify the mode argument for opening it for writing.\n",
            "  with gzip_lib.GzipFile(fileobj=f, compresslevel=2) as gzipf:\n",
            "/usr/local/lib/python3.10/dist-packages/trax/layers/base.py:851: FutureWarning: GzipFile was opened for writing, but this will change in future Python releases.  Specify the mode argument for opening it for writing.\n",
            "  with gzip.GzipFile(fileobj=f, compresslevel=compresslevel) as gzipf:\n"
          ]
        },
        {
          "output_type": "stream",
          "name": "stdout",
          "text": [
            "\n",
            "Step     70: Ran 10 train steps in 1.36 secs\n",
            "Step     70: train CrossEntropyLoss |  0.04714245\n",
            "Step     70: eval  CrossEntropyLoss |  0.00758124\n",
            "Step     70: eval          Accuracy |  1.00000000\n"
          ]
        },
        {
          "output_type": "stream",
          "name": "stderr",
          "text": [
            "/usr/local/lib/python3.10/dist-packages/trax/supervised/training.py:1249: FutureWarning: GzipFile was opened for writing, but this will change in future Python releases.  Specify the mode argument for opening it for writing.\n",
            "  with gzip_lib.GzipFile(fileobj=f, compresslevel=2) as gzipf:\n"
          ]
        },
        {
          "output_type": "stream",
          "name": "stdout",
          "text": [
            "\n",
            "Step     80: Ran 10 train steps in 1.02 secs\n",
            "Step     80: train CrossEntropyLoss |  0.05294477\n",
            "Step     80: eval  CrossEntropyLoss |  0.00273351\n",
            "Step     80: eval          Accuracy |  1.00000000\n"
          ]
        },
        {
          "output_type": "stream",
          "name": "stderr",
          "text": [
            "/usr/local/lib/python3.10/dist-packages/trax/layers/base.py:851: FutureWarning: GzipFile was opened for writing, but this will change in future Python releases.  Specify the mode argument for opening it for writing.\n",
            "  with gzip.GzipFile(fileobj=f, compresslevel=compresslevel) as gzipf:\n"
          ]
        },
        {
          "output_type": "stream",
          "name": "stdout",
          "text": [
            "\n",
            "Step     90: Ran 10 train steps in 1.05 secs\n",
            "Step     90: train CrossEntropyLoss |  0.02801742\n",
            "Step     90: eval  CrossEntropyLoss |  0.00060959\n",
            "Step     90: eval          Accuracy |  1.00000000\n"
          ]
        },
        {
          "output_type": "stream",
          "name": "stderr",
          "text": [
            "/usr/local/lib/python3.10/dist-packages/trax/supervised/training.py:1249: FutureWarning: GzipFile was opened for writing, but this will change in future Python releases.  Specify the mode argument for opening it for writing.\n",
            "  with gzip_lib.GzipFile(fileobj=f, compresslevel=2) as gzipf:\n"
          ]
        },
        {
          "output_type": "stream",
          "name": "stdout",
          "text": [
            "\n",
            "Step    100: Ran 10 train steps in 1.10 secs\n",
            "Step    100: train CrossEntropyLoss |  0.01099573\n",
            "Step    100: eval  CrossEntropyLoss |  0.00006707\n",
            "Step    100: eval          Accuracy |  1.00000000\n"
          ]
        }
      ],
      "source": [
        "training_loop = train_model(classifier, train_task, eval_task, 100, output_dir_expand)\n",
        "\n"
      ]
    },
    {
      "cell_type": "markdown",
      "metadata": {
        "id": "Wxn24gyx1Xpd"
      },
      "source": [
        "##### Expected output (Approximately)\n",
        "```CPP\n",
        "Step      1: train CrossEntropyLoss |  0.88939196\n",
        "Step      1: eval  CrossEntropyLoss |  0.68833977\n",
        "Step      1: eval          Accuracy |  0.50000000\n",
        "Step     10: train CrossEntropyLoss |  0.61036736\n",
        "Step     10: eval  CrossEntropyLoss |  0.52182281\n",
        "Step     10: eval          Accuracy |  0.68750000\n",
        "Step     20: train CrossEntropyLoss |  0.34137666\n",
        "Step     20: eval  CrossEntropyLoss |  0.20654774\n",
        "Step     20: eval          Accuracy |  1.00000000\n",
        "Step     30: train CrossEntropyLoss |  0.20208922\n",
        "Step     30: eval  CrossEntropyLoss |  0.21594886\n",
        "Step     30: eval          Accuracy |  0.93750000\n",
        "Step     40: train CrossEntropyLoss |  0.19611198\n",
        "Step     40: eval  CrossEntropyLoss |  0.17582777\n",
        "Step     40: eval          Accuracy |  1.00000000\n",
        "Step     50: train CrossEntropyLoss |  0.11203773\n",
        "Step     50: eval  CrossEntropyLoss |  0.07589275\n",
        "Step     50: eval          Accuracy |  1.00000000\n",
        "Step     60: train CrossEntropyLoss |  0.09375446\n",
        "Step     60: eval  CrossEntropyLoss |  0.09290724\n",
        "Step     60: eval          Accuracy |  1.00000000\n",
        "Step     70: train CrossEntropyLoss |  0.08785903\n",
        "Step     70: eval  CrossEntropyLoss |  0.09610598\n",
        "Step     70: eval          Accuracy |  1.00000000\n",
        "Step     80: train CrossEntropyLoss |  0.08858261\n",
        "Step     80: eval  CrossEntropyLoss |  0.02319432\n",
        "Step     80: eval          Accuracy |  1.00000000\n",
        "Step     90: train CrossEntropyLoss |  0.05699894\n",
        "Step     90: eval  CrossEntropyLoss |  0.01778970\n",
        "Step     90: eval          Accuracy |  1.00000000\n",
        "Step    100: train CrossEntropyLoss |  0.03663783\n",
        "Step    100: eval  CrossEntropyLoss |  0.00210550\n",
        "Step    100: eval          Accuracy |  1.00000000\n",
        "```"
      ]
    },
    {
      "cell_type": "markdown",
      "metadata": {
        "id": "KVMcsw2kjCX9"
      },
      "source": [
        "<a name=\"4.2\"></a>\n",
        "## 4.2  Practice Making a prediction\n",
        "\n",
        "Now that you have trained a model, you can access it as `training_loop.model` object. We will actually use `training_loop.eval_model` and in the next weeks you will learn why we sometimes use a different model for evaluation, e.g., one without dropout. For now, make predictions with your model.\n",
        "\n",
        "Use the training data just to see how the prediction process works.  \n",
        "- Later, you will use validation data to evaluate your model's performance.\n"
      ]
    },
    {
      "cell_type": "code",
      "execution_count": 41,
      "metadata": {
        "id": "WAMgXWY4jCX-",
        "colab": {
          "base_uri": "https://localhost:8080/"
        },
        "outputId": "abf5bbda-76db-4e9e-954b-a56bddfcf24c"
      },
      "outputs": [
        {
          "output_type": "stream",
          "name": "stdout",
          "text": [
            "The batch is a tuple of length 3 because position 0 contains the tweets, and position 1 contains the targets.\n",
            "The shape of the tweet tensors is (16, 15) (num of examples, length of tweet tensors)\n",
            "The shape of the labels is (16,), which is the batch size.\n",
            "The shape of the example_weights is (16,), which is the same as inputs/targets size.\n"
          ]
        }
      ],
      "source": [
        "# Create a generator object\n",
        "tmp_train_generator = train_generator(16)\n",
        "\n",
        "# get one batch\n",
        "tmp_batch = next(tmp_train_generator)\n",
        "\n",
        "# Position 0 has the model inputs (tweets as tensors)\n",
        "# position 1 has the targets (the actual labels)\n",
        "tmp_inputs, tmp_targets, tmp_example_weights = tmp_batch\n",
        "\n",
        "print(f\"The batch is a tuple of length {len(tmp_batch)} because position 0 contains the tweets, and position 1 contains the targets.\")\n",
        "print(f\"The shape of the tweet tensors is {tmp_inputs.shape} (num of examples, length of tweet tensors)\")\n",
        "print(f\"The shape of the labels is {tmp_targets.shape}, which is the batch size.\")\n",
        "print(f\"The shape of the example_weights is {tmp_example_weights.shape}, which is the same as inputs/targets size.\")"
      ]
    },
    {
      "cell_type": "code",
      "execution_count": 42,
      "metadata": {
        "id": "5XoxD6u5jCX_",
        "colab": {
          "base_uri": "https://localhost:8080/"
        },
        "outputId": "49698cbc-47f5-4ad6-b6ce-b81f5298a02a"
      },
      "outputs": [
        {
          "output_type": "stream",
          "name": "stdout",
          "text": [
            "The prediction shape is (16, 2), num of tensor_tweets as rows\n",
            "Column 0 is the probability of a negative sentiment (class 0)\n",
            "Column 1 is the probability of a positive sentiment (class 1)\n",
            "\n",
            "View the prediction array\n"
          ]
        },
        {
          "output_type": "execute_result",
          "data": {
            "text/plain": [
              "Array([[-8.4753857e+00, -2.0837784e-04],\n",
              "       [-9.3930779e+00, -8.3446503e-05],\n",
              "       [-8.5545292e+00, -1.9264221e-04],\n",
              "       [-8.5200100e+00, -1.9931793e-04],\n",
              "       [-6.5448418e+00, -1.4386177e-03],\n",
              "       [-7.9216700e+00, -3.6287308e-04],\n",
              "       [-8.5317059e+00, -1.9693375e-04],\n",
              "       [-4.6924820e+00, -9.2060566e-03],\n",
              "       [-2.6967525e-03, -5.9170365e+00],\n",
              "       [-2.9115677e-03, -5.8405361e+00],\n",
              "       [-3.9339066e-04, -7.8412409e+00],\n",
              "       [-4.7683716e-07, -1.4824709e+01],\n",
              "       [-9.4709396e-03, -4.6642652e+00],\n",
              "       [-1.3389587e-03, -6.6165810e+00],\n",
              "       [-2.5162697e-03, -5.9862528e+00],\n",
              "       [-5.7220459e-04, -7.4662185e+00]], dtype=float32)"
            ]
          },
          "metadata": {},
          "execution_count": 42
        }
      ],
      "source": [
        "# feed the tweet tensors into the model to get a prediction\n",
        "# training_loop = train_model(model, train_task, eval_task, 100, output_dir_expand)\n",
        "tmp_pred = training_loop.eval_model(tmp_inputs)\n",
        "print(f\"The prediction shape is {tmp_pred.shape}, num of tensor_tweets as rows\")\n",
        "print(\"Column 0 is the probability of a negative sentiment (class 0)\")\n",
        "print(\"Column 1 is the probability of a positive sentiment (class 1)\")\n",
        "print()\n",
        "print(\"View the prediction array\")\n",
        "tmp_pred"
      ]
    },
    {
      "cell_type": "markdown",
      "metadata": {
        "id": "0aJpFcyljCYB"
      },
      "source": [
        "To turn these probabilities into categories (negative or positive sentiment prediction), for each row:\n",
        "- Compare the probabilities in each column.\n",
        "- If column 1 has a value greater than column 0, classify that as a positive tweet.\n",
        "- Otherwise if column 1 is less than or equal to column 0, classify that example as a negative tweet."
      ]
    },
    {
      "cell_type": "code",
      "execution_count": 43,
      "metadata": {
        "id": "6wJHv0TNjCYC",
        "colab": {
          "base_uri": "https://localhost:8080/"
        },
        "outputId": "f2c11d0c-fa57-4307-f9ca-465e38821422"
      },
      "outputs": [
        {
          "output_type": "stream",
          "name": "stdout",
          "text": [
            "Neg log prob -8.4754\tPos log prob -0.0002\t is positive? True\t actual 1\n",
            "Neg log prob -9.3931\tPos log prob -0.0001\t is positive? True\t actual 1\n",
            "Neg log prob -8.5545\tPos log prob -0.0002\t is positive? True\t actual 1\n",
            "Neg log prob -8.5200\tPos log prob -0.0002\t is positive? True\t actual 1\n",
            "Neg log prob -6.5448\tPos log prob -0.0014\t is positive? True\t actual 1\n",
            "Neg log prob -7.9217\tPos log prob -0.0004\t is positive? True\t actual 1\n",
            "Neg log prob -8.5317\tPos log prob -0.0002\t is positive? True\t actual 1\n",
            "Neg log prob -4.6925\tPos log prob -0.0092\t is positive? True\t actual 1\n",
            "Neg log prob -0.0027\tPos log prob -5.9170\t is positive? False\t actual 0\n",
            "Neg log prob -0.0029\tPos log prob -5.8405\t is positive? False\t actual 0\n",
            "Neg log prob -0.0004\tPos log prob -7.8412\t is positive? False\t actual 0\n",
            "Neg log prob -0.0000\tPos log prob -14.8247\t is positive? False\t actual 0\n",
            "Neg log prob -0.0095\tPos log prob -4.6643\t is positive? False\t actual 0\n",
            "Neg log prob -0.0013\tPos log prob -6.6166\t is positive? False\t actual 0\n",
            "Neg log prob -0.0025\tPos log prob -5.9863\t is positive? False\t actual 0\n",
            "Neg log prob -0.0006\tPos log prob -7.4662\t is positive? False\t actual 0\n"
          ]
        }
      ],
      "source": [
        "# turn probabilites into category predictions\n",
        "tmp_is_positive = tmp_pred[:,1] > tmp_pred[:,0]\n",
        "for i, p in enumerate(tmp_is_positive):\n",
        "    print(f\"Neg log prob {tmp_pred[i,0]:.4f}\\tPos log prob {tmp_pred[i,1]:.4f}\\t is positive? {p}\\t actual {tmp_targets[i]}\")"
      ]
    },
    {
      "cell_type": "markdown",
      "metadata": {
        "id": "TywSi02cjCYF"
      },
      "source": [
        "Notice that since you are making a prediction using a training batch, it's more likely that the model's predictions match the actual targets (labels).  \n",
        "- Every prediction that the tweet is positive is also matching the actual target of 1 (positive sentiment).\n",
        "- Similarly, all predictions that the sentiment is not positive matches the actual target of 0 (negative sentiment)"
      ]
    },
    {
      "cell_type": "markdown",
      "metadata": {
        "id": "N6X_0K_EjCYF"
      },
      "source": [
        "One more useful thing to know is how to compare if the prediction is matching the actual target (label).  \n",
        "- The result of calculation `is_positive` is a boolean.\n",
        "- The target is a type trax.fastmath.numpy.int32\n",
        "- If you expect to be doing division, you may prefer to work with decimal numbers with the data type type trax.fastmath.numpy.int32"
      ]
    },
    {
      "cell_type": "code",
      "execution_count": 44,
      "metadata": {
        "id": "CQgx_ar9jCYG",
        "colab": {
          "base_uri": "https://localhost:8080/",
          "height": 139
        },
        "outputId": "44d144e2-6aed-4a88-9cea-22c0727e370d"
      },
      "outputs": [
        {
          "output_type": "stream",
          "name": "stdout",
          "text": [
            "Array of booleans\n"
          ]
        },
        {
          "output_type": "display_data",
          "data": {
            "text/plain": [
              "Array([ True,  True,  True,  True,  True,  True,  True,  True, False,\n",
              "       False, False, False, False, False, False, False], dtype=bool)"
            ]
          },
          "metadata": {}
        },
        {
          "output_type": "stream",
          "name": "stdout",
          "text": [
            "Array of integers\n"
          ]
        },
        {
          "output_type": "display_data",
          "data": {
            "text/plain": [
              "Array([1, 1, 1, 1, 1, 1, 1, 1, 0, 0, 0, 0, 0, 0, 0, 0], dtype=int32)"
            ]
          },
          "metadata": {}
        },
        {
          "output_type": "stream",
          "name": "stdout",
          "text": [
            "Array of floats\n"
          ]
        },
        {
          "output_type": "display_data",
          "data": {
            "text/plain": [
              "Array([1., 1., 1., 1., 1., 1., 1., 1., 0., 0., 0., 0., 0., 0., 0., 0.],      dtype=float32)"
            ]
          },
          "metadata": {}
        }
      ],
      "source": [
        "# View the array of booleans\n",
        "print(\"Array of booleans\")\n",
        "display(tmp_is_positive)\n",
        "\n",
        "# convert boolean to type int32\n",
        "# True is converted to 1\n",
        "# False is converted to 0\n",
        "tmp_is_positive_int = tmp_is_positive.astype(np.int32)\n",
        "\n",
        "\n",
        "# View the array of integers\n",
        "print(\"Array of integers\")\n",
        "display(tmp_is_positive_int)\n",
        "\n",
        "# convert boolean to type float32\n",
        "tmp_is_positive_float = tmp_is_positive.astype(np.float32)\n",
        "\n",
        "# View the array of floats\n",
        "print(\"Array of floats\")\n",
        "display(tmp_is_positive_float)"
      ]
    },
    {
      "cell_type": "code",
      "execution_count": 45,
      "metadata": {
        "id": "O_GmTvaTjCYH",
        "colab": {
          "base_uri": "https://localhost:8080/"
        },
        "outputId": "d8343000-bc29-4fe0-c5b8-fa9b2ba325b7"
      },
      "outputs": [
        {
          "output_type": "execute_result",
          "data": {
            "text/plain": [
              "(16, 2)"
            ]
          },
          "metadata": {},
          "execution_count": 45
        }
      ],
      "source": [
        "tmp_pred.shape"
      ]
    },
    {
      "cell_type": "markdown",
      "metadata": {
        "id": "8gJ3n4UljCYJ"
      },
      "source": [
        "Note that Python usually does type conversion for you when you compare a boolean to an integer\n",
        "- True compared to 1 is True, otherwise any other integer is False.\n",
        "- False compared to 0 is True, otherwise any ohter integer is False."
      ]
    },
    {
      "cell_type": "code",
      "execution_count": 46,
      "metadata": {
        "id": "GbKFCf0njCYJ",
        "colab": {
          "base_uri": "https://localhost:8080/"
        },
        "outputId": "18e08cd4-7739-460d-9e8f-56eb96bff8fc"
      },
      "outputs": [
        {
          "output_type": "stream",
          "name": "stdout",
          "text": [
            "True == 1: True\n",
            "True == 2: False\n",
            "False == 0: True\n",
            "False == 2: False\n"
          ]
        }
      ],
      "source": [
        "print(f\"True == 1: {True == 1}\")\n",
        "print(f\"True == 2: {True == 2}\")\n",
        "print(f\"False == 0: {False == 0}\")\n",
        "print(f\"False == 2: {False == 2}\")"
      ]
    },
    {
      "cell_type": "markdown",
      "metadata": {
        "id": "Jh5XfviCjCYK"
      },
      "source": [
        "However, we recommend that you keep track of the data type of your variables to avoid unexpected outcomes.  So it helps to convert the booleans into integers\n",
        "- Compare 1 to 1 rather than comparing True to 1."
      ]
    },
    {
      "cell_type": "markdown",
      "metadata": {
        "id": "37PNk6IzjCYL"
      },
      "source": [
        "Hopefully you are now familiar with what kinds of inputs and outputs the model uses when making a prediction.\n",
        "- This will help you implement a function that estimates the accuracy of the model's predictions."
      ]
    },
    {
      "cell_type": "markdown",
      "metadata": {
        "id": "fRRrgOHJgrhI"
      },
      "source": [
        "<a name=\"5\"></a>\n",
        "# Part 5:  Evaluation  \n",
        "\n",
        "<a name=\"5.1\"></a>\n",
        "## 5.1  Computing the accuracy on a batch\n",
        "\n",
        "You will now write a function that evaluates your model on the validation set and returns the accuracy.\n",
        "- `preds` contains the predictions.\n",
        "    - Its dimensions are `(batch_size, output_dim)`.  `output_dim` is two in this case.  Column 0 contains the probability that the tweet belongs to class 0 (negative sentiment). Column 1 contains probability that it belongs to class 1 (positive sentiment).\n",
        "    - If the probability in column 1 is greater than the probability in column 0, then interpret this as the model's prediction that the example has label 1 (positive sentiment).  \n",
        "    - Otherwise, if the probabilities are equal or the probability in column 0 is higher, the model's prediction is 0 (negative sentiment).\n",
        "- `y` contains the actual labels.\n",
        "- `y_weights` contains the weights to give to predictions."
      ]
    },
    {
      "cell_type": "markdown",
      "metadata": {
        "id": "2hdfk3LEjCYL"
      },
      "source": [
        "<a name=\"ex07\"></a>\n",
        "### Exercise 07\n",
        "Implement `compute_accuracy`."
      ]
    },
    {
      "cell_type": "code",
      "execution_count": 81,
      "metadata": {
        "id": "WBqaN5f9grhJ"
      },
      "outputs": [],
      "source": [
        "# UNQ_C7 (UNIQUE CELL IDENTIFIER, DO NOT EDIT)\n",
        "# GRADED FUNCTION: compute_accuracy\n",
        "def compute_accuracy(preds, y, y_weights):\n",
        "    \"\"\"\n",
        "    Input:\n",
        "        preds: a tensor of shape (dim_batch, output_dim)\n",
        "        y: a tensor of shape (dim_batch, output_dim) with the true labels\n",
        "        y_weights: a n.ndarray with the a weight for each example\n",
        "    Output:\n",
        "        accuracy: a float between 0-1\n",
        "        weighted_num_correct (np.float32): Sum of the weighted correct predictions\n",
        "        sum_weights (np.float32): Sum of the weights\n",
        "    \"\"\"\n",
        "    ### START CODE HERE (Replace instances of 'None' with your code) ###\n",
        "    # Create an array of booleans,\n",
        "    # True if the probability of positive sentiment is greater than\n",
        "    # the probability of negative sentiment\n",
        "    # else False\n",
        "    #if len(preds.shape) == 2:\n",
        "    is_pos = preds[:, 1] > preds[:, 0]\n",
        "    # else:\n",
        "    #     is_pos = preds > 0.5\n",
        "\n",
        "    # convert the array of booleans into an array of np.int32\n",
        "    is_pos_int = is_pos.astype(np.int32)\n",
        "\n",
        "    # compare the array of predictions (as int32) with the target (labels) of type int32\n",
        "    correct = is_pos_int == y\n",
        "\n",
        "    # Count the sum of the weights.\n",
        "    sum_weights = np.sum(y_weights)\n",
        "\n",
        "    # convert the array of correct predictions (boolean) into an arrayof np.float32\n",
        "    correct_float = correct.astype(np.float32)\n",
        "\n",
        "    # Multiply each prediction with its corresponding weight.\n",
        "    weighted_correct_float = correct_float * y_weights\n",
        "\n",
        "    # Sum up the weighted correct predictions (of type np.float32), to go in the\n",
        "    # denominator.\n",
        "    weighted_num_correct = np.sum(weighted_correct_float)\n",
        "\n",
        "    # Divide the number of weighted correct predictions by the sum of the\n",
        "    # weights.\n",
        "    accuracy = weighted_num_correct / sum_weights\n",
        "\n",
        "    ### END CODE HERE ###\n",
        "    return accuracy, weighted_num_correct, sum_weights"
      ]
    },
    {
      "cell_type": "code",
      "execution_count": 82,
      "metadata": {
        "id": "1c7ZOeO0jCYN",
        "colab": {
          "base_uri": "https://localhost:8080/"
        },
        "outputId": "ce48bf55-d34f-413e-f349-25670a9e2bd5"
      },
      "outputs": [
        {
          "output_type": "stream",
          "name": "stdout",
          "text": [
            "Model's prediction accuracy on a single training batch is: 100.0%\n",
            "Weighted number of correct predictions 64.0; weighted number of total observations predicted 64\n"
          ]
        }
      ],
      "source": [
        "# test your function\n",
        "tmp_val_generator = val_generator(64)\n",
        "\n",
        "# get one batch\n",
        "tmp_batch = next(tmp_val_generator)\n",
        "\n",
        "# Position 0 has the model inputs (tweets as tensors)\n",
        "# position 1 has the targets (the actual labels)\n",
        "tmp_inputs, tmp_targets, tmp_example_weights = tmp_batch\n",
        "\n",
        "# feed the tweet tensors into the model to get a prediction\n",
        "tmp_pred = training_loop.eval_model(tmp_inputs)\n",
        "\n",
        "tmp_acc, tmp_num_correct, tmp_num_predictions = compute_accuracy(preds=tmp_pred, y=tmp_targets, y_weights=tmp_example_weights)\n",
        "\n",
        "print(f\"Model's prediction accuracy on a single training batch is: {100 * tmp_acc}%\")\n",
        "print(f\"Weighted number of correct predictions {tmp_num_correct}; weighted number of total observations predicted {tmp_num_predictions}\")"
      ]
    },
    {
      "cell_type": "markdown",
      "metadata": {
        "id": "h2ep7nNejCYP"
      },
      "source": [
        "##### Expected output (Approximately)\n",
        "\n",
        "```\n",
        "Model's prediction accuracy on a single training batch is: 100.0%\n",
        "Weighted number of correct predictions 64.0; weighted number of total observations predicted 64\n",
        "```"
      ]
    },
    {
      "cell_type": "markdown",
      "metadata": {
        "id": "dqle69F1grhM"
      },
      "source": [
        "<a name=\"5.2\"></a>\n",
        "## 5.2  Testing your model on Validation Data\n",
        "\n",
        "Now you will write test your model's prediction accuracy on validation data.\n",
        "\n",
        "This program will take in a data generator and your model.\n",
        "- The generator allows you to get batches of data. You can use it with a `for` loop:\n",
        "\n",
        "```\n",
        "for batch in iterator:\n",
        "   # do something with that batch\n",
        "```\n",
        "\n",
        "`batch` has dimensions `(X, Y, weights)`.\n",
        "- Column 0 corresponds to the tweet as a tensor (input).\n",
        "- Column 1 corresponds to its target (actual label, positive or negative sentiment).\n",
        "- Column 2 corresponds to the weights associated (example weights)\n",
        "- You can feed the tweet into model and it will return the predictions for the batch.\n"
      ]
    },
    {
      "cell_type": "markdown",
      "metadata": {
        "id": "1zwYl_f9jCYP"
      },
      "source": [
        "<a name=\"ex08\"></a>\n",
        "### Exercise 08\n",
        "\n",
        "**Instructions:**\n",
        "- Compute the accuracy over all the batches in the validation iterator.\n",
        "- Make use of `compute_accuracy`, which you recently implemented, and return the overall accuracy."
      ]
    },
    {
      "cell_type": "code",
      "execution_count": 85,
      "metadata": {
        "id": "HKoTad4ggrhN",
        "colab": {
          "base_uri": "https://localhost:8080/"
        },
        "outputId": "5ac733a7-dcc9-473a-d0e0-00e973f169d9"
      },
      "outputs": [
        {
          "output_type": "stream",
          "name": "stderr",
          "text": [
            "/usr/local/lib/python3.10/dist-packages/ipykernel/ipkernel.py:283: DeprecationWarning: `should_run_async` will not call `transform_cell` automatically in the future. Please pass the result to `transformed_cell` argument and any exception that happen during thetransform in `preprocessing_exc_tuple` in IPython 7.17 and above.\n",
            "  and should_run_async(code)\n"
          ]
        }
      ],
      "source": [
        "# UNQ_C8 (UNIQUE CELL IDENTIFIER, DO NOT EDIT)\n",
        "# GRADED FUNCTION: test_model\n",
        "def test_model(generator, model):\n",
        "    '''\n",
        "    Input:\n",
        "        generator: an iterator instance that provides batches of inputs and targets\n",
        "        model: a model instance\n",
        "    Output:\n",
        "        accuracy: float corresponding to the accuracy\n",
        "    '''\n",
        "\n",
        "    accuracy = 0.\n",
        "    total_num_correct = 0\n",
        "    total_num_pred = 0\n",
        "\n",
        "    ### START CODE HERE (Replace instances of 'None' with your code) ###\n",
        "    for batch in generator:\n",
        "\n",
        "        # Retrieve the inputs from the batch\n",
        "        inputs = batch[0]\n",
        "\n",
        "        # Retrieve the targets (actual labels) from the batch\n",
        "        targets = batch[1]\n",
        "\n",
        "        # Retrieve the example weight.\n",
        "        example_weight = batch[2]\n",
        "\n",
        "        # Make predictions using the inputs\n",
        "        pred = model(inputs)\n",
        "\n",
        "        # Calculate accuracy for the batch by comparing its predictions and targets\n",
        "        batch_accuracy, batch_num_correct, batch_num_pred = compute_accuracy(pred, targets, example_weight)\n",
        "\n",
        "        # Update the total number of correct predictions\n",
        "        # by adding the number of correct predictions from this batch\n",
        "        total_num_correct += batch_num_correct\n",
        "\n",
        "        # Update the total number of predictions\n",
        "        # by adding the number of predictions made for the batch\n",
        "        total_num_pred += batch_num_pred\n",
        "\n",
        "    # Calculate accuracy over all examples\n",
        "    accuracy = total_num_correct / total_num_pred\n",
        "\n",
        "    ### END CODE HERE ###\n",
        "    return accuracy"
      ]
    },
    {
      "cell_type": "code",
      "execution_count": 86,
      "metadata": {
        "id": "1Rm_k21XgrhQ",
        "colab": {
          "base_uri": "https://localhost:8080/"
        },
        "outputId": "b70e8323-ad39-480e-e3dd-0c09681a807a"
      },
      "outputs": [
        {
          "output_type": "stream",
          "name": "stdout",
          "text": [
            "The accuracy of your model on the validation set is 0.9940\n"
          ]
        }
      ],
      "source": [
        "# DO NOT EDIT THIS CELL\n",
        "# testing the accuracy of your model: this takes around 20 seconds\n",
        "model = training_loop.eval_model\n",
        "accuracy = test_model(test_generator(16), model)\n",
        "\n",
        "print(f'The accuracy of your model on the validation set is {accuracy:.4f}', )\n"
      ]
    },
    {
      "cell_type": "markdown",
      "metadata": {
        "id": "esUJRMQPgrhS"
      },
      "source": [
        "##### Expected Output (Approximately)\n",
        "\n",
        "```CPP\n",
        "The accuracy of your model on the validation set is 0.9931\n",
        "```"
      ]
    },
    {
      "cell_type": "markdown",
      "metadata": {
        "id": "Mct4P9QZgrhT"
      },
      "source": [
        "<a name=\"6\"></a>\n",
        "# Part 6:  Testing with your own input\n",
        "\n",
        "Finally you will test with your own input. You will see that deepnets are more powerful than the older methods you have used before. Although you go close to 100% accuracy on the first two assignments, the task was way easier."
      ]
    },
    {
      "cell_type": "code",
      "execution_count": 83,
      "metadata": {
        "id": "SUq5cw-xgrhU"
      },
      "outputs": [],
      "source": [
        "# this is used to predict on your own sentnece\n",
        "def predict(sentence):\n",
        "    inputs = np.array(tweet_to_tensor(sentence, vocab_dict=Vocab))\n",
        "\n",
        "    # Batch size 1, add dimension for batch, to work with the model\n",
        "    inputs = inputs[None, :]\n",
        "\n",
        "    # predict with the model\n",
        "    preds_probs = model(inputs)\n",
        "\n",
        "    # Turn probabilities into categories\n",
        "    preds = int(preds_probs[0, 1] > preds_probs[0, 0])\n",
        "\n",
        "    sentiment = \"negative\"\n",
        "    if preds == 1:\n",
        "        sentiment = 'positive'\n",
        "\n",
        "    return preds, sentiment\n"
      ]
    },
    {
      "cell_type": "code",
      "execution_count": 84,
      "metadata": {
        "id": "3RJntC57grhX",
        "colab": {
          "base_uri": "https://localhost:8080/"
        },
        "outputId": "9b73998a-915c-41e5-a7dd-279c35b03a05"
      },
      "outputs": [
        {
          "output_type": "stream",
          "name": "stdout",
          "text": [
            "The sentiment of the sentence \n",
            "***\n",
            "\"It's such a nice day, think i'll be taking Sid to Ramsgate fish and chips for lunch at Peter's fish factory and then the beach maybe\"\n",
            "***\n",
            "is positive.\n",
            "\n",
            "The sentiment of the sentence \n",
            "***\n",
            "\"I hated my day, it was the worst, I'm so sad.\"\n",
            "***\n",
            "is negative.\n"
          ]
        }
      ],
      "source": [
        "# try a positive sentence\n",
        "sentence = \"It's such a nice day, think i'll be taking Sid to Ramsgate fish and chips for lunch at Peter's fish factory and then the beach maybe\"\n",
        "tmp_pred, tmp_sentiment = predict(sentence)\n",
        "print(f\"The sentiment of the sentence \\n***\\n\\\"{sentence}\\\"\\n***\\nis {tmp_sentiment}.\")\n",
        "\n",
        "print()\n",
        "# try a negative sentence\n",
        "sentence = \"I hated my day, it was the worst, I'm so sad.\"\n",
        "tmp_pred, tmp_sentiment = predict(sentence)\n",
        "print(f\"The sentiment of the sentence \\n***\\n\\\"{sentence}\\\"\\n***\\nis {tmp_sentiment}.\")"
      ]
    },
    {
      "cell_type": "markdown",
      "metadata": {
        "id": "nZmGCheXjCYX"
      },
      "source": [
        "Notice that the model works well even for complex sentences."
      ]
    },
    {
      "cell_type": "markdown",
      "metadata": {
        "id": "mNg0fAYIgrhd"
      },
      "source": [
        "### On Deep Nets\n",
        "\n",
        "Deep nets allow you to understand and capture dependencies that you would have not been able to capture with a simple linear regression, or logistic regression.\n",
        "- It also allows you to better use pre-trained embeddings for classification and tends to generalize better."
      ]
    }
  ],
  "metadata": {
    "colab": {
      "provenance": []
    },
    "coursera": {
      "schema_names": [
        "NLPC3-1A"
      ]
    },
    "kernelspec": {
      "display_name": "Python 3 (ipykernel)",
      "language": "python",
      "name": "python3"
    },
    "language_info": {
      "codemirror_mode": {
        "name": "ipython",
        "version": 3
      },
      "file_extension": ".py",
      "mimetype": "text/x-python",
      "name": "python",
      "nbconvert_exporter": "python",
      "pygments_lexer": "ipython3",
      "version": "3.9.7"
    },
    "nbTranslate": {
      "displayLangs": [
        "*"
      ],
      "hotkey": "alt-t",
      "langInMainMenu": true,
      "sourceLang": "en",
      "targetLang": "fr",
      "useGoogleTranslate": true
    },
    "varInspector": {
      "cols": {
        "lenName": 16,
        "lenType": 16,
        "lenVar": 40
      },
      "kernels_config": {
        "python": {
          "delete_cmd_postfix": "",
          "delete_cmd_prefix": "del ",
          "library": "var_list.py",
          "varRefreshCmd": "print(var_dic_list())"
        },
        "r": {
          "delete_cmd_postfix": ") ",
          "delete_cmd_prefix": "rm(",
          "library": "var_list.r",
          "varRefreshCmd": "cat(var_dic_list()) "
        }
      },
      "types_to_exclude": [
        "module",
        "function",
        "builtin_function_or_method",
        "instance",
        "_Feature"
      ],
      "window_display": false
    }
  },
  "nbformat": 4,
  "nbformat_minor": 0
}