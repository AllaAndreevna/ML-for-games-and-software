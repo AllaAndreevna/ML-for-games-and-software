{
  "cells": [
    {
      "cell_type": "markdown",
      "metadata": {
        "id": "C7oVbe_pLr3C"
      },
      "source": [
        "# Assignment 3 - Named Entity Recognition (NER)\n",
        "\n",
        "Welcome to the third programming assignment. In this assignment, you will learn to build more complicated models with Trax. By completing this assignment, you will be able to:\n",
        "\n",
        "- Design the architecture of a neural network, train it, and test it.\n",
        "- Process features and represents them\n",
        "- Understand word padding\n",
        "- Implement LSTMs\n",
        "- Test with your own sentence\n",
        "\n",
        "## Outline\n",
        "- [Introduction](#0)\n",
        "- [Part 1:  Exploring the data](#1)\n",
        "    - [1.1  Importing the Data](#1.1)\n",
        "    - [1.2  Data generator](#1.2)\n",
        "\t\t- [Exercise 01](#ex01)\n",
        "- [Part 2:  Building the model](#2)\n",
        "\t- [Exercise 02](#ex02)\n",
        "- [Part 3:  Train the Model ](#3)\n",
        "\t- [Exercise 03](#ex03)\n",
        "- [Part 4:  Compute Accuracy](#4)\n",
        "\t- [Exercise 04](#ex04)\n",
        "- [Part 5:  Testing with your own sentence](#5)\n"
      ]
    },
    {
      "cell_type": "markdown",
      "metadata": {
        "id": "ftT-5-yynCtl"
      },
      "source": [
        "<a name=\"0\"></a>\n",
        "# Introduction\n",
        "\n",
        "We first start by defining named entity recognition (NER). NER is a subtask of information extraction that locates and classifies named entities in a text. The named entities could be organizations, persons, locations, times, etc.\n",
        "\n",
        "For example:\n",
        "\n",
        "<img src = 'ner.png' width=\"width\" height=\"height\" style=\"width:600px;height:150px;\"/>\n",
        "\n",
        "Is labeled as follows:\n",
        "\n",
        "- French: geopolitical entity\n",
        "- Morocco: geographic entity\n",
        "- Christmas: time indicator\n",
        "\n",
        "Everything else that is labeled with an `O` is not considered to be a named entity. In this assignment, you will train a named entity recognition system that could be trained in a few seconds (on a GPU) and will get around 75% accuracy. Then, you will load in the exact version of your model, which was trained for a longer period of time. You could then evaluate the trained version of your model to get 96% accuracy! Finally, you will be able to test your named entity recognition system with your own sentence."
      ]
    },
    {
      "cell_type": "code",
      "execution_count": 1,
      "metadata": {},
      "outputs": [],
      "source": [
        "def get_vocab(vocab_path, tags_path):\n",
        "    vocab = {}\n",
        "    with open(vocab_path, encoding='utf-8') as f:\n",
        "        for i, l in enumerate(f.read().splitlines()):\n",
        "            vocab[l] = i  # to avoid the 0\n",
        "    vocab['<PAD>'] = len(vocab) # 35180\n",
        "    tag_map = {}\n",
        "    with open(tags_path, encoding='utf-8') as f:\n",
        "        for i, t in enumerate(f.read().splitlines()):\n",
        "            tag_map[t] = i \n",
        "    return vocab, tag_map\n",
        "\n",
        "def get_params(vocab, tag_map, sentences_file, labels_file):\n",
        "    sentences = []\n",
        "    labels = []\n",
        "\n",
        "    with open(sentences_file, encoding='utf-8') as f:\n",
        "        for sentence in f.read().splitlines():\n",
        "            s = [vocab[token] if token in vocab \n",
        "                 else vocab['UNK']\n",
        "                 for token in sentence.split(' ')]\n",
        "            sentences.append(s)\n",
        "\n",
        "    with open(labels_file, encoding='utf-8') as f:\n",
        "        for sentence in f.read().splitlines():\n",
        "            l = [tag_map[label] for label in sentence.split(' ')] \n",
        "            labels.append(l) \n",
        "    return sentences, labels, len(sentences)"
      ]
    },
    {
      "cell_type": "code",
      "execution_count": 2,
      "metadata": {
        "id": "JEY_jlQQR9SP",
        "scrolled": true
      },
      "outputs": [],
      "source": [
        "#!pip -q install trax==1.3.1\n",
        "\n",
        "import trax\n",
        "from trax import layers as tl\n",
        "import os\n",
        "import numpy as np\n",
        "import pandas as pd\n",
        "\n",
        "\n",
        "# from utils import get_params, get_vocab\n",
        "import random as rnd\n",
        "\n",
        "# set random seeds to make this notebook easier to replicate\n",
        "# trax.supervised.trainer_lib.init_random_number_generators(33)\n",
        "rnd.seed(31)"
      ]
    },
    {
      "cell_type": "markdown",
      "metadata": {
        "id": "_PpjG5MuLr3F"
      },
      "source": [
        "<a name=\"1\"></a>\n",
        "# Part 1:  Exploring the data\n",
        "\n",
        "We will be using a dataset from Kaggle, which we will preprocess for you. The original data consists of four columns, the sentence number, the word, the part of speech of the word, and the tags.  A few tags you might expect to see are:\n",
        "\n",
        "* geo: geographical entity\n",
        "* org: organization\n",
        "* per: person\n",
        "* gpe: geopolitical entity\n",
        "* tim: time indicator\n",
        "* art: artifact\n",
        "* eve: event\n",
        "* nat: natural phenomenon\n",
        "* O: filler word\n"
      ]
    },
    {
      "cell_type": "code",
      "execution_count": 3,
      "metadata": {
        "id": "-Jur1JnXnCtr",
        "scrolled": true
      },
      "outputs": [
        {
          "name": "stdout",
          "output_type": "stream",
          "text": [
            "SENTENCE: Thousands of demonstrators have marched through London to protest the war in Iraq and demand the withdrawal of British troops from that country .\n",
            "\n",
            "SENTENCE LABEL: O O O O O O B-geo O O O O O B-geo O O O O O B-gpe O O O O O\n",
            "\n",
            "ORIGINAL DATA:\n",
            "     Sentence #           Word  POS Tag\n",
            "0  Sentence: 1      Thousands  NNS   O\n",
            "1          NaN             of   IN   O\n",
            "2          NaN  demonstrators  NNS   O\n",
            "3          NaN           have  VBP   O\n",
            "4          NaN        marched  VBN   O\n"
          ]
        }
      ],
      "source": [
        "# display original kaggle data\n",
        "data = pd.read_csv(\"ner_dataset.csv\", encoding = \"ISO-8859-1\")\n",
        "train_sents = open('data/small/train/sentences.txt', 'r').readline()\n",
        "train_labels = open('data/small/train/labels.txt', 'r').readline()\n",
        "print('SENTENCE:', train_sents)\n",
        "print('SENTENCE LABEL:', train_labels)\n",
        "print('ORIGINAL DATA:\\n', data.head(5))\n",
        "del(data, train_sents, train_labels)"
      ]
    },
    {
      "cell_type": "markdown",
      "metadata": {
        "id": "xoH6yBWVfzTb"
      },
      "source": [
        "<a name=\"1.1\"></a>\n",
        "## 1.1  Importing the Data\n",
        "\n",
        "In this part, we will import the preprocessed data and explore it."
      ]
    },
    {
      "cell_type": "code",
      "execution_count": 4,
      "metadata": {
        "id": "UauHjIKHWC0N",
        "scrolled": true
      },
      "outputs": [],
      "source": [
        "vocab, tag_map = get_vocab('data/large/words.txt', 'data/large/tags.txt')\n",
        "t_sentences, t_labels, t_size = get_params(vocab, tag_map, 'data/large/train/sentences.txt', 'data/large/train/labels.txt')\n",
        "v_sentences, v_labels, v_size = get_params(vocab, tag_map, 'data/large/val/sentences.txt', 'data/large/val/labels.txt')\n",
        "test_sentences, test_labels, test_size = get_params(vocab, tag_map, 'data/large/test/sentences.txt', 'data/large/test/labels.txt')"
      ]
    },
    {
      "cell_type": "markdown",
      "metadata": {
        "id": "mcQi6EmWnCty"
      },
      "source": [
        "`vocab` is a dictionary that translates a word string to a unique number. Given a sentence, you can represent it as an array of numbers translating with this dictionary. The dictionary contains a `<PAD>` token.\n",
        "\n",
        "When training an LSTM using batches, all your input sentences must be the same size. To accomplish this, you set the length of your sentences to a certain number and add the generic `<PAD>` token to fill all the empty spaces."
      ]
    },
    {
      "cell_type": "code",
      "execution_count": 5,
      "metadata": {
        "id": "sm2P8y7zNgdU",
        "scrolled": true
      },
      "outputs": [
        {
          "name": "stdout",
          "output_type": "stream",
          "text": [
            "vocab[\"the\"]: 9\n",
            "padded token: 35180\n"
          ]
        }
      ],
      "source": [
        "# vocab translates from a word to a unique number\n",
        "print('vocab[\"the\"]:', vocab[\"the\"])\n",
        "# Pad token\n",
        "print('padded token:', vocab['<PAD>'])"
      ]
    },
    {
      "cell_type": "markdown",
      "metadata": {
        "id": "IY6BTBjunCt1"
      },
      "source": [
        "The tag_map corresponds to one of the possible tags a word can have. Run the cell below to see the possible classes you will be predicting. The prepositions in the tags mean:\n",
        "* I: Token is inside an entity.\n",
        "* B: Token begins an entity."
      ]
    },
    {
      "cell_type": "code",
      "execution_count": 6,
      "metadata": {
        "id": "ZzMamaPcQXWP",
        "scrolled": true
      },
      "outputs": [
        {
          "name": "stdout",
          "output_type": "stream",
          "text": [
            "{'O': 0, 'B-geo': 1, 'B-gpe': 2, 'B-per': 3, 'I-geo': 4, 'B-org': 5, 'I-org': 6, 'B-tim': 7, 'B-art': 8, 'I-art': 9, 'I-per': 10, 'I-gpe': 11, 'I-tim': 12, 'B-nat': 13, 'B-eve': 14, 'I-eve': 15, 'I-nat': 16}\n"
          ]
        }
      ],
      "source": [
        "print(tag_map)"
      ]
    },
    {
      "cell_type": "markdown",
      "metadata": {
        "id": "3F1sUP_MnCt5"
      },
      "source": [
        "So the coding scheme that tags the entities is a minimal one where B- indicates the first token in a multi-token entity, and I- indicates one in the middle of a multi-token entity. If you had the sentence\n",
        "\n",
        "**\"Sharon flew to Miami on Friday\"**\n",
        "\n",
        "the outputs would look like:\n",
        "\n",
        "```\n",
        "Sharon B-per\n",
        "flew   O\n",
        "to     O\n",
        "Miami  B-geo\n",
        "on     O\n",
        "Friday B-tim\n",
        "```\n",
        "\n",
        "your tags would reflect three tokens beginning with B-, since there are no multi-token entities in the sequence. But if you added Sharon's last name to the sentence:\n",
        "\n",
        "**\"Sharon Floyd flew to Miami on Friday\"**\n",
        "\n",
        "```\n",
        "Sharon B-per\n",
        "Floyd  I-per\n",
        "flew   O\n",
        "to     O\n",
        "Miami  B-geo\n",
        "on     O\n",
        "Friday B-tim\n",
        "```\n",
        "\n",
        "then your tags would change to show first \"Sharon\" as B-per, and \"Floyd\" as I-per, where I- indicates an inner token in a multi-token sequence."
      ]
    },
    {
      "cell_type": "code",
      "execution_count": 7,
      "metadata": {
        "id": "xM9B_Rwxd01i",
        "scrolled": true
      },
      "outputs": [
        {
          "name": "stdout",
          "output_type": "stream",
          "text": [
            "The number of outputs is tag_map 17\n",
            "Num of vocabulary words: 35181\n",
            "The vocab size is 35181\n",
            "The training size is 33570\n",
            "The validation size is 7194\n",
            "An example of the first sentence is [0, 1, 2, 3, 4, 5, 6, 7, 8, 9, 10, 11, 12, 13, 14, 9, 15, 1, 16, 17, 18, 19, 20, 21]\n",
            "An example of its corresponding label is [0, 0, 0, 0, 0, 0, 1, 0, 0, 0, 0, 0, 1, 0, 0, 0, 0, 0, 2, 0, 0, 0, 0, 0]\n"
          ]
        }
      ],
      "source": [
        "# Exploring information about the data\n",
        "print('The number of outputs is tag_map', len(tag_map))\n",
        "# The number of vocabulary tokens (including <PAD>)\n",
        "g_vocab_size = len(vocab)\n",
        "print(f\"Num of vocabulary words: {g_vocab_size}\")\n",
        "print('The vocab size is', len(vocab))\n",
        "print('The training size is', t_size)\n",
        "print('The validation size is', v_size)\n",
        "print('An example of the first sentence is', t_sentences[0])\n",
        "print('An example of its corresponding label is', t_labels[0])"
      ]
    },
    {
      "cell_type": "markdown",
      "metadata": {
        "id": "IPd5a-4_nCt8"
      },
      "source": [
        "So you can see that we have already encoded each sentence into a tensor by converting it into a number. We also have 16 possible classes, as shown in the tag map.\n",
        "\n",
        "\n",
        "<a name=\"1.2\"></a>\n",
        "## 1.2  Data generator\n",
        "\n",
        "In python, a generator is a function that behaves like an iterator. It will return the next item. Here is a [link](https://wiki.python.org/moin/Generators) to review python generators.\n",
        "\n",
        "In many AI applications it is very useful to have a data generator. You will now implement a data generator for our NER application.\n",
        "\n",
        "<a name=\"ex01\"></a>\n",
        "### Exercise 01\n",
        "\n",
        "**Instructions:** Implement a data generator function that takes in `batch_size, x, y, pad, shuffle` where x is a large list of sentences, and y is a list of the tags associated with those sentences and pad is a pad value. Return a subset of those inputs in a tuple of two arrays `(X,Y)`. Each is an array of dimension (`batch_size, max_len`), where `max_len` is the length of the longest sentence *in that batch*. You will pad the X and Y examples with the pad argument. If `shuffle=True`, the data will be traversed in a random form.\n",
        "\n",
        "**Details:**\n",
        "\n",
        "This code as an outer loop  \n",
        "```\n",
        "while True:  \n",
        "...  \n",
        "yield((X,Y))  \n",
        "```\n",
        "\n",
        "Which runs continuously in the fashion of generators, pausing when yielding the next values. We will generate a batch_size output on each pass of this loop.    \n",
        "\n",
        "It has two inner loops.\n",
        "1. The first stores in temporal lists the data samples to be included in the next batch, and finds the maximum length of the sentences contained in it. By adjusting the length to include only the size of the longest sentence in each batch, overall computation is reduced.\n",
        "\n",
        "2. The second loop moves those inputs from the temporal list into NumPy arrays pre-filled with pad values.\n",
        "\n",
        "There are three slightly out of the ordinary features.\n",
        "1. The first is the use of the NumPy `full` function to fill the NumPy arrays with a pad value. See [full function documentation](https://numpy.org/doc/1.18/reference/generated/numpy.full.html).\n",
        "\n",
        "2. The second is tracking the current location in the incoming lists of sentences. Generators variables hold their values between invocations, so we create an `index` variable, initialize to zero, and increment by one for each sample included in a batch. However, we do not use the `index` to access the positions of the list of sentences directly. Instead, we use it to select one index from a list of indexes. In this way, we can change the order in which we traverse our original list, keeping untouched our original list.  \n",
        "\n",
        "3. The third also relates to wrapping. Because `batch_size` and the length of the input lists are not aligned, gathering a batch_size group of inputs may involve wrapping back to the beginning of the input loop. In our approach, it is just enough to reset the `index` to 0. We can re-shuffle the list of indexes to produce different batches each time."
      ]
    },
    {
      "cell_type": "code",
      "execution_count": 8,
      "metadata": {
        "id": "tP7zQC8knCt_",
        "scrolled": true
      },
      "outputs": [],
      "source": [
        "# UNQ_C1 (UNIQUE CELL IDENTIFIER, DO NOT EDIT)\n",
        "# GRADED FUNCTION: data_generator\n",
        "def data_generator(batch_size, x, y, pad, shuffle=False, verbose=False):\n",
        "    '''\n",
        "      Input:\n",
        "        batch_size - integer describing the batch size\n",
        "        x - list containing sentences where words are represented as integers\n",
        "        y - list containing tags associated with the sentences\n",
        "        shuffle - Shuffle the data order\n",
        "        pad - an integer representing a pad character\n",
        "        verbose - Print information during runtime\n",
        "      Output:\n",
        "        a tuple containing 2 elements:\n",
        "        X - np.ndarray of dim (batch_size, max_len) of padded sentences\n",
        "        Y - np.ndarray of dim (batch_size, max_len) of tags associated with the sentences in X\n",
        "    '''\n",
        "\n",
        "    # count the number of lines in data_lines\n",
        "    num_lines = len(x)\n",
        "\n",
        "    # create an array with the indexes of data_lines that can be shuffled\n",
        "    lines_index = [*range(num_lines)]\n",
        "\n",
        "    # shuffle the indexes if shuffle is set to True\n",
        "    if shuffle:\n",
        "        rnd.shuffle(lines_index)\n",
        "\n",
        "    index = 0 # tracks current location in x, y\n",
        "    while True:\n",
        "        buffer_x = [0] * batch_size # Temporal array to store the raw x data for this batch\n",
        "        buffer_y = [0] * batch_size # Temporal array to store the raw y data for this batch\n",
        "\n",
        "  ### START CODE HERE (Replace instances of 'None' with your code) ###\n",
        "\n",
        "        # Copy into the temporal buffers the sentences in x[index : index + batch_size]\n",
        "        # along with their corresponding labels y[index : index + batch_size]\n",
        "        # Find maximum length of sentences in x[index : index + batch_size] for this batch.\n",
        "        # Reset the index if we reach the end of the data set, and shuffle the indexes if needed.\n",
        "        max_len = 0\n",
        "        for i in range(batch_size):\n",
        "             # if the index is greater than or equal to the number of lines in x\n",
        "            if index >= num_lines:\n",
        "                # then reset the index to 0\n",
        "                index = 0\n",
        "                # re-shuffle the indexes if shuffle is set to True\n",
        "                if shuffle:\n",
        "                    rnd.shuffle(lines_index)\n",
        "\n",
        "            # The current position is obtained using `lines_index[index]`\n",
        "            # Store the x value at the current position into the buffer_x\n",
        "            buffer_x[i] = x[lines_index[index]]\n",
        "\n",
        "            # Store the y value at the current position into the buffer_y\n",
        "            buffer_y[i] = y[lines_index[index]]   \n",
        "\n",
        "            lenx = len(buffer_x[i])    #length of current x[]\n",
        "            if lenx > max_len:\n",
        "                max_len = lenx                   #max_len tracks longest x[]\n",
        "\n",
        "            # increment index by one\n",
        "            index += 1\n",
        "\n",
        "\n",
        "        # create X,Y, NumPy arrays of size (batch_size, max_len) 'full' of pad value\n",
        "        X = np.full((batch_size, max_len), pad)\n",
        "        Y = np.full((batch_size, max_len), pad)\n",
        "\n",
        "        # copy values from lists to NumPy arrays. Use the buffered values\n",
        "        for i in range(batch_size):\n",
        "            # get the example (sentence as a tensor)\n",
        "            # in `buffer_x` at the `i` index\n",
        "            x_i = buffer_x[i]\n",
        "\n",
        "            # similarly, get the example's labels\n",
        "            # in `buffer_y` at the `i` index\n",
        "            y_i = buffer_y[i]\n",
        "\n",
        "            # Walk through each word in x_i\n",
        "            for j in range(len(x_i)):\n",
        "                # store the word in x_i at position j into X\n",
        "                X[i, j] = x_i[j]\n",
        "\n",
        "                # store the label in y_i at position j into Y\n",
        "                Y[i, j] = y_i[j]\n",
        "\n",
        "    ### END CODE HERE ###\n",
        "        if verbose: print(\"index=\", index)\n",
        "        yield((X,Y))"
      ]
    },
    {
      "cell_type": "code",
      "execution_count": 9,
      "metadata": {
        "id": "s3fwE3PMhOW4",
        "scrolled": true
      },
      "outputs": [
        {
          "name": "stdout",
          "output_type": "stream",
          "text": [
            "index= 5\n",
            "index= 2\n",
            "(5, 30) (5, 30) (5, 30) (5, 30)\n",
            "[    0     1     2     3     4     5     6     7     8     9    10    11\n",
            "    12    13    14     9    15     1    16    17    18    19    20    21\n",
            " 35180 35180 35180 35180 35180 35180] \n",
            " [    0     0     0     0     0     0     1     0     0     0     0     0\n",
            "     1     0     0     0     0     0     2     0     0     0     0     0\n",
            " 35180 35180 35180 35180 35180 35180]\n"
          ]
        }
      ],
      "source": [
        "batch_size = 5\n",
        "mini_sentences = t_sentences[0: 8]\n",
        "mini_labels = t_labels[0: 8]\n",
        "dg = data_generator(batch_size, mini_sentences, mini_labels, vocab[\"<PAD>\"], shuffle=False, verbose=True)\n",
        "X1, Y1 = next(dg)\n",
        "X2, Y2 = next(dg)\n",
        "print(Y1.shape, X1.shape, Y2.shape, X2.shape)\n",
        "print(X1[0][:], \"\\n\", Y1[0][:])"
      ]
    },
    {
      "cell_type": "markdown",
      "metadata": {
        "id": "W-qWOhFunCuH"
      },
      "source": [
        "**Expected output:**   \n",
        "```\n",
        "index= 5\n",
        "index= 2\n",
        "(5, 30) (5, 30) (5, 30) (5, 30)\n",
        "[    0     1     2     3     4     5     6     7     8     9    10    11\n",
        "    12    13    14     9    15     1    16    17    18    19    20    21\n",
        " 35180 35180 35180 35180 35180 35180]\n",
        " [    0     0     0     0     0     0     1     0     0     0     0     0\n",
        "     1     0     0     0     0     0     2     0     0     0     0     0\n",
        " 35180 35180 35180 35180 35180 35180]  \n",
        "```"
      ]
    },
    {
      "cell_type": "markdown",
      "metadata": {
        "id": "4SWxKhkVLr3P"
      },
      "source": [
        "<a name=\"2\"></a>\n",
        "# Part 2:  Building the model\n",
        "\n",
        "You will now implement the model. You will be using Google's TensorFlow. Your model will be able to distinguish the following:\n",
        "<table>\n",
        "    <tr>\n",
        "        <td>\n",
        "<img src = 'ner1.png' width=\"width\" height=\"height\" style=\"width:500px;height:150px;\"/>\n",
        "        </td>\n",
        "    </tr>\n",
        "</table>\n",
        "\n",
        "The model architecture will be as follows:\n",
        "\n",
        "<img src = 'ner2.png' width=\"width\" height=\"height\" style=\"width:600px;height:250px;\"/>\n",
        "\n",
        "Concretely:\n",
        "\n",
        "* Use the input tensors you built in your data generator\n",
        "* Feed it into an Embedding layer, to produce more semantic entries\n",
        "* Feed it into an LSTM layer\n",
        "* Run the output through a linear layer\n",
        "* Run the result through a log softmax layer to get the predicted class for each word.\n",
        "\n",
        "Good news! We won't make you implement the LSTM unit drawn above. However, we will ask you to build the model.\n",
        "\n",
        "<a name=\"ex02\"></a>\n",
        "### Exercise 02\n",
        "\n",
        "**Instructions:** Implement the initialization step and the forward function of your Named Entity Recognition system.  \n",
        "Please utilize help function e.g. `help(tl.Dense)` for more information on a layer\n",
        "   \n",
        "- [tl.Serial](https://github.com/google/trax/blob/1372b903bb66b0daccee19fd0b1fdf44f659330b/trax/layers/combinators.py#L26): Combinator that applies layers serially (by function composition).\n",
        "    - You can pass in the layers as arguments to `Serial`, separated by commas.\n",
        "    - For example: `tl.Serial(tl.Embeddings(...), tl.Mean(...), tl.Dense(...), tl.LogSoftmax(...))`\n",
        "\n",
        "\n",
        "-  [tl.Embedding](https://github.com/google/trax/blob/1372b903bb66b0daccee19fd0b1fdf44f659330b/trax/layers/core.py#L113): Initializes the embedding. In this case it is the dimension of the model by the size of the vocabulary.\n",
        "    - `tl.Embedding(vocab_size, d_feature)`.\n",
        "    - `vocab_size` is the number of unique words in the given vocabulary.\n",
        "    - `d_feature` is the number of elements in the word embedding (some choices for a word embedding size range from 150 to 300, for example).\n",
        "    \n",
        "\n",
        "-  [tl.LSTM](https://github.com/google/trax/blob/1372b903bb66b0daccee19fd0b1fdf44f659330b/trax/layers/rnn.py#L87):`Trax` LSTM layer of size d_model.\n",
        "    - `LSTM(n_units)` Builds an LSTM layer of n_cells.\n",
        "\n",
        "\n",
        "\n",
        "-  [tl.Dense](https://github.com/google/trax/blob/1372b903bb66b0daccee19fd0b1fdf44f659330b/trax/layers/core.py#L28):  A dense layer.\n",
        "    - `tl.Dense(n_units)`: The parameter `n_units` is the number of units chosen for this dense layer.  \n",
        "\n",
        "\n",
        "- [tl.LogSoftmax](https://github.com/google/trax/blob/1372b903bb66b0daccee19fd0b1fdf44f659330b/trax/layers/core.py#L242): Log of the output probabilities.\n",
        "    - Here, you don't need to set any parameters for `LogSoftMax()`.\n",
        "\n",
        "\n",
        "**Online documentation**\n",
        "\n",
        "- [tl.Serial](https://trax-ml.readthedocs.io/en/latest/trax.layers.html#module-trax.layers.combinators)\n",
        "\n",
        "- [tl.Embedding](https://trax-ml.readthedocs.io/en/latest/trax.layers.html#trax.layers.core.Embedding)\n",
        "\n",
        "-  [tl.LSTM](https://trax-ml.readthedocs.io/en/latest/trax.layers.html#trax.layers.rnn.LSTM)\n",
        "\n",
        "-  [tl.Dense](https://trax-ml.readthedocs.io/en/latest/trax.layers.html#trax.layers.core.Dense)\n",
        "\n",
        "- [tl.LogSoftmax](https://trax-ml.readthedocs.io/en/latest/trax.layers.html#trax.layers.core.LogSoftmax)    "
      ]
    },
    {
      "cell_type": "code",
      "execution_count": 10,
      "metadata": {
        "id": "vL5u72u8Lr3Q",
        "scrolled": true
      },
      "outputs": [],
      "source": [
        "# UNQ_C2 (UNIQUE CELL IDENTIFIER, DO NOT EDIT)\n",
        "# GRADED FUNCTION: NER\n",
        "def NER(vocab_size=35181, d_model=50, tags=tag_map):\n",
        "    '''\n",
        "      Input:\n",
        "        vocab_size - integer containing the size of the vocabulary\n",
        "        d_model - integer describing the embedding size\n",
        "      Output:\n",
        "        model - a trax serial model\n",
        "    '''\n",
        "    ### START CODE HERE (Replace instances of 'None' with your code) ###\n",
        "    model = tl.Serial(\n",
        "      tl.Embedding(vocab_size, d_model), # Embedding layer\n",
        "      tl.LSTM(d_model), # LSTM layer\n",
        "      tl.Dense(len(tags)), # Dense layer with len(tags) units\n",
        "      tl.LogSoftmax() # LogSoftmax layer\n",
        "      )\n",
        "      ### END CODE HERE ###\n",
        "    return model"
      ]
    },
    {
      "cell_type": "code",
      "execution_count": 11,
      "metadata": {
        "id": "BrGdYpPvLr3U",
        "scrolled": true
      },
      "outputs": [
        {
          "name": "stdout",
          "output_type": "stream",
          "text": [
            "Serial[\n",
            "  Embedding_35181_50\n",
            "  LSTM_50\n",
            "  Dense_17\n",
            "  LogSoftmax\n",
            "]\n"
          ]
        }
      ],
      "source": [
        "# initializing your model\n",
        "model = NER()\n",
        "# display your model\n",
        "print(model)"
      ]
    },
    {
      "cell_type": "markdown",
      "metadata": {
        "id": "p636VCSanCuS"
      },
      "source": [
        "**Expected output:**  \n",
        "```\n",
        "Serial[\n",
        "  Embedding_35181_50\n",
        "  LSTM_50\n",
        "  Dense_17\n",
        "  LogSoftmax\n",
        "]\n",
        "```  \n"
      ]
    },
    {
      "cell_type": "markdown",
      "metadata": {
        "id": "4LkjXxxhLr3Z"
      },
      "source": [
        "<a name=\"3\"></a>\n",
        "# Part 3:  Train the Model\n",
        "\n",
        "This section will train your model.\n",
        "\n",
        "Before you start, you need to create the data generators for training and validation data. It is important that you mask padding in the loss weights of your data, which can be done using the `id_to_mask` argument of `trax.supervised.inputs.add_loss_weights`."
      ]
    },
    {
      "cell_type": "code",
      "execution_count": 12,
      "metadata": {
        "id": "lPBR1YrRmEAH",
        "scrolled": true
      },
      "outputs": [],
      "source": [
        "from trax.supervised import training\n",
        "\n",
        "rnd.seed(33)\n",
        "\n",
        "batch_size = 64\n",
        "\n",
        "# Create training data, mask pad id=35180 for training.\n",
        "train_generator = trax.data.inputs.add_loss_weights(\n",
        "    data_generator(batch_size, t_sentences, t_labels, vocab['<PAD>'], True),\n",
        "    id_to_mask=vocab['<PAD>'])\n",
        "\n",
        "# Create validation data, mask pad id=35180 for training.\n",
        "eval_generator = trax.data.inputs.add_loss_weights(\n",
        "    data_generator(batch_size, v_sentences, v_labels, vocab['<PAD>'], True),\n",
        "    id_to_mask=vocab['<PAD>'])"
      ]
    },
    {
      "cell_type": "markdown",
      "metadata": {
        "id": "-SdkBrFVnCuV"
      },
      "source": [
        "<a name='3.1'></a>\n",
        "### 3.1 Training the model\n",
        "\n",
        "You will now write a function that takes in your model and trains it.\n",
        "\n",
        "As you've seen in the previous assignments, you will first create the [TrainTask](https://trax-ml.readthedocs.io/en/stable/trax.supervised.html#trax.supervised.training.TrainTask) and [EvalTask](https://trax-ml.readthedocs.io/en/stable/trax.supervised.html#trax.supervised.training.EvalTask) using your data generator. Then you will use the `training.Loop` to train your model.\n",
        "\n",
        "<a name=\"ex03\"></a>\n",
        "### Exercise 03\n",
        "\n",
        "**Instructions:** Implement the `train_model` program below to train the neural network above. Here is a list of things you should do:\n",
        "- Create the trainer object by calling [`trax.supervised.training.Loop`](https://trax-ml.readthedocs.io/en/latest/trax.supervised.html#trax.supervised.training.Loop) and pass in the following:\n",
        "\n",
        "    - model = [NER](#ex02)\n",
        "    - [training task](https://trax-ml.readthedocs.io/en/latest/trax.supervised.html#trax.supervised.training.TrainTask) that uses the train data generator defined in the cell above\n",
        "        - loss_layer = [tl.CrossEntropyLoss()](https://github.com/google/trax/blob/22765bb18608d376d8cd660f9865760e4ff489cd/trax/layers/metrics.py#L71)\n",
        "        - optimizer = [trax.optimizers.Adam(0.01)](https://github.com/google/trax/blob/03cb32995e83fc1455b0c8d1c81a14e894d0b7e3/trax/optimizers/adam.py#L23)\n",
        "    - [evaluation task](https://trax-ml.readthedocs.io/en/latest/trax.supervised.html#trax.supervised.training.EvalTask) that uses the validation data generator defined in the cell above\n",
        "        - metrics for `EvalTask`: `tl.CrossEntropyLoss()` and `tl.Accuracy()`\n",
        "        - in `EvalTask` set `n_eval_batches=10` for better evaluation accuracy\n",
        "    - output_dir = output_dir\n",
        "\n",
        "You'll be using a [cross entropy loss](https://trax-ml.readthedocs.io/en/latest/trax.layers.html#trax.layers.metrics.CrossEntropyLoss), with an [Adam optimizer](https://trax-ml.readthedocs.io/en/latest/trax.optimizers.html#trax.optimizers.adam.Adam). Please read the [trax](https://trax-ml.readthedocs.io/en/latest/trax.html) documentation to get a full understanding. The [trax GitHub](https://github.com/google/trax) also contains some useful information and a link to a colab notebook."
      ]
    },
    {
      "cell_type": "code",
      "execution_count": 25,
      "metadata": {
        "id": "WV27PerULr3a",
        "scrolled": true
      },
      "outputs": [],
      "source": [
        "# UNQ_C3 (UNIQUE CELL IDENTIFIER, DO NOT EDIT)\n",
        "# GRADED FUNCTION: train_model\n",
        "def train_model(NER, train_generator, eval_generator, train_steps=1, output_dir='model'):\n",
        "    '''\n",
        "    Input:\n",
        "        NER - the model you are building\n",
        "        train_generator - The data generator for training examples\n",
        "        eval_generator - The data generator for validation examples,\n",
        "        train_steps - number of training steps\n",
        "        output_dir - folder to save your model\n",
        "    Output:\n",
        "        training_loop - a trax supervised training Loop\n",
        "    '''\n",
        "    ### START CODE HERE (Replace instances of 'None' with your code) ###\n",
        "    train_task = training.TrainTask(\n",
        "      train_generator, # A train data generator\n",
        "      loss_layer = tl.CrossEntropyLoss(), # A cross-entropy loss function\n",
        "      optimizer = trax.optimizers.Adam(0.01),  # The adam optimizer\n",
        "    )\n",
        "\n",
        "    eval_task = training.EvalTask(\n",
        "      labeled_data = eval_generator, # A labeled data generator\n",
        "      metrics = [tl.CrossEntropyLoss(), tl.Accuracy()], # Evaluate with cross-entropy loss and accuracy\n",
        "      n_eval_batches = 10 # Number of batches to use on each evaluation\n",
        "    )\n",
        "\n",
        "    training_loop = training.Loop(\n",
        "        NER, # A model to train\n",
        "        train_task, # A train task\n",
        "        eval_tasks = eval_task, # The evaluation task\n",
        "        output_dir = output_dir\n",
        "        ) # The output directory\n",
        "\n",
        "    # Train with train_steps\n",
        "    training_loop.run(n_steps = train_steps)\n",
        "    ### END CODE HERE ###\n",
        "    return training_loop"
      ]
    },
    {
      "cell_type": "markdown",
      "metadata": {
        "id": "4tIc4nuonCue"
      },
      "source": [
        "On your local machine, you can run this training for 1000 train_steps and get your own model. This training takes about 5 to 10 minutes to run."
      ]
    },
    {
      "cell_type": "code",
      "execution_count": 28,
      "metadata": {
        "id": "VU-j8hs-nCue"
      },
      "outputs": [
        {
          "name": "stderr",
          "output_type": "stream",
          "text": [
            "c:\\Users\\chern\\AppData\\Local\\Programs\\Python\\Python310\\lib\\site-packages\\jax\\_src\\xla_bridge.py:1183: UserWarning: jax.host_count has been renamed to jax.process_count. This alias will eventually be removed; please update your code.\n",
            "  warnings.warn(\n",
            "c:\\Users\\chern\\AppData\\Local\\Programs\\Python\\Python310\\lib\\site-packages\\trax\\layers\\base.py:851: FutureWarning: GzipFile was opened for writing, but this will change in future Python releases.  Specify the mode argument for opening it for writing.\n",
            "  with gzip.GzipFile(fileobj=f, compresslevel=compresslevel) as gzipf:\n"
          ]
        },
        {
          "name": "stdout",
          "output_type": "stream",
          "text": [
            "\n",
            "Step      1: Total number of trainable weights: 1780117\n",
            "Step      1: Ran 1 train steps in 3.32 secs\n",
            "Step      1: train CrossEntropyLoss |  2.51324964\n"
          ]
        },
        {
          "name": "stderr",
          "output_type": "stream",
          "text": [
            "c:\\Users\\chern\\AppData\\Local\\Programs\\Python\\Python310\\lib\\site-packages\\trax\\supervised\\training.py:1249: FutureWarning: GzipFile was opened for writing, but this will change in future Python releases.  Specify the mode argument for opening it for writing.\n",
            "  with gzip_lib.GzipFile(fileobj=f, compresslevel=2) as gzipf:\n"
          ]
        },
        {
          "name": "stdout",
          "output_type": "stream",
          "text": [
            "Step      1: eval  CrossEntropyLoss |  1.53083466\n",
            "Step      1: eval          Accuracy |  0.84281864\n"
          ]
        },
        {
          "name": "stderr",
          "output_type": "stream",
          "text": [
            "c:\\Users\\chern\\AppData\\Local\\Programs\\Python\\Python310\\lib\\site-packages\\trax\\layers\\base.py:851: FutureWarning: GzipFile was opened for writing, but this will change in future Python releases.  Specify the mode argument for opening it for writing.\n",
            "  with gzip.GzipFile(fileobj=f, compresslevel=compresslevel) as gzipf:\n"
          ]
        },
        {
          "name": "stdout",
          "output_type": "stream",
          "text": [
            "\n",
            "Step    100: Ran 99 train steps in 56.07 secs\n",
            "Step    100: train CrossEntropyLoss |  0.49858364\n"
          ]
        },
        {
          "name": "stderr",
          "output_type": "stream",
          "text": [
            "c:\\Users\\chern\\AppData\\Local\\Programs\\Python\\Python310\\lib\\site-packages\\trax\\supervised\\training.py:1249: FutureWarning: GzipFile was opened for writing, but this will change in future Python releases.  Specify the mode argument for opening it for writing.\n",
            "  with gzip_lib.GzipFile(fileobj=f, compresslevel=2) as gzipf:\n"
          ]
        },
        {
          "name": "stdout",
          "output_type": "stream",
          "text": [
            "Step    100: eval  CrossEntropyLoss |  0.22636669\n",
            "Step    100: eval          Accuracy |  0.94273444\n"
          ]
        }
      ],
      "source": [
        "train_steps = 100            # In coursera we can only train 100 steps\n",
        "#!rm -f 'model/model.pkl.gz'  # Remove old model.pkl if it exists\n",
        "\n",
        "# Train the model\n",
        "training_loop = train_model(NER(), train_generator, eval_generator, train_steps)"
      ]
    },
    {
      "cell_type": "markdown",
      "metadata": {
        "id": "p1QvV66ZLr3i"
      },
      "source": [
        "**Expected output (Approximately)**\n",
        "\n",
        "```\n",
        "...\n",
        "Step      1: train CrossEntropyLoss |  2.94375849\n",
        "Step      1: eval  CrossEntropyLoss |  1.93172036\n",
        "Step      1: eval          Accuracy |  0.78727312\n",
        "Step    100: train CrossEntropyLoss |  0.57727730\n",
        "Step    100: eval  CrossEntropyLoss |  0.36356260\n",
        "Step    100: eval          Accuracy |  0.90943187\n",
        "...\n",
        "```\n",
        "This value may change between executions, but it must be around 90% of accuracy on train and validations sets, after 100 training steps."
      ]
    },
    {
      "cell_type": "markdown",
      "metadata": {
        "id": "lQTurbC0nCuh"
      },
      "source": [
        "We have trained the model longer, and we give you such a trained model. In that way, we ensure you can continue with the rest of the assignment even if you had some troubles up to here, and also we are sure that everybody will get the same outputs for the last example. However, you are free to try your model, as well."
      ]
    },
    {
      "cell_type": "code",
      "execution_count": 29,
      "metadata": {
        "id": "ecIG67nenCui",
        "scrolled": true
      },
      "outputs": [
        {
          "data": {
            "text/plain": [
              "((array([[-0.1148735 ,  0.00726268,  0.28019354, ...,  0.04282396,\n",
              "          -0.10638429,  0.13997601],\n",
              "         [ 0.18202893, -0.25140134,  0.03494908, ..., -0.04618914,\n",
              "           0.06931378,  0.10658744],\n",
              "         [-0.2965176 ,  0.20166358, -0.08879758, ...,  0.05422233,\n",
              "          -0.04874084,  0.19499344],\n",
              "         ...,\n",
              "         [ 0.19289273, -0.07920614, -0.06741396, ...,  0.20393668,\n",
              "          -0.11902505, -0.12039971],\n",
              "         [-0.23887767, -0.23046334, -0.2321192 , ..., -0.13615133,\n",
              "          -0.09045814, -0.08348482],\n",
              "         [ 0.20546931, -0.1092803 ,  0.12506644, ...,  0.12896301,\n",
              "          -0.22928591,  0.1747419 ]], dtype=float32),\n",
              "  (((), ((), ())),\n",
              "   ((array([[-0.2844207 ,  0.12856212, -0.11171238, ...,  0.66615516,\n",
              "             -0.46737722,  0.10409106],\n",
              "            [ 0.20707802, -0.22274819,  0.0776396 , ..., -0.13027544,\n",
              "              0.31771034, -0.3036604 ],\n",
              "            [ 0.31596878, -0.06914942,  0.1393748 , ..., -0.320109  ,\n",
              "              0.52558976,  0.03320133],\n",
              "            ...,\n",
              "            [ 0.17573836,  0.12755956, -0.11661298, ..., -0.03796002,\n",
              "              0.06354768, -0.03225962],\n",
              "            [ 0.13616797,  0.17565154,  0.03354094, ..., -0.07808549,\n",
              "             -0.12691559,  0.04390147],\n",
              "            [ 0.02924777,  0.21847995, -0.01198325, ..., -0.07495771,\n",
              "              0.06425066,  0.00510066]], dtype=float32),\n",
              "     array([1.1227146 , 1.2434723 , 1.2169887 , 1.3465697 , 1.2170672 ,\n",
              "            0.9552797 , 1.0553315 , 0.96060044, 1.1090277 , 0.9727305 ,\n",
              "            0.9858577 , 1.2113256 , 1.000029  , 0.949941  , 1.0823907 ,\n",
              "            1.0922136 , 1.183574  , 1.0273496 , 1.3354816 , 1.2351009 ,\n",
              "            1.1060975 , 1.1125951 , 0.9665793 , 1.1384094 , 0.9883497 ,\n",
              "            1.1242241 , 1.0978302 , 0.9788191 , 1.0648862 , 1.1856878 ,\n",
              "            1.1198967 , 1.1337335 , 1.0612438 , 1.2206637 , 1.1100233 ,\n",
              "            1.2026125 , 0.95736086, 1.1899303 , 1.1223959 , 1.1250205 ,\n",
              "            1.07982   , 1.1382296 , 1.0012226 , 0.9923901 , 1.1018298 ,\n",
              "            1.004287  , 1.0996424 , 0.9642223 , 1.1249226 , 0.9597798 ,\n",
              "            1.1027964 , 1.1392684 , 1.1900741 , 1.3300827 , 0.68625015,\n",
              "            0.9095882 , 0.95323694, 0.85433525, 1.086787  , 0.8375909 ,\n",
              "            0.8293041 , 1.1041236 , 0.87444186, 0.89598364, 0.94085574,\n",
              "            1.076522  , 1.1274914 , 0.9555548 , 1.310433  , 1.1784189 ,\n",
              "            1.1219274 , 1.0912901 , 0.8933515 , 1.0837685 , 0.7819057 ,\n",
              "            1.1179845 , 1.1079828 , 0.88792497, 0.82679546, 1.0628008 ,\n",
              "            1.0177556 , 1.1151105 , 0.8396571 , 0.9281335 , 1.0769137 ,\n",
              "            1.1617993 , 0.936894  , 1.2571138 , 1.076055  , 1.0755128 ,\n",
              "            1.0738221 , 0.7069282 , 0.78619516, 0.96817964, 1.0689584 ,\n",
              "            0.9511269 , 1.0777376 , 0.92326427, 1.1437716 , 0.9140658 ,\n",
              "            1.0621716 , 1.085799  , 1.0578417 , 1.0858496 , 0.98710126,\n",
              "            0.93685997, 0.9674591 , 0.93438303, 1.0736215 , 0.93963784,\n",
              "            0.9704629 , 1.057287  , 0.94519883, 0.89439565, 0.94856036,\n",
              "            1.0675988 , 1.0616007 , 1.0663414 , 1.0655102 , 1.0661224 ,\n",
              "            1.0642542 , 1.0580903 , 0.9416779 , 1.0703045 , 0.8235636 ,\n",
              "            1.0718961 , 1.068643  , 0.9135119 , 0.829654  , 1.0655715 ,\n",
              "            1.0391682 , 1.0700495 , 0.8997994 , 0.95288974, 1.0651888 ,\n",
              "            0.9300841 , 0.9420036 , 1.0011011 , 1.0672556 , 1.0696044 ,\n",
              "            1.0670832 , 0.96829075, 0.95518064, 0.9696207 , 1.0718606 ,\n",
              "            0.9399787 , 1.0714504 , 0.90606976, 1.0769099 , 0.9208128 ,\n",
              "            1.0138643 , 1.1089886 , 1.0555857 , 1.0318825 , 1.2173047 ,\n",
              "            0.9679266 , 1.0979844 , 0.95686376, 0.9743327 , 0.9495576 ,\n",
              "            0.97613794, 0.91931117, 0.99759215, 0.93680733, 0.99680585,\n",
              "            1.0218645 , 1.0517466 , 1.0042392 , 0.9797904 , 1.0284796 ,\n",
              "            0.9663493 , 0.9649839 , 0.9548469 , 0.9931126 , 0.9589751 ,\n",
              "            1.0612038 , 1.0273988 , 0.96594024, 0.88450956, 0.95675766,\n",
              "            0.9658715 , 1.0240059 , 0.9868308 , 1.1543463 , 1.0354439 ,\n",
              "            1.068861  , 0.9662505 , 0.9030397 , 1.0037825 , 1.0656893 ,\n",
              "            0.992625  , 1.1007589 , 0.9952292 , 0.97901005, 0.9542225 ,\n",
              "            1.0019487 , 1.0424135 , 0.95325494, 0.9817169 , 0.95780367],\n",
              "           dtype=float32)),),\n",
              "   ()),\n",
              "  (array([[ 3.62791091e-01, -3.12043160e-01, -2.25351050e-01,\n",
              "            1.51213914e-01,  1.35570407e-01,  1.87091008e-01,\n",
              "            9.47239250e-03, -1.62781760e-01, -1.17520303e-01,\n",
              "           -3.19986232e-02, -2.25784168e-01, -3.70276362e-01,\n",
              "            1.47159144e-01,  1.40401453e-01, -1.07476361e-01,\n",
              "           -1.56024590e-01, -2.50647545e-01],\n",
              "          [ 1.48355290e-01,  8.08006451e-02,  1.72147006e-01,\n",
              "            3.37447613e-01,  2.18193665e-01,  1.55998126e-01,\n",
              "            1.75869972e-01,  2.02290744e-01, -2.84297436e-01,\n",
              "           -2.01612383e-01,  6.24530800e-02, -4.75244641e-01,\n",
              "           -1.16607681e-01, -1.83180049e-01, -2.27048680e-01,\n",
              "           -1.52419358e-01, -3.59660268e-01],\n",
              "          [ 3.54574382e-01,  3.75935465e-01,  2.67621219e-01,\n",
              "            1.84395626e-01,  1.85971305e-01,  1.24915287e-01,\n",
              "           -1.93658605e-01, -1.46371827e-01, -4.00575668e-01,\n",
              "           -3.80587578e-01, -2.37572491e-01,  1.09192148e-01,\n",
              "           -2.65650481e-01, -3.88819098e-01,  1.46255000e-02,\n",
              "           -9.78705660e-02, -1.12965861e-02],\n",
              "          [ 3.13788831e-01, -4.64221500e-02,  1.36620775e-01,\n",
              "            2.42124304e-01, -2.66065776e-01, -1.16575919e-01,\n",
              "           -4.77977321e-02, -3.58115047e-01,  1.68884143e-01,\n",
              "            9.23470408e-02,  3.95563364e-01,  1.33572176e-01,\n",
              "           -4.64514270e-03, -2.72285730e-01, -2.70001531e-01,\n",
              "           -2.09100559e-01,  4.74269278e-02],\n",
              "          [ 1.22312762e-01,  5.07773876e-01,  1.21609427e-01,\n",
              "           -4.36803430e-01, -4.84773070e-01,  3.42600256e-01,\n",
              "           -4.94190037e-01,  3.30266714e-01,  1.83152094e-01,\n",
              "            2.17462722e-02, -6.73657417e-01,  8.61647949e-02,\n",
              "           -2.71743089e-01, -2.81339794e-01, -2.53589660e-01,\n",
              "            1.61820114e-01, -1.87391937e-01],\n",
              "          [ 3.25363539e-02, -3.71110290e-01,  3.73491436e-01,\n",
              "           -4.47714254e-02, -8.40596929e-02, -9.27500948e-02,\n",
              "           -3.62680346e-01, -6.20558500e-01,  1.56075642e-01,\n",
              "           -3.03486139e-01,  3.07392001e-01,  1.48476064e-01,\n",
              "           -9.99545977e-02, -8.47390741e-02,  6.37865365e-02,\n",
              "            2.01356024e-01,  1.25226662e-01],\n",
              "          [-3.09398435e-02, -6.41382217e-01, -4.39105600e-01,\n",
              "            3.51241142e-01,  1.44050539e-01,  2.19373152e-01,\n",
              "            5.47917128e-01,  1.70488060e-01,  1.10712320e-01,\n",
              "            1.20751314e-01,  8.00599992e-01, -3.01990092e-01,\n",
              "            4.28140670e-01, -1.81114689e-01, -1.45392895e-01,\n",
              "           -3.61277550e-01,  1.54086202e-01],\n",
              "          [-1.23247169e-02, -1.53914049e-01,  1.49743974e-01,\n",
              "           -3.14624786e-01,  2.34269515e-01,  2.18961850e-01,\n",
              "           -5.20094812e-01,  1.94181874e-01,  1.30466461e-01,\n",
              "            1.00321367e-01, -8.04995537e-01, -3.37827206e-01,\n",
              "           -2.04433143e-01,  1.36345536e-01, -6.12874515e-02,\n",
              "           -1.32590383e-01, -3.27592604e-02],\n",
              "          [ 1.84638351e-01, -6.63750172e-02, -2.02533558e-01,\n",
              "           -2.28353858e-01, -1.15736149e-01, -2.84744769e-01,\n",
              "           -1.62911728e-01, -3.00787598e-01, -2.06059683e-03,\n",
              "           -3.29340160e-01,  2.04674944e-01, -1.28239825e-01,\n",
              "           -1.81799158e-01, -3.88114214e-01,  4.34013456e-02,\n",
              "           -2.35097751e-01,  5.86859025e-02],\n",
              "          [-8.47589746e-02,  6.47465885e-01, -4.40154821e-02,\n",
              "           -3.20502907e-01,  1.40969073e-02, -3.14621665e-02,\n",
              "            1.83425620e-01, -3.71465944e-02, -1.76672399e-01,\n",
              "           -1.32423537e-02, -7.01097965e-01,  1.47537798e-01,\n",
              "           -3.52000564e-01,  7.89482519e-02, -3.77228200e-01,\n",
              "            1.32627442e-01, -8.18130448e-02],\n",
              "          [ 7.23100528e-02, -4.43247229e-01, -2.87055135e-01,\n",
              "           -1.93781018e-01, -9.64097381e-02, -1.65808529e-01,\n",
              "           -9.47144907e-03,  7.00867968e-03,  1.58745155e-01,\n",
              "            7.20225507e-03, -2.42985606e-01, -1.74452346e-02,\n",
              "           -3.97203505e-01,  1.60920173e-01, -1.92411151e-02,\n",
              "            7.44028166e-02, -1.68612614e-01],\n",
              "          [ 6.75595105e-02,  1.95772052e-01, -3.77042979e-01,\n",
              "            2.56033063e-01, -2.50021845e-01, -8.03272352e-02,\n",
              "            2.55093306e-01,  2.89575249e-01, -2.01083198e-01,\n",
              "           -2.23736510e-01, -2.82165647e-01, -2.43885994e-01,\n",
              "           -1.15887418e-01,  1.20242923e-01, -3.32389265e-01,\n",
              "            1.12043202e-01,  3.59987319e-02],\n",
              "          [ 6.69136271e-02,  3.36488962e-01,  2.56386936e-01,\n",
              "           -1.29118443e-01, -1.33844614e-01,  4.01635349e-01,\n",
              "           -5.10084569e-01, -1.26007468e-01,  5.78742288e-02,\n",
              "           -8.02251324e-02, -5.25159240e-01, -3.43189865e-01,\n",
              "           -5.76832473e-01,  1.24039864e-02, -2.44379774e-01,\n",
              "            1.63158342e-01,  1.89294472e-01],\n",
              "          [-1.79636896e-01, -3.69065970e-01,  3.09472442e-01,\n",
              "            3.19893777e-01,  1.32997543e-01,  1.31704628e-01,\n",
              "           -5.46299934e-01, -5.88751137e-01, -7.95144960e-02,\n",
              "           -3.08727622e-01, -6.85431480e-01, -2.07636561e-02,\n",
              "           -4.50653464e-01, -1.59124047e-01, -1.53893098e-01,\n",
              "            1.04407273e-01, -3.15098405e-01],\n",
              "          [ 1.74420923e-01, -2.95433074e-01,  1.53768919e-02,\n",
              "            1.40937537e-01,  5.34529760e-02, -3.79545003e-01,\n",
              "           -1.10516027e-02, -5.10904372e-01,  9.05423760e-02,\n",
              "           -1.81292351e-02,  4.40082639e-01, -1.29439518e-01,\n",
              "           -4.83084559e-01, -6.71392456e-02,  2.08606958e-01,\n",
              "            1.02308966e-01,  4.10347544e-02],\n",
              "          [ 3.64307761e-01, -9.31820273e-02, -3.95924091e-01,\n",
              "           -2.52945870e-01,  7.41768703e-02, -8.91946331e-02,\n",
              "            1.96549714e-01,  2.78239965e-01, -1.30892207e-03,\n",
              "            9.49206054e-02, -1.05800010e-01,  7.55776167e-02,\n",
              "            2.39815727e-01, -2.66666234e-01, -4.18754816e-01,\n",
              "           -3.02850336e-01, -3.93685013e-01],\n",
              "          [ 3.13747883e-01,  2.28290573e-01,  2.12413639e-01,\n",
              "            3.58599611e-02, -2.11035043e-01,  1.96664020e-01,\n",
              "            6.55481964e-02, -3.68236913e-03, -2.56161511e-01,\n",
              "            2.11624652e-02, -1.51013806e-01,  8.78371894e-02,\n",
              "            1.48786351e-01,  2.98490897e-02, -3.95627260e-01,\n",
              "            7.05238208e-02, -4.36248302e-01],\n",
              "          [ 1.66729242e-01,  1.01491451e-01, -3.06897342e-01,\n",
              "           -3.36933732e-01, -9.25558284e-02, -4.35413904e-02,\n",
              "           -1.46837533e-01,  3.58102679e-01, -1.13620907e-01,\n",
              "           -2.99613088e-01,  1.44098178e-01, -8.91271513e-04,\n",
              "            1.90038413e-01, -2.92475492e-01, -1.92958474e-01,\n",
              "            1.23436175e-01,  1.30025893e-01],\n",
              "          [ 2.16647416e-01, -1.52205735e-01,  7.76642635e-02,\n",
              "            1.10685460e-01,  3.93604338e-02, -6.23030402e-02,\n",
              "            2.20483780e-01, -1.06281713e-01, -8.24307427e-02,\n",
              "           -5.56656681e-02,  2.74211764e-02, -1.21658504e-01,\n",
              "            4.09984924e-02, -1.80223763e-01, -4.60225828e-02,\n",
              "           -1.76492944e-01, -1.08614840e-01],\n",
              "          [ 3.87780190e-01, -2.00134039e-01, -3.51377040e-01,\n",
              "            2.89731443e-01, -2.05835141e-02, -7.02696387e-03,\n",
              "           -1.41438425e-01,  1.24089777e-01, -2.12790966e-01,\n",
              "           -2.38828912e-01, -1.02077529e-01, -4.06191915e-01,\n",
              "            3.28891009e-01,  1.16939493e-01, -3.04991722e-01,\n",
              "           -2.56246567e-01,  1.48396909e-01],\n",
              "          [ 2.22593367e-01, -5.18129319e-02,  4.58131433e-02,\n",
              "           -1.71049982e-01, -2.46170372e-01, -9.95104238e-02,\n",
              "            4.95339781e-02, -2.19012387e-02, -2.98564523e-01,\n",
              "           -2.71881968e-01, -1.16323814e-01,  9.24820751e-02,\n",
              "            3.42388541e-01, -1.52573273e-01,  6.52374178e-02,\n",
              "           -1.10573068e-01, -1.30202055e-01],\n",
              "          [ 3.65174830e-01,  1.26941577e-01, -6.43896908e-02,\n",
              "           -2.53851891e-01,  1.50563031e-01, -8.78606439e-02,\n",
              "           -2.36989737e-01, -1.25809506e-01, -1.00416407e-01,\n",
              "           -1.81854680e-01,  2.70867229e-01, -2.33203694e-01,\n",
              "           -7.65019357e-02, -1.26072630e-01, -1.10789435e-02,\n",
              "            2.56875176e-02, -1.62749156e-01],\n",
              "          [-1.82865158e-01,  1.21633865e-01, -3.00607592e-01,\n",
              "            2.28704810e-01,  2.15404868e-01, -9.69872773e-02,\n",
              "            2.11786956e-01, -4.62464809e-01, -1.91625878e-01,\n",
              "            9.70149711e-02,  2.60635495e-01,  1.49110049e-01,\n",
              "           -1.39830977e-01, -1.93533212e-01, -1.59290761e-01,\n",
              "            8.15846547e-02, -3.98624063e-01],\n",
              "          [ 3.50540459e-01, -3.21204096e-01, -3.31446767e-01,\n",
              "            2.37733468e-01, -1.27195954e-01, -3.04138064e-01,\n",
              "           -7.70243406e-02, -2.91723520e-01, -3.39289457e-01,\n",
              "            1.36412144e-01, -1.54358238e-01, -2.96582907e-01,\n",
              "           -1.84289977e-01, -1.21935762e-01, -3.03493023e-01,\n",
              "            1.57971248e-01, -3.63821685e-01],\n",
              "          [-8.93718302e-02, -1.65435091e-01,  2.63232023e-01,\n",
              "           -4.23372269e-01,  8.11424106e-02, -2.18334630e-01,\n",
              "           -3.31834972e-01, -6.59247160e-01,  8.46252311e-03,\n",
              "            5.10574207e-02,  3.97037454e-02, -1.77697808e-01,\n",
              "            9.23981145e-02, -1.16092548e-01,  3.37839611e-02,\n",
              "           -3.29360485e-01,  4.72677201e-02],\n",
              "          [ 2.50335693e-01, -3.33230525e-01, -2.70860106e-01,\n",
              "            3.07422876e-01,  5.85452430e-02, -1.94602180e-02,\n",
              "            2.09443495e-01, -3.57384592e-01,  6.79067569e-03,\n",
              "           -3.57722014e-01,  1.86563417e-01, -2.06938460e-01,\n",
              "           -1.84714690e-01, -1.92394450e-01,  7.87465125e-02,\n",
              "           -2.00153604e-01, -3.77356410e-01],\n",
              "          [ 3.82140309e-01,  5.12267128e-02, -3.10800046e-01,\n",
              "            2.06594050e-01, -5.74030355e-02,  1.85687393e-01,\n",
              "            1.41784042e-01, -1.33606330e-01,  7.06209168e-02,\n",
              "           -1.50079489e-01,  1.25453500e-02, -1.94384769e-01,\n",
              "           -1.15994103e-01,  4.69098426e-02,  1.52708497e-03,\n",
              "           -2.07544401e-01, -3.05561274e-01],\n",
              "          [-9.58327055e-02, -2.99586877e-02,  2.18760416e-01,\n",
              "           -1.24087989e-01,  2.28242114e-01, -9.99665260e-02,\n",
              "            5.22724926e-01, -6.86986446e-01,  1.91874847e-01,\n",
              "           -2.24939942e-01, -2.88759112e-01, -9.94278044e-02,\n",
              "           -2.64132828e-01, -3.61412615e-01, -1.90043300e-01,\n",
              "           -8.40970874e-02, -7.56239295e-02],\n",
              "          [-2.53961980e-01,  3.86802465e-01,  4.99478430e-01,\n",
              "           -2.96253324e-01, -2.44396687e-01,  5.22127151e-01,\n",
              "           -2.24156708e-01,  1.89148709e-01, -3.55741441e-01,\n",
              "           -1.23458169e-01, -1.84234679e-01, -2.67304152e-01,\n",
              "            1.49633765e-01, -3.08550745e-01, -2.24277660e-01,\n",
              "           -2.00463265e-01, -4.04849231e-01],\n",
              "          [ 2.64263272e-01,  2.43150891e-04,  7.77285919e-02,\n",
              "           -1.49520993e-01,  2.36859366e-01, -1.54770702e-01,\n",
              "            4.47234251e-02, -3.00606430e-01, -2.55218446e-01,\n",
              "           -5.78390732e-02, -4.45729308e-02,  3.52516435e-02,\n",
              "            1.58568680e-01,  7.98837170e-02, -2.85351276e-01,\n",
              "           -5.62331825e-02, -1.09131292e-01],\n",
              "          [ 1.89729631e-01,  1.26240566e-01, -3.74585003e-01,\n",
              "           -1.30942553e-01, -1.29661217e-01,  2.47877643e-01,\n",
              "           -2.39133865e-01,  3.86183947e-01,  1.29914135e-01,\n",
              "            1.29575536e-01, -3.59046161e-01, -2.77215391e-01,\n",
              "            3.01210657e-02, -2.10472390e-01, -1.17470264e-01,\n",
              "           -4.23004210e-01, -2.32807294e-01],\n",
              "          [ 2.31714070e-01, -2.67737865e-01, -1.07843630e-01,\n",
              "            7.01669157e-02,  1.59434811e-03,  2.71137357e-01,\n",
              "            2.87699372e-01, -1.88711315e-01, -1.30216837e-01,\n",
              "           -2.74453580e-01, -9.50568467e-02, -3.64060551e-01,\n",
              "           -4.81597036e-02, -1.59709334e-01,  2.73084417e-02,\n",
              "           -9.80343372e-02,  1.01710521e-02],\n",
              "          [ 9.20766890e-02,  2.24558517e-01, -3.21784884e-01,\n",
              "            3.06143820e-01,  6.79332837e-02,  1.99719891e-01,\n",
              "           -1.09349973e-01,  1.78356260e-01,  1.71165735e-01,\n",
              "           -1.22818261e-01,  1.28972545e-01,  4.86991815e-02,\n",
              "           -4.57978487e-01,  1.34957805e-01, -3.69963139e-01,\n",
              "           -3.56484771e-01, -2.22859457e-01],\n",
              "          [ 1.73149947e-02,  6.50882542e-01,  5.07016718e-01,\n",
              "            6.81985557e-01, -1.15425058e-01, -5.86004019e-01,\n",
              "           -5.48103213e-01, -7.59604931e-01, -2.08992988e-01,\n",
              "           -3.25695902e-01,  7.85109997e-01, -3.69645119e-01,\n",
              "           -3.32423866e-01, -1.75979845e-02,  1.23286396e-01,\n",
              "           -3.88707081e-03,  2.12560557e-02],\n",
              "          [ 3.78818572e-01, -2.42416009e-01,  2.09624961e-01,\n",
              "           -2.82816738e-01,  2.45426372e-01,  1.00400805e-01,\n",
              "           -1.98632807e-01,  8.15771818e-02, -1.55658811e-01,\n",
              "           -3.51134062e-01, -4.13128361e-02, -3.84887278e-01,\n",
              "            3.05315554e-01, -2.61369437e-01, -2.87413001e-01,\n",
              "            1.29357353e-01,  5.01998626e-02],\n",
              "          [ 2.05135807e-01,  8.64622891e-02,  1.79267690e-01,\n",
              "            1.38802975e-01, -3.51530984e-02, -1.52964532e-01,\n",
              "           -4.06669885e-01, -2.95272499e-01, -3.31808746e-01,\n",
              "            9.75527316e-02, -4.41967487e-01, -2.29448661e-01,\n",
              "           -1.99564248e-01, -5.83707057e-02,  1.09473094e-01,\n",
              "            1.40009657e-01,  6.78830221e-02],\n",
              "          [-2.31433719e-01,  3.46506685e-01,  1.18598446e-01,\n",
              "            1.06593773e-01,  1.50593475e-01, -3.07438746e-02,\n",
              "            2.28547812e-01, -3.02872777e-01, -2.99364984e-01,\n",
              "            1.00214094e-01,  5.14966071e-01, -1.50884330e-01,\n",
              "            9.10707787e-02, -2.96979040e-01, -8.02597329e-02,\n",
              "            1.32500380e-01,  9.02846679e-02],\n",
              "          [ 4.67010438e-02, -1.52676299e-01,  2.47781441e-01,\n",
              "            2.54520208e-01,  1.17451489e-01,  3.60182405e-01,\n",
              "           -3.78529996e-01,  2.44448557e-01, -1.46375149e-01,\n",
              "            1.07048780e-01, -1.74968496e-01, -1.34990038e-03,\n",
              "            1.66446164e-01, -1.29238188e-01, -9.91253257e-02,\n",
              "           -3.16109657e-01, -3.75624269e-01],\n",
              "          [ 1.96850777e-01, -3.56202185e-01, -1.84116632e-01,\n",
              "           -3.64279002e-01, -2.52738148e-01, -1.88580379e-01,\n",
              "           -2.28238180e-01,  4.04211469e-02, -1.47371758e-02,\n",
              "           -6.13441914e-02,  1.64442420e-01, -2.49607280e-01,\n",
              "            2.27337882e-01,  1.53110344e-02, -4.22544003e-01,\n",
              "            8.85833874e-02, -3.02114338e-01],\n",
              "          [ 2.12245390e-01, -1.16189629e-01,  7.45979548e-02,\n",
              "            3.47579777e-01, -2.75523424e-01,  3.06995600e-01,\n",
              "            1.62558630e-01,  2.58129478e-01, -3.08050126e-01,\n",
              "           -4.34588790e-01, -1.94599271e-01, -3.93981844e-01,\n",
              "           -1.83343381e-01, -4.32248473e-01,  1.91747323e-02,\n",
              "           -4.04164165e-01, -4.38961595e-01],\n",
              "          [ 2.76379466e-01,  8.38882327e-02, -2.37581000e-01,\n",
              "           -3.19204718e-01, -2.28298083e-02, -4.93296562e-03,\n",
              "            3.11741889e-01, -2.27060169e-01,  1.84834704e-01,\n",
              "           -1.81813270e-01,  1.96606386e-02, -2.48340204e-01,\n",
              "           -1.80528373e-01, -2.09591150e-01, -1.00305356e-01,\n",
              "           -3.88259321e-01, -4.15299326e-01],\n",
              "          [ 3.74703258e-02,  5.97062707e-01, -1.43205643e-01,\n",
              "            2.56611764e-01, -4.48314220e-01,  2.53932029e-01,\n",
              "           -2.59425521e-01, -1.48685992e-01,  1.43607289e-01,\n",
              "           -4.72704843e-02, -2.05852985e-01, -8.03044364e-02,\n",
              "           -3.21718872e-01, -8.84658545e-02,  3.45954299e-02,\n",
              "            5.98683171e-02,  1.02245500e-02],\n",
              "          [-2.53684185e-02, -1.87322974e-01, -3.34535062e-01,\n",
              "            1.31837279e-01, -2.38511860e-01,  1.18537880e-01,\n",
              "           -3.89264435e-01,  2.74688780e-01, -1.60737395e-01,\n",
              "            2.18068048e-01, -2.15200052e-01, -7.77202994e-02,\n",
              "           -3.76030147e-01, -1.12031419e-02, -2.52915114e-01,\n",
              "            3.03649157e-02, -6.79167062e-02],\n",
              "          [-2.60957271e-01,  5.31341851e-01,  2.99548984e-01,\n",
              "            2.92783648e-01,  4.50533591e-02,  5.70412099e-01,\n",
              "            8.80497694e-03,  3.30708861e-01, -3.28153670e-01,\n",
              "           -2.42144182e-01,  1.66153371e-01, -2.47297764e-01,\n",
              "           -3.14147957e-03, -4.04728344e-03, -3.62526178e-01,\n",
              "           -3.52608472e-01, -3.38198952e-02],\n",
              "          [ 2.39812002e-01,  8.65583494e-03,  2.69619495e-01,\n",
              "           -3.39878559e-01,  1.02886921e-02, -2.18532924e-02,\n",
              "           -2.18976974e-01,  3.40950564e-02,  1.00466363e-01,\n",
              "           -2.09381804e-01, -5.13351522e-02,  1.31182045e-01,\n",
              "           -3.13923180e-01, -1.25184625e-01, -3.35415304e-01,\n",
              "           -2.05392107e-01, -3.07145119e-01],\n",
              "          [-1.34490743e-01,  6.25799298e-01, -2.08455399e-01,\n",
              "            2.38886029e-01,  8.48163068e-02,  5.36219716e-01,\n",
              "            4.59576368e-01, -2.43183970e-01, -1.80243373e-01,\n",
              "           -1.03603005e-01,  3.98546457e-01, -2.13372380e-01,\n",
              "           -9.46821421e-02,  8.99423435e-02, -3.95577997e-01,\n",
              "           -1.01976439e-01, -2.80725807e-01],\n",
              "          [ 2.44151846e-01, -1.31059617e-01, -2.89515173e-03,\n",
              "           -3.39441389e-01, -2.80754834e-01, -2.08367899e-01,\n",
              "            1.72884926e-01, -8.00612867e-02,  5.67067824e-02,\n",
              "           -3.85373771e-01,  3.11269134e-01, -1.05471477e-01,\n",
              "            5.59577756e-02, -4.33655739e-01, -1.66070491e-01,\n",
              "           -3.24570656e-01, -3.44569772e-01],\n",
              "          [-1.02572173e-01, -8.46643090e-01,  2.85977602e-01,\n",
              "            2.38192260e-01,  1.54589236e-01, -5.62418163e-01,\n",
              "           -5.19577146e-01,  2.62268782e-01, -9.46283266e-02,\n",
              "            1.65270552e-01,  2.15458602e-01,  1.34468377e-01,\n",
              "            1.30634382e-02, -1.73554067e-02, -3.23115826e-01,\n",
              "           -3.91641289e-01, -2.27895975e-01],\n",
              "          [ 3.85025591e-01,  9.57903452e-03,  1.05453752e-01,\n",
              "            5.16034812e-02,  1.52108029e-01, -4.50832397e-02,\n",
              "           -5.66906817e-02,  1.84973612e-01,  8.67901221e-02,\n",
              "           -2.44643494e-01,  4.85708751e-02, -4.11149830e-01,\n",
              "           -6.12575859e-02, -2.50002921e-01, -1.13407552e-01,\n",
              "            1.42666996e-01,  1.25814721e-01],\n",
              "          [-1.84980974e-01,  3.68272394e-01, -2.76741564e-01,\n",
              "            1.37673080e-01,  2.06725150e-01,  4.14465517e-01,\n",
              "            1.57873109e-01, -4.10605282e-01,  1.70207664e-01,\n",
              "           -3.84552389e-01,  3.44505936e-01,  7.28301927e-02,\n",
              "           -1.34355620e-01, -3.27944458e-01, -2.06873909e-01,\n",
              "            1.26633674e-01, -3.48027676e-01]], dtype=float32),\n",
              "   array([ 0.08988032,  0.06291711,  0.02789836,  0.13451576, -0.01678602,\n",
              "           0.1788325 , -0.0455251 ,  0.00712756, -0.12096443, -0.15084562,\n",
              "          -0.16169608, -0.18281029, -0.08128547, -0.16426857, -0.19936939,\n",
              "          -0.1411423 , -0.17826095], dtype=float32)),\n",
              "  ()),\n",
              " ((), (((), ((), ())), ((), ()), ()), (), ()))"
            ]
          },
          "execution_count": 29,
          "metadata": {},
          "output_type": "execute_result"
        }
      ],
      "source": [
        "# loading in a pretrained model..\n",
        "model = NER()\n",
        "model.init(trax.shapes.ShapeDtype((1, 1), dtype=np.int32))\n",
        "\n",
        "# Load the pretrained model\n",
        "model.init_from_file('model/model.pkl.gz', weights_only=True)"
      ]
    },
    {
      "cell_type": "markdown",
      "metadata": {
        "id": "c4r-gXOZLr3j"
      },
      "source": [
        "<a name=\"4\"></a>\n",
        "# Part 4:  Compute Accuracy\n",
        "\n",
        "You will now evaluate in the test set. Previously, you have seen the accuracy on the training set and the validation (noted as eval) set. You will now evaluate on your test set. To get a good evaluation, you will need to create a mask to avoid counting the padding tokens when computing the accuracy.\n",
        "\n",
        "<a name=\"ex04\"></a>\n",
        "### Exercise 04\n",
        "\n",
        "**Instructions:** Write a program that takes in your model and uses it to evaluate on the test set. You should be able to get an accuracy of 95%.  \n"
      ]
    },
    {
      "cell_type": "markdown",
      "metadata": {
        "id": "AmIvd_GXnCuk"
      },
      "source": [
        "\n",
        "<details>    \n",
        "<summary>\n",
        "    <font size=\"3\" color=\"darkgreen\"><b>More Detailed Instructions </b></font>\n",
        "</summary>\n",
        "\n",
        "* *Step 1*: model(sentences) will give you the predicted output.\n",
        "\n",
        "* *Step 2*: Prediction will produce an output with an added dimension. For each sentence, for each word, there will be a vector of probabilities for each tag type. For each sentence,word, you need to pick the maximum valued tag. This will require `np.argmax` and careful use of the `axis` argument.\n",
        "* *Step 3*: Create a mask to prevent counting pad characters. It has the same dimension as output. An example below on matrix comparison provides a hint.\n",
        "* *Step 4*: Compute the accuracy metric by comparing your outputs against your test labels. Take the sum of that and divide by the total number of **unpadded** tokens. Use your mask value to mask the padded tokens. Return the accuracy.\n",
        "</detail>"
      ]
    },
    {
      "cell_type": "code",
      "execution_count": 30,
      "metadata": {
        "id": "qaSy_NywnCul",
        "scrolled": true
      },
      "outputs": [
        {
          "data": {
            "text/plain": [
              "array([False,  True, False, False])"
            ]
          },
          "execution_count": 30,
          "metadata": {},
          "output_type": "execute_result"
        }
      ],
      "source": [
        "#Example of a comparision on a matrix\n",
        "a = np.array([1, 2, 3, 4])\n",
        "a == 2"
      ]
    },
    {
      "cell_type": "code",
      "execution_count": 31,
      "metadata": {
        "id": "3H0Kx1rnnCun",
        "scrolled": true
      },
      "outputs": [
        {
          "name": "stdout",
          "output_type": "stream",
          "text": [
            "input shapes (7194, 70) (7194, 70)\n"
          ]
        }
      ],
      "source": [
        "# create the evaluation inputs\n",
        "x, y = next(data_generator(len(test_sentences), test_sentences, test_labels, vocab['<PAD>']))\n",
        "print(\"input shapes\", x.shape, y.shape)"
      ]
    },
    {
      "cell_type": "code",
      "execution_count": 32,
      "metadata": {
        "id": "rh16zSTonCuq"
      },
      "outputs": [
        {
          "name": "stdout",
          "output_type": "stream",
          "text": [
            "<class 'jaxlib.xla_extension.ArrayImpl'>\n",
            "tmp_pred has shape: (7194, 70, 17)\n"
          ]
        }
      ],
      "source": [
        "# sample prediction\n",
        "tmp_pred = model(x)\n",
        "print(type(tmp_pred))\n",
        "print(f\"tmp_pred has shape: {tmp_pred.shape}\")"
      ]
    },
    {
      "cell_type": "markdown",
      "metadata": {
        "id": "78l5MTSBnCut"
      },
      "source": [
        "Note that the model's prediction has 3 axes:\n",
        "- the number of examples\n",
        "- the number of words in each example (padded to be as long as the longest sentence in the batch)\n",
        "- the number of possible targets (the 17 named entity tags)."
      ]
    },
    {
      "cell_type": "code",
      "execution_count": 33,
      "metadata": {
        "id": "8ek59ro9nCut"
      },
      "outputs": [],
      "source": [
        "# UNQ_C4 (UNIQUE CELL IDENTIFIER, DO NOT EDIT)\n",
        "# GRADED FUNCTION: evaluate_prediction\n",
        "def evaluate_prediction(pred, labels, pad):\n",
        "    \"\"\"\n",
        "    Inputs:\n",
        "        pred: prediction array with shape\n",
        "            (num examples, max sentence length in batch, num of classes)\n",
        "        labels: array of size (batch_size, seq_len)\n",
        "        pad: integer representing pad character\n",
        "    Outputs:\n",
        "        accuracy: float\n",
        "    \"\"\"\n",
        "    ### START CODE HERE (Replace instances of 'None' with your code) ###\n",
        "## step 1 ##\n",
        "    outputs = np.argmax(pred, axis=2)\n",
        "    print(\"outputs shape:\", outputs.shape)\n",
        "\n",
        "## step 2 ##\n",
        "    mask = labels != pad\n",
        "    print(\"mask shape:\", mask.shape, \"mask[0][20:30]:\", mask[0][20:30])\n",
        "## step 3 ##\n",
        "    accuracy = (np.sum(outputs == labels)) / float(np.sum(mask))\n",
        "    ### END CODE HERE ###\n",
        "    return accuracy\n"
      ]
    },
    {
      "cell_type": "code",
      "execution_count": 34,
      "metadata": {
        "id": "yCWFwt3m1sgL",
        "scrolled": true
      },
      "outputs": [
        {
          "name": "stdout",
          "output_type": "stream",
          "text": [
            "outputs shape: (7194, 70)\n",
            "mask shape: (7194, 70) mask[0][20:30]: [ True  True  True False False False False False False False]\n",
            "accuracy:  0.9399682\n"
          ]
        }
      ],
      "source": [
        "accuracy = evaluate_prediction(model(x), y, vocab['<PAD>'])\n",
        "print(\"accuracy: \", accuracy)"
      ]
    },
    {
      "cell_type": "markdown",
      "metadata": {
        "id": "NcTJupqo5RcP"
      },
      "source": [
        "**Expected output (Approximately)**   \n",
        "```\n",
        "outputs shape: (7194, 70)\n",
        "mask shape: (7194, 70) mask[0][20:30]: [ True  True  True False False False False False False False]\n",
        "accuracy:  0.9543761281155191\n",
        "```\n"
      ]
    },
    {
      "cell_type": "markdown",
      "metadata": {
        "id": "b2FEleAFLr3r"
      },
      "source": [
        "<a name=\"5\"></a>\n",
        "# Part 5:  Testing with your own sentence\n"
      ]
    },
    {
      "cell_type": "markdown",
      "metadata": {
        "id": "EOeTPAx_Lr3t"
      },
      "source": [
        "Below, you can test it out with your own sentence!"
      ]
    },
    {
      "cell_type": "code",
      "execution_count": 35,
      "metadata": {
        "id": "0K4SyB20cHRf",
        "scrolled": true
      },
      "outputs": [],
      "source": [
        "# This is the function you will be using to test your own sentence.\n",
        "def predict(sentence, model, vocab, tag_map):\n",
        "    s = [vocab[token] if token in vocab else vocab['UNK'] for token in sentence.split(' ')]\n",
        "    batch_data = np.ones((1, len(s)))\n",
        "    batch_data[0][:] = s\n",
        "    sentence = np.array(batch_data).astype(int)\n",
        "    output = model(sentence)\n",
        "    outputs = np.argmax(output, axis=2)\n",
        "    labels = list(tag_map.keys())\n",
        "    pred = []\n",
        "    for i in range(len(outputs[0])):\n",
        "        idx = outputs[0][i]\n",
        "        pred_label = labels[idx]\n",
        "        pred.append(pred_label)\n",
        "    return pred"
      ]
    },
    {
      "cell_type": "code",
      "execution_count": 41,
      "metadata": {
        "id": "vLZCHoiULr3u",
        "scrolled": true
      },
      "outputs": [
        {
          "name": "stdout",
          "output_type": "stream",
          "text": [
            "Sharon B-per\n",
            "Friday B-tim\n"
          ]
        }
      ],
      "source": [
        "# Try the output for the introduction example\n",
        "#sentence = \"Many French citizens are goin to visit Morocco for summer\"\n",
        "#sentence = \"Sharon Floyd flew to Miami last Friday\"\n",
        "\n",
        "# New york times news:\n",
        "sentence = \"day morning that the White House was working to prepare for the possibility of a second wave of the coronavirus in the fall, though he said it wouldn’t necessarily come\"\n",
        "s = [vocab[token] if token in vocab else vocab['UNK'] for token in sentence.split(' ')]\n",
        "predictions = predict(sentence, model, vocab, tag_map)\n",
        "for x,y in zip(sentence.split(' '), predictions):\n",
        "    if y != 'O':\n",
        "        print(x,y)"
      ]
    },
    {
      "cell_type": "markdown",
      "metadata": {
        "id": "NHYbSnYKnCu6"
      },
      "source": [
        "** Expected Results **\n",
        "\n",
        "```\n",
        "Peter B-per\n",
        "Navarro, I-per\n",
        "White B-org\n",
        "House I-org\n",
        "Sunday B-tim\n",
        "morning I-tim\n",
        "White B-org\n",
        "House I-org\n",
        "coronavirus B-tim\n",
        "fall, B-tim\n",
        "```"
      ]
    }
  ],
  "metadata": {
    "accelerator": "GPU",
    "colab": {
      "provenance": [],
      "toc_visible": true
    },
    "coursera": {
      "schema_names": [
        "NLPC3-3A"
      ]
    },
    "kernelspec": {
      "display_name": "Python 3 (ipykernel)",
      "language": "python",
      "name": "python3"
    },
    "language_info": {
      "codemirror_mode": {
        "name": "ipython",
        "version": 3
      },
      "file_extension": ".py",
      "mimetype": "text/x-python",
      "name": "python",
      "nbconvert_exporter": "python",
      "pygments_lexer": "ipython3",
      "version": "3.10.2"
    },
    "nbTranslate": {
      "displayLangs": [
        "*"
      ],
      "hotkey": "alt-t",
      "langInMainMenu": true,
      "sourceLang": "en",
      "targetLang": "fr",
      "useGoogleTranslate": true
    },
    "varInspector": {
      "cols": {
        "lenName": 16,
        "lenType": 16,
        "lenVar": 40
      },
      "kernels_config": {
        "python": {
          "delete_cmd_postfix": "",
          "delete_cmd_prefix": "del ",
          "library": "var_list.py",
          "varRefreshCmd": "print(var_dic_list())"
        },
        "r": {
          "delete_cmd_postfix": ") ",
          "delete_cmd_prefix": "rm(",
          "library": "var_list.r",
          "varRefreshCmd": "cat(var_dic_list()) "
        }
      },
      "types_to_exclude": [
        "module",
        "function",
        "builtin_function_or_method",
        "instance",
        "_Feature"
      ],
      "window_display": false
    }
  },
  "nbformat": 4,
  "nbformat_minor": 0
}
